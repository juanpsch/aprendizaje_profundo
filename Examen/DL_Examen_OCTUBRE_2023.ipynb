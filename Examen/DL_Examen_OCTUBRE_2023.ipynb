{
  "cells": [
    {
      "cell_type": "markdown",
      "metadata": {
        "id": "ftXnmgdtOuZs"
      },
      "source": [
        "# Universidad de Buenos Aires\n",
        "# Deep Learning - Examen\n",
        "# Octubre 2023\n",
        "\n"
      ]
    },
    {
      "cell_type": "markdown",
      "metadata": {
        "id": "kkTaSvR85KJ6"
      },
      "source": []
    },
    {
      "cell_type": "markdown",
      "metadata": {
        "id": "aEx1gM2sG4OP"
      },
      "source": [
        "El examen comienza al momento de recibir este correo y la ventana de entrega estará abierta hasta el Lunes 23 de Octubre a las 20:00hs. Toda comunicación con otros alumnos respecto del examen y la resolución de los ejercicios, queda estrictamente prohibida. Los exámenes serán comparados desde el punto de vista de la redacción, de los resultados y del código para determinar que el trabajo fue 100% individual y único. El examen es a libro abierto, pudiendo utilizar los contenidos vistos en clase y otra bibliografía. Todas las soluciones deben ser originales y si se toman ideas de fuentes externas deben ser correctamente citas incluyendo el correspondiente link o página de libro.\n",
        "\n",
        "El formato de entrega debe ser un “link a un colab” (compartir a las siguientes direcciones: maxit1992@gmail.com y lelectronfou@gmail.com ) o un “link a un notebook en un github público”.\n",
        "\n",
        "**Consideraciones a tener en cuenta:**\n",
        "- Se entregará 1 solo colab para la totalidad del examen.\n",
        "- Renombrar el archivo de la siguiente manera: **APELLIDO-NOMBRE-DL-Examen OCTUBRE 2023.ipynb**\n",
        "- Los códigos deben poder ejecutarse.\n",
        "- Los resultados, cómo el código y las explicaciones deben quedar guardados y visualizables en el correspondiente link.\n",
        "- Prestar atención a las consignas, responder las preguntas cuando corresponda.\n",
        "\n"
      ]
    },
    {
      "cell_type": "markdown",
      "metadata": {
        "id": "nlfSxrehmuYW"
      },
      "source": [
        "## Ejercicio 1\n",
        "\n"
      ]
    },
    {
      "cell_type": "markdown",
      "metadata": {
        "id": "8K24O_YBWUIP"
      },
      "source": [
        "Dado el grafo de cómputo de la siguiente imagen:"
      ]
    },
    {
      "cell_type": "markdown",
      "metadata": {
        "id": "1-uXfqO9WWx2"
      },
      "source": [
        "![Graph.jpg](data:image/jpeg;base64,/9j/4AAQSkZJRgABAQEAcwBzAAD/4QAiRXhpZgAATU0AKgAAAAgAAQESAAMAAAABAAEAAAAAAAD/2wBDAAIBAQIBAQICAgICAgICAwUDAwMDAwYEBAMFBwYHBwcGBwcICQsJCAgKCAcHCg0KCgsMDAwMBwkODw0MDgsMDAz/2wBDAQICAgMDAwYDAwYMCAcIDAwMDAwMDAwMDAwMDAwMDAwMDAwMDAwMDAwMDAwMDAwMDAwMDAwMDAwMDAwMDAwMDAz/wAARCAEPASwDASIAAhEBAxEB/8QAHwAAAQUBAQEBAQEAAAAAAAAAAAECAwQFBgcICQoL/8QAtRAAAgEDAwIEAwUFBAQAAAF9AQIDAAQRBRIhMUEGE1FhByJxFDKBkaEII0KxwRVS0fAkM2JyggkKFhcYGRolJicoKSo0NTY3ODk6Q0RFRkdISUpTVFVWV1hZWmNkZWZnaGlqc3R1dnd4eXqDhIWGh4iJipKTlJWWl5iZmqKjpKWmp6ipqrKztLW2t7i5usLDxMXGx8jJytLT1NXW19jZ2uHi4+Tl5ufo6erx8vP09fb3+Pn6/8QAHwEAAwEBAQEBAQEBAQAAAAAAAAECAwQFBgcICQoL/8QAtREAAgECBAQDBAcFBAQAAQJ3AAECAxEEBSExBhJBUQdhcRMiMoEIFEKRobHBCSMzUvAVYnLRChYkNOEl8RcYGRomJygpKjU2Nzg5OkNERUZHSElKU1RVVldYWVpjZGVmZ2hpanN0dXZ3eHl6goOEhYaHiImKkpOUlZaXmJmaoqOkpaanqKmqsrO0tba3uLm6wsPExcbHyMnK0tPU1dbX2Nna4uPk5ebn6Onq8vP09fb3+Pn6/9oADAMBAAIRAxEAPwD9/KKKKACiiigAooooAKKKKACiiigAooooAKKKKACiignAoAKKZJOsSMzEKq8kk8CvKPib+3D8MvhXqX9n3viSHUdXyVGnaTC+oXW70KQhtp/3iK58RiqNCPNWkorzdjow+FrV5ctGDk/JNnrWaM186yftya54lP8AxSnwj8bahG3SbVjFpC49dsrbvyFQyftK/Ge7/wCPX4V+HbfP/P34kH67ENee88wn2W5ekZNffax6CyHGfaUY+sop/dc+kM0Zr5vj/aV+M1n/AMfXwr8PXH/Xp4lX/wBnQVYj/bl1vw0f+Kr+EnjbT416zaT5WrLj12xNuH4ihZ5hPtNr1jJL77A8hxf2VGXpKLf3XufRFFeTfDH9t/4Z/FbUPsFj4kg0/Vs4OnatE+n3efQJMF3H/dJr1ZJ1kRWU7lboQetejh8VRrx5qMlJeTuefiMLWoS5a0HF+aaH0UZorc5wooooAKKKKACiiigAooooAKKKKACiiigAooooAKKKKACiiigAooooAKKKKACiiigAooooAGOBXjfx3/a5sfhrrX/CM+HNPl8X+NrhR5el2r4S1B4D3EnSNR78n0pv7XXx31L4c6bpPhfwosdx448ZSta6arcpYxgZlu5P9mNemepIHrXN/Br4M6d8HtAaGB5L7Vr5vO1LU5/muL+Y/edm64z0HQCvBzDMKjqPDYZ2a+KXa/Ref4LzPfy/L6aprE4pXT+GO1/NvpG+mmrfVWOXvvgz4s+OEi3XxT8TyXVqx3L4e0R3tNPgHULI4IkmIyQckA13XgT4W+HfhlYfZvD+i6bpEQG0/ZoArN9W6n8TW9t+tKMCvNp4WnGXO1eXd6v73/wx6dTF1JR9mtI9lovuX/Dhgk/eo25paK6DlE24pfmz1oJxRmgDn/Hnwr8N/E2y+z+IND03Vo8YH2iBWdfo33h+BrhbH4NeLvge7XXwt8UTW9qp3N4d1t2u7CYf3Y5D88P4EivWutJtrnqYWnKXOtJd1o/vR008VUjHkesez1X3MrfAX9rix+KGst4a8QabceD/ABvbqTLpV4wK3IHG+3k6SoevHI7ivYh0r5z+M/wX0/4x6CkM0s2n6vYt5+mapbHbdadMOVdG9M9VPBFdR+yR8ctU+Imjal4b8VeXH408Iyra6iUG1L1D/q7lB6OOSOxzXpZfmFRVFhsTq38Mu/k+z/B+R5mYZfTdN4nCqyXxR3tfqn1XTXVPvc9kooor3jwQooooAKKKKACiiigAooooAKKKKACiiigAooooAKKKKACiiigAooooAKKKKACiiigD5b0WT/hOf2zPiPrVz+8Phm3tfD1kG58hSgnlI9NxZM/SvTAMV5paR/8ACvP20/HWjXX7uPxlZ22vaezcC4ZFEM6j3Xahx1wSa9JBya+Ow+809+eV/vf6WPssVa1Pl25I2/8AAV+t7+YrDmvjD41/8Febf4FfEH4heB9W8C3DePfDuqadp/hbRY78eZ4wS+YLFNEdvyhSH38Hbs96+0K+YP2g/wBhG4+MP/BRn4M/GWO38Otpfw606/tr8XO4X0sso/cNGAhVgmW5Zl254zXbT5b+8cVTmt7p6r8bP2s/Av7LfgTR9d+KHiTSfA9vq7pbI15IzR/aTGXMSsqnJAVucDha0fgt+0r4D/aJ+HsnizwV4o0vxD4bhd0k1G2ciCMoMvksBjaOSelc5+13+zJqH7UXg7TdJ0/x54g8Ayafefa2u9JtrSeW5XYy+WwuIpFC/NnIAOVHOOKyPB37G954Y/ZG8Y/C3UPHuv8AiabxZpWoaYdc1C3t4rq1F1A8W4Lbxxp8m/I4B460WjbzFeV/I8jk/wCCuHhv4l/tteFfhr8LdW8M+O9D1Twvr2r6nfWEsk81peWCoYoFVRyHJbOAc44rO/4Jyf8ABRf4hftA+IviY3xY8Kx+B/D/AIPu7h4NTuraS1hihjCEo7uNoKA5O4hvmHHFcL+wl/wS3+MfwG/ar+EfjTxtc/CKPQ/hX4T1XwiieF7e4gvdRimSMW9zOXTbJKxDbxlQmOC5Y4+tP28f2U/+Gwv2PPiH8MNP1KHwzdeNtPe2W/SDcscpZWDOqkFwdoB5zg1rL2a91feZx9o1zP7jofgB+1t8Nf2p7TUJvh3400LxdHpLrHef2fPva3Lbtu5SAQDtbBxg4Nei18Df8Edf+CYnjj9hLx9441zx3b+Dze69p9hp1reaL4g1PUpLpIDNnzkvAFjA3LtEefvMD0FffNZVIxUrRd0aU5ScbyVmB6V5jqNy3w+/bZ+HmqW2UXxlaXeh3qjgTGOPzomPrtw2P9416celeZC0/wCFl/tu+CdPtv3lv4EsbrWL5xyIZZl8mJPqRuP4VxYi96fLvzxt/wCBK/4Xv5HdhbWqc23JO/8A4C7fja3mfUoooor7E+NCiiigAooooAKKKKACiiigAooooAKKKKACiiigAooooAKKKKACiiigAooooAKKKKAPI/2sPgDc/GPw5p2qaBPHp/jbwnc/b9EuyPlZ8YeCT1jkXgj1we1cP8GPjda/FGG5sLy3bR/FejnytV0if5ZrVx1YD+KM9Qw4r6UIryz49fsp6H8ary31iGe58PeLLFcWetWB8u4THRH7SJ/stkV4eYZdP2jxOG+J/FHZSt1v0ktuzWj7nu5fmVP2aw2K+FfDLrG/RrrF/enquqcW6mlcmvLNY8XfEn9nmVY/HXhybxd4fXhfEPhm2aWSFexuLX769MlkyOfwro/AXx/8GfEuPOjeItNuJR963kl8i4T2aKTDj8RXlxxUOb2c/dl2ej/4Pqro9WWEqcvtIe9HvHVf8D0dmdlQRmmpKsq5Vgw9Qc0pbFdByhtoC0Bs+tI8qxrlmVR6scUALjFLmuL8e/tBeC/hov8AxOfEWm28zfdt4pPtFxJ7LFHudvwFc7o3ir4lftDv5fgfw7J4P8PtwfEHiW3Mcsw9be1+8fZnwP5VzyxUOb2cPel2Wr/4Hq7I6o4Opy+0n7se8tF/wfRXZtfGn42w/C+K10+xtZNb8Wa03laTo9v8010543N/djHUseOK7v8AZS+A158H/DF9qOvzw33jLxNP9t1i5jHyqx+7Ah/uIOB+dTfAX9lTQ/gjc3GrPNeeIPFeoLi91vUW8y5lB/gTtHGOyrgV6nXqZfl1RT+s4n4ukekfNvq39yWi6s8rMMypun9Ww3w/ak95W2SXSK7bt6vsiiiivcPCCiiigAooooAKKKKACiiigAooooAKKKKACiiigAooooAKKKKACiiigAooooAKKKKACqutC4bSbkWckMN35TeS8ylo0fB2lgCCVz156UazrVr4e0ye8vrmC0tLZDJLNK4RI1HJJJ44rznGrftBDLLdaH4KkIIU5ivdZX37xwt/30w9Aa569bl9yOsnsl+fkvM6KNFy9+WkVu/0835H51/F79t39ovxT8ev+Ffx65DpWoXmo/2fajQ4BHFc5kMYkjkJZmU4PIbHFfoUP2NfBHifwPpNh4r0TT/EWrWNskc2rzx4vZ5cfNIZVw+Sc966TUf2ePCGpeOvDfiRtFs01bwpG8OmzRoF+zowIK4HUDJI9Cc12wGBXgZVkNSjOrLHT9rzPTm1svR6Xv8AkfRZvxDTrwoxwFNUeVe9y6Ny73WtrfmzwG8/4J8aDYNu8OeMPiF4WIOVjs9aaSEf8AlDce2apyfsUeMbU/6D8avFkfp9p0+3uf54r6Kor0ZZHgntC3o2vyaPMjnuOW87+qi/zTPnWL9ifxjdf8f3xq8Wy+v2bT7e3/lmsn4nfsY6J4B+HOseItd174k/EBtHtnvJNPm1wwrOiDLKixhADtycE84r6gpk0C3ETJIoeNgQysMhh3BFTPIsG4tRjr0u3Kz9G2XHP8YpJylpfWyUb/OKTPif9l39s79l+xuYV0fSbHwfrMzBS2o2O64Z8nA847iT+PevtWyuY761jmiYSRzKHRh/EDyDXwT8IP8AgkndfDr49eJPF8n9mX1noup/avDOmXeZIL2M/OfO7grnap/vLuII4P2z8PPiFZ+OtOm8pGs9QsGEN9p82FnsZMZ2svoRyp6MMEV5/DdTGRpunjoRg7+6oq17bvt+ttT0OKKeAdVVcvqSqKy5nJ3s3su/rfrodHRRRX1B8qFFFFABRRRQAUUUUAFFFFABRRRQAUUUUAFFFFABRRRQAUUUUAFFFFABRRRQAUUUZ4oAM4rB8efELTvh7pi3F9JIzytst7aFTJPdOeiRoOWJrO8e/FOPw9fro+lW7az4luU3w2ETf6lTwJJm/wCWcfueTg4BNReAfhXJpOof23r90Na8Szj57gjENmD/AMsoE/hQdMn5j1JrlqVpSfs6O/V9F/m/L7zqp0Yxj7Stt0XV/wCS8/uM/R/h9qHxI1SHWPGMfl28LCWy0ENvgtj1V5+0so645VT0yRmvQwoUUoorSjRjTWmre76szrVpVHrstl0QUUUVsYhRRRQAUUUUAJtFcf8AEH4Yvrl/Hrei3K6T4mtE2xXQH7u6Qc+TOB9+PP4rnIrsaKzqU41I8sjSnUlTlzROT+G/xNXxiZtPv7Z9J8RaeAL7TpGy0fo8bdHjbqGH44PFdZmuX+Ivwzh8cRw3VvcTaXrlhlrHUYMeZbt6EHh4z/EjZBFU/AHxIn1HVG0HxBDDpvia1Te8SEiC+QcGaAtyyeqnlc4OepxhUlCXs6vyffyfn+fTsbTpxnH2lL5rt6d1+XXudpRQGzRXUcoUUUUAFFFFABRRRQAUUUUAFFFFABRRRQAUUUUAFFFFABQTiob2+h062kmnljhhiG53kYKqgdyTXh/jP9vjwzZatNpXg/S9e+I2rQko6aDAJLSF/SS4YhF98biPSuXFY2hh1etJL836LdnVhcDXxLtRi3bfsvV7L5nupbBo3f5zXzFJ8Qvj18RC0g/4Qn4e2cv3Igsmq3yD/bJ2xhv93IqpL8GfHWuN5mr/ABg8YTSN1SzigtYl+gVM/ma8yWeJ/wAKlJ+btH83f8D1I5Hb+LWjHyV5fkmvxPqgnArz7X/iLqPjHXJtC8H+VJNbtsv9WkXda2B7qv8Az0k/2RwO5rxG4/Zcmv4mW6+IfxFmZgQSNYZOD7AYqHQf2YNW8F6bHZ6D8TvHOkW9v/q40nikVO/RkOfx61zVc2xM7JUml1tJX+W1vU6KWU4aOrrJvpeLt897+n/DH0t8P/hzp/w90+WO1Elxd3j+deXtwd9zeyf3pH6nHQDoowAAK6ADFfL0EXxx8FL/AMSvx54e8Txx9INe0vyWk+ssJyPwWtPSf25dc8B/ufiZ8O9c0RE4fV9EH9qaYB3ZsYljX6qTXVRznDQShUi6a81p96uvvZz1slxM2505RqPyev3OzfyTPo6iuf8Ah38VfDvxa8Px6p4b1rT9ZsZB/rbWYSBfYjqp9jiugr2qdSM480HdPqjw6lOUJOM1ZrowoooqiQooooAKKKKACiiigArn/iD8OrH4h6VHDdNLb3VpJ59le252XFlKOjo3b0I6MCQQQas+NfHmjfDnQJtU17VLHSNOtxmS4uplijX8Sf0rwbXP20vEnxPumtfhP4Q/tWzB2t4h19nstLPvEqgyy/UACvPx2Ow1FezrO7f2Vq38lr8z0cDgcVWftKKsl9p6JfN6fLr2PU/BfxEv9F1+Lw14sWODV5QfsN6g22urov8AdP8ADKOpjPODkZFdnfa3Z6Wm66urW2XsZZVT+Zr5U8R/A3xx8Y4Y28efEbUZFSQTJYaFAtlbW7jkFXwZCR0DZH0pdK/Yr8DpGratBqXiK8x81zqV/LK7/UbsfpXk082xPwwpXXRykk7eaSl/W569TKcK/enVs+qjFtfK/L/W2h9JXXxc8K2LbZvEvh+I+j6jCv8ANqsWfxI8Paj/AMe+u6NP6eXfRNn8mr58t/2SfhtbD/kTdDk/66Qb/wCdQXn7H3w1uuvhPTY8/wDPINH/AOgkVX9qY3+SH/gT/wDkTP8AsvA/8/J/+Ar/AOSPqCK4WdQ0bK6kZBVs0/dzXycn7Imh6A+/w3rnizwu45UWGqy7B/wFiQavWt58bvhQN2j+I9D+IVhHz9j1+M2d5j0WeIbWb/eUD3raGdTj/GpO3eL5vw0f3Jmcslpy/gVk/KScfx1X3tH1JRXiPwv/AG4/DvinWotB8VWeofD/AMUuQg0/WlEcdy3/AEwnB2Sr09Dz0r2yOTzFVlIZW5BHcV6uFxlHER5qMr/p6rdfM8jFYOth5claLX5P0ezXoOooorpOYKKKKACiiigAooooACcVxHx4+POh/s/+DG1bWJJJJJn8iysoF33N/MfuxRr1LH9K7O6nW2t3kkYLHGCzMewHU18l/DK5b9pX4s6l8TtTQyaTp9xLpvhW2fmOKGNisl0B03SMDg+leVmmOlRjGlS+OW3klu36fm0etleBhXlKrW+CFr923sl69+iTFl+HXir9pnUV1n4nXl1p+hth7HwhYXDRW8S5yGupFIaV8HBXIUfz9P8ADvhvT/CWlR2Ol2Nrp9nCu1IbaIRov4Cr60pOK8Slh4wbm9ZPdvVv+uy0ParYmU4qC0itorRL5fq7vzE20bahbUrdL5bVpoRcyKXWLeN7KOpA64HrUxbFdBzi7c0YpM0bqAFxTXXcNrAMrcEEcEVC+qW8d9HatNCtzIpZIi43sB1IHUgVYBzQB5f42/ZosZ9ZfxD4M1C68DeLkO9L/TTtguD/AHZ4P9XIp78Z967b9n39qe88ReLD4H8eWUOheNoELwNGT9j1qMf8tYGPfuU6itlhxXEfHX4Rx/Fjwjst5PsPiDS3F7o+oJ8slncpypB/unGCOhBrmip4aXtsL849JfLo+zXzudUpQxUVRxXopdY/5x7p/KzPpAHIorzX9k/43N8e/gvp+sXUItdatXfTdYte9tewnbKv4nDDPZhXpVfV4evCtTjVhtJXR8niKE6NWVGpvF2fyCiiitjEKKKKADNcD+0L8fdL/Z/8FLqV5HLfX95J9l03ToOZ9QuD92NB/M9hXeucLXyh4VkPx9/aP8SeNr8mbS/Cdw+geHoG5SIp/wAfE4H95mwAfQV5ea4ydGChS+ObsvLu/kvxsetlOChWnKpW+CCu/Psvm9/K43wz8GdY+K/iGLxh8VriPWNX3ebp+hof+JXoaHooTpJL6u2ec47Y9XhhSGJUjVY41GFVRtUD2FOXrSk4FeLRoRp7at7t7t+bPZrYidRq+iWyWiS7JBtoximlsCl3VsYC0EZqvqWqW+jadPeXlxDa2lrG0s00ziOOJFGSzMeAAOSTVPwf400j4heGrPWtA1TTtb0fUIxNa31hcpcW1yh/iSRCVYe4JFAGptpNtG6lBoAxfG3gDRfiRoUum67ptrqdnMMGOZASvup6qfcEGvPfCvxB179ifV7e11a81DxF8K7mRYoru4YzXnhok4Akbq8H+0eVr1yqur6Ra69plxY3sEd1Z3kbQzRSLuWRGGCCPeuepRfN7Wi+Wa2f6Puv6Wp0U6y5fY1lzQe6/Vdn5/foetaZqMGr2EN1ayxz29wgkjkRtyupGQQasV88/sMeJrrwnf8Ai74W6hPLcS+BriKXTJZDlptOuQXhGe5jIZD6DbX0MDmvpMDiliaEatrN7rs1o19583mGEeGryo3uls+6aun80wooorsOMKKKKACiiigDif2ktSudI+AHjK6s9wuoNHuXi2nncI2xivJ/2bdOt9K+APg2C12/Z10i3ddvTLIGb/x4mvoLxDo8PiHQrywuVDW95C0EgIzlWBB/nXyv+y7d3XgW01b4Z60zLrXge4aGAv1vLB2LQTD1+U7T6EYr5vNU44ynN7Si4r1unb5r8j6TKWp4OpTjvGSk/SzV/k/zPXK4f9pf4vN8AP2e/G3jhbFtSfwnot1qq2oO37QYYmcJnsCRgnsM12ynAqHVdKttc0y4s7y3hurS6jaGaGVAySowwysDwQQcEGojvqaPY/Kf9h39ob4iftPf8FYPgr4w+IWpfDm8n8RfB/VNY0y18J3Ekn9m21zPbSrb3YcnE6ZwSvB54GK9e/bl/wCCg3xI+BX7T174X8P/ABO+DfhvSYFgKafr/hfWL7UE3jJ3S26mI57Y6d6+qPgv+wl8H/2d/Faa74H+HPhXwvrEaTRLeafYrDMqTFTKoYc7W2rkdOBXp114d0++uPOmsLKaX+/JArN+ZFbyqxcrpaWMI058tm9T5U/4Kffty+Iv2OP2aPC/iDw3qnhW38SeJLyC0gfU9Nur2G5Zo97+Tbw4kZsZIBIwOtfLPjH/AILYfGPxJ/wSUvvixoXw8vD4qS/m0268SaRHF/ZWiNBqEMHmTW9w3mDzlYqEAYqzjPSv0n+OH7OPgX9pTwnDofjzwto/irSLeZbiK11C3EscUi9GXPQj1FJ8Pv2bfAPws+HNx4P8P+EdA0vwvdTtczaVDZp9lllZgxdoyMEllBye4BpRqQUbNa3HKnNvR6WPzH/al/ad+KXiT/gop8BvF+i+HNB+EfjebwF4ljSx+I96gtoY08kmQ/Z2IYyquUUMPvDOMV99/wDBNz9qvUv21P2NfBvxG1rS7XSdX1uGRLyC1YtbNLFK0bPCTyY225B9+/Wum+Of7GHwr/aY1S0vfH3gPw34svLC1extptRs1meCB2RnjUn7qsyISB12iu58EeB9H+GvhLT9B0DTbPR9F0qFbezsrSIRQ20Y6KqjgAUqlSMopJahTpyUm29DVpGpc1ifEXx5p/wy8Falr2qS+VY6bC0rnux7KPUk4A+tc8pRjFylsjohFykoxWrMr9in/Qfix8bLG3/48Y/E8VyoH3fOltIml/Hd1r6IrxX9hT4b6p4N+EF1rXiCFrfxF471KbxHfwsObUz7fLh/4BGqjHYkivaq9bJacoYOCkrXu7drttL7meVndSM8bPld7WV+7SSb+bQUUUV6h5QUUUUARXoLWcwX7xQgflXyr+xxiP4T3cLf8fVvreoR3OevmfaHPP4EV9XN92vlLxFbt+zD+0xqFreL5Xg34lXP2vT7rpHZaljEkDenmcMCepzXz+dRcJ0sQ/hV0/LmtZ/erfM+hyOXPTq4dfE7SXny3uvud/kerUHpTQcU7rXObn5Ff8FLv+Ct3x0+Bn/BRHxD8PfBt5Z+G9B8J2+lSadaXlnZfZ/ErXBLTNNPcyJIq87V+zhiNhzgmvtX/gor8WfGHgH4BeGdU8NeKfHngnVr66T7VN4T8Dx+LrhsxBjG8DMoRAx++DyeK958a/BPwb8SdRt7zxF4T8Oa7eWoAhn1DToriSIA5G1nUkYPpXTxD7OuI8xgDAC8YFbOpHSy2MY05a3e58h/s3fEXxN8Tf8Agn58QtQ8WeKPG3i3Uls9SiW98U+DE8KXqoLfhBaozAoMnD55yfSvhr/gmP8Ats/FrwLafA/wL4F8eeEfi7D4k8MXom8CCxTTT4UktwWgM94NzhZCSCzjHoCK/Z28to9Rt5IbhVnimUo6SDcrqeCCD1Fc/wCFvg54R8DavJqGi+F/D+kX8sYie5stPigldB0Usqg4HpTjWSTTW4SpNtNPY+Af2rf26fj34M+J/wALvBHjjX/AP7Ls/irT9T1XUdeWRPEtgXtpEW3slllWNA0oYsRjcAOMmv0E+F+sTeIPhzod9c31rqlxeWMMst5bRmOG6YoCZEU8qrdQD0Bp/jT4a+HfiRbQQ+ItB0fXobV/NhTULOO5WJv7yhwcH3FbFvbx2cCRQxrHHGoVEUbVUDgAColJNKyKjFpttj6RqXdWL4/8e6X8MvB1/r2tXC2um6dGZJXPU+iqO7E4AA6k1jKSinKTskbQjKUlGKu2ct8HB9r/AOChviOS2/1Nn4HtoLzHaZ7svHn38sH8K+m1PFeF/sQfDjUtO8O65458Q2zWviL4gXa38sDfetLVF2W0B/3UyT7ua90AxXp5JSlHC88tOZuVuyb0/Cx5ueVIyxXLF3UEo37tLX8b28gooor1zxwooooAKKKKACvG/wBp39mq5+Jt1Y+KvCt5HovjzQFP2G7cZhvI+rW047xt69jzXslBGa58VhaeIpulVWj+9eafRrodGFxVTDVVVpPVfc11TXVPqfMPwu/aCtfFWrSeHfElnJ4U8bWPy3WlXrbPOIOPMgc8Sxk9Ctei5x610vxe/Z/8KfHPS1tvEmk2940X+ouV/d3NsfVJF+ZTz2NeL6n+zt8WPgvI3/CE+ItP8caDHzHo/iImG8hH92O7B+b23rx3Jr52rhsXh9JL2ke63+cevqr+h9JSxWExOsZezl2l8Pyl09H956IG5oryA/tWv4UuZrXxl4I8WeGb2zYJcfZrY6vbxtj/AJ624b68qOK1dH/bB+GutD5PFum28gODHdB7eRT7q6giuWOPw70c0n2ej+52Z0yy7ErVQbXdar71dHpVFchb/H7wPdRb4/GHhsr738Y/maz9S/am+HekIzXHjLQVC9dtwH/9BzWn1ygtXNfejNYPEPRQl9zO/JxSbq8l/wCGyvCury+V4fsfFPim4bhF0zRbh439P3jKqfm1XbTSPjj8XiE07QdF+GOlzcG91addT1Daf4lgjIRGx2ZuKmOMhPSgnN/3Vf8AHZfNlywU4a12oL+87fhu/kjrPiN8UtB+E+hSahr2owWMKj5EY5lnPZUQcsx9AK5X4XfBzX/2o/Fun+LPG+nzaL4L0qYXWieHp1xNfSKcpc3I7AdVQ/U16D8J/wBirwt8PtYj1zV5b3xl4oHzHVdZfznRvWOP7kY9Ao/GvYguK9DD5VUrSU8XpFa8q1u/7z6+i07tnn4jNqVGLhg7uT0c3pb/AArp6vXskJGuxadRRX0R82FFFFABRRRQAVzfxZ+FOifGrwJfeHfEFmt5pt8uGXOGjYcq6HqrKeQR0rpKKipTjOLhNXT3RdOpKnJTg7Napo+R73V/F/7IVxHpvjaO88UeCg3l2Pie1hMk9kn8KXka5PHTzBwepr0zwn4y0nx1pEd9o2o2eqWcgyJbaUSL+OOn417RcW0d3A0csaSRyDayOoZWHoQa+BP24vit8Ff2e/HF9Dotx4t8OePofmkg8OI1rbyMRkGUSL5LA+qgmvksypf2bT9tzr2faTs15J9fJPXzPr8sqPNKvsVTfte8VdPza6ebWnkfU26jdXzN+yV8Ufj58YPg7b+L4fDvhvxdpN1cSwW0Et6um6g6xkDeXK+WwJyM4ByuelejXHx+8UeGH8vxJ8JvG2lyjq1kYdTh/B4myf8AvmuejmMKlKNVxlFS1TcXb70mvxOjEZZUp1ZUVKMpRdmlJX08m0/wPVAaCcV5G/7Yvh+yO288P+PrNv7reGbyT/0BDTk/a10++H+geD/iHfem3QJ48/8AfYWtP7Qw/wDMjL+zsT1gz1rdQDk8CvL4fiR8VPFy/wDFOfBzUo42+7c67rNvYBB6mIbmP0BrS0v9l/4p/E4+Z428fW3huwk66T4WtdjgejXUhLH8FHsa0hWqVNKNOUvlyr75W/C5nKjTp616sY/Pmf3Rv+NiX4oftBeG/hVi1urmTUdam4ttI09PtF7ct2AjXJHUcnAqD4X/ALOHiD45eLtN8YfFC0jsdO02RbrRvCu/zEtZOqzXJHDyDsvRTXrHwe/Zk8G/A+EtoWkxC+l5m1C5Y3F5OeeWlbLHr6134XBr0MPlE5yU8Y00tora/m+v4L1PPxGcQpxcMEmm95Pe3kto+ur80CLsGKWiivoD54KKKKACiiigAooooAKKKKACvlf/AIKaftS/EH9nr4ebfBfhu9kjvoys/iBVEsWm54+5z83oSMV9UV5z8QLaP4k/ErS/DXyzafpO3VdUQjcrEHEETD/aOWx6KK83NqVWrhpUqM3CUtE1vr/WvWx6mT1qVLFRrVqanGOrT20/rTpc+bf+CJHiW+8XfBfxpealeXF/fXGu+dPPPIXkldolJLE8kmu8/wCCnmt3Xwh+AcfjLQdJ0S61DSNSgFwl9p8dzDPbvuV0cMOmdvIIINe9eA/hV4d+GU+pN4f0ex0f+1phc3aWsYjSWTGNxUcZxWP+0h8DrH9o74P6t4P1G4ls7PVlRXmiALx7XDAj34rzYZRWpZP9SUr1FFpPz1aep6lTOaFbOvr7jy03JNx8tE1pufKX7EP7Snwh/bC1yPQ9U+EHhnTfFMcfmM0ehwXFq+Mktv2fJ0/i6k19e6V8DPBehMrWXhLw3ZsnKmHTYU2/TC15V8LfgJ4d/YTurQeHbUw+E9Y8qz1WaX95NbXI+WK4Z+Ttcnaw+6p2txzXvwYNW2S4SpCh7PGqLqre0UvT19dPwMc+xlKeIdTAOUaT2Tk36+npqMgtY7WLZEixoOiqMAU8Lilor3krbHzt29WFFFFABRRRQAUUUUAFFFFABRRVbVtUt9F0+a7u54ra1tkMkssjbVjUDJJPtQ2krsaTbshniDxBZ+F9HuNQ1C4hs7O0jMk00rbVRR3Jr5h/aX/Ytg/b60C41nU1Ph27toSnh6TyQszL133HGdr8YXqo56163o2mXHx61m11rU7ea18KWUvm6VYTDDakw+7dTL2XukbDOMMwBO0enKuFry8RhaePg6ddXpvp38/Ly+89TDYyrl1RVMPK1Vde3l5vv9xxP7Ovwih+BXwS8M+E4Sr/ANi2EdvI69JJAo3t+Jya+Kv+Ck37dOufs9/tleEY/D90zQeG7QS6lZb/AN3drMfmjYeu0ZB7HFfoYRmvnP8Aac/Y2+HuoLq/j688N2uqeIFvbS9u5rtmlRoVljWUbCdoUQ7zjHavPz7A4mWAVHAS5OVp310UddPuR6XDuYYaOYuvmMXPmTVtNXLTW+27PXPgb8aNF/aB+GOl+KvD9wLjT9ThEmM/PC+PmjYdmU8EV1+361keCfB2i+CNDjs9B02x0vT/AL6QWsIijGcc4HHpWxXv0PaKnFVWnK2rW1/I+exDpupJ0U1G+ie6XmJtpcYoorUxCiiigAooooAKKKKACiiigAooooAKKKD0oAz/ABP4ht/Cug3mo3TbLeyhaZyfQDNcx8D/AAxNpvhyfV79f+Jx4knOoXbEfMoPEUf0SPAx65ql8VVb4heNtI8Gw5+yZXVtYYHgW0b4SH6yyDH+5HJ7V6Gq7RxxXJH95WcukdF69fuWn3nVL93RUestX6Lb73r9wtFFFdZylXW9FtvEOlXFjeQR3FpdxmKaJxlXUjBBrh/hbqd14J1yTwXqs7TNaoZdHuXPzXVoOBGSerx8KT1Iwa9CrmPij8P/APhOtDiNvMbPWNMlF3pt4v3radc4z6owJVl6FSfauevTldVYbr8V2/y8zpoVFZ0qnwv8H0f+fl8jpwciiua+F3jxfHfh9pJofsmp2EzWeo2hPzWtwv3l+hGGU91YHvXSitadSM4qUdmY1KcoScJboKKKKsgKKKKACiiigAoopssqwozMQqqMkk8CgCO8vorG0kmmkWKGFS7u5wqgckk15xp9tcfHzWFvLqN4PBdlJutbZ1w2sSA8Sv6RD+Ff4jyeOKiUSftH6pG6vIngG0kyMZX/AISGRTx7/Z1ZfpJ7r19QggW2iWONVVEAVVAwAB6Vxf7w7/Y/9K/4H5+m/b/u6t9v/wBJ/wCD+XrsRII0CgAAcADtTqKK7TiCsnx54eTxb4J1jS5MbNSsprVs+jxsv9a1qbIMiplFSTiyoycWpI5n4LeIG8TfCfw9ey58+awh84HqsgQBgfowIrqK4P4Ct9h0zXtK5A0fW7u3QH+4z+ap+n7yu8rHCyboxvvb8tDbFRSrSS2v+D1Ciiiug5wooooAKKKKACiiigAooooAKKKKACqus6rb6HpdxeXUqQWtrE000jnCoijJJ+gFWq87+MsR8e6xpPgyN8QalILvVQveziYEx/8AbRwqn1XcO9Y4io4QbW/T1exth6anNRe279FuWPgbpEt1pd/4nvI3W+8Vz/bQr/ehtwAsEfthMHHq5rvKZbxLBCqIoVVG1QOwHQU+nRpqnBR/q/Vk1qntJuf9W6L7gooorUzCg0UUAed/E/SLjwF4jXxvpMUkhjRYNbtI+ft1qPuyAf8APSLJIPUqWU54x3Wjatb67pVveWkyXFrdRiWKRDlXUjIIqxLGsqMrAMrDBBHUV5r4bT/hSPjtdDdpP+EZ8QTNLpbOfl0+5OWe2B/uNyyDsdwrjl+5qc32Zb+T7+j6+fqzsj++p8v2o7ea7eq6eWnRHplFA6UV2HGFFFFABRRTWPFABJIIlLMwVVGSSeleY31xJ+0PqM9jD5kfgm1cx3U4JX+2nH3ol7+SOjH+Lp0zTtY1S8+O2uyaTpcrW/g+ykK6nqEbYbVHU/8AHtCe0YIIeQdfur1JHo+m6bBo9hDa2sUcFvboI440GFRR0AFcT/2h2XwL/wAm/wCB+fpv2L/Z1d/G/wDyXz9fy9dn2trHZW8cMMaxxxKERVGAoHAAHpUlFFdpxhRRRQAUHkUUUAcH4RP9i/HTxZp/3V1C0s9WQepbfA2P+/Kk/wC9713lef8Ajc/2B8efBmof8s9YgvNCk9CxQXcZP0FtKB/10PrXoFcuG0c4dm/x1/U6sVryT7xX4afoFFFFdRyhRRRQAUUUUAFFFFABRRRQAUUZrN1/xZpnhazafVNRsdPhXq9zOsS/mxFTKSirydkVGLk7RV2Xb28j0+zknmdY4YVLu7HhVAySa4T4J2M3iWbU/GN4jLN4hkAskccw2SEiL/vvl/8AgQrzn4/ftifDPUNHtPDq/EDw1DHrVyLa+nS+Ui2thlpSSDwWA2j3au68I/tX/CvW1t7PSfHfhObaqxxRx6hGMADAAyRXl/X8LUr29pH3fNbv59F+Z6n9n4qnQ5vZy97+69Evl1f5eZ6YKKr2Op2+qWyzWs8NxC4yskTh1P4irAORXqppq6PJaadmFFFFMAooooAKx/HPgyz8f+GbrS75X8m4Aw8bbZIHBykiN/C6sAwPqK2KKmUVJOMtmVGTi1KO6OL+E3i6+uluvD+vOreItD2rPIq7Vvoj9y4UejYwR2YEV2lcZ8VvBd1qP2XxBomI/EmhhntcnC3kZ+/bSeqPj6qwUjkVzXiH9tb4deEPD1peap4itbW7ul40xczX6uOGj8lMvuBBHTtXEsTDDpwxEkktm3a6+fVbP7+p3fVZ4hqeHi23ukr2fy6PdfNdD1iivni7/byvtbP/ABS3wl+ImtQ9rm7t4tNgk/3TI5Y/ioqsv7ZHxLhfdcfAzVFgPQw+IraWT/vjaP51zvPcGtpN+kZNfelY6FkON6xS9ZRT+5yufR5bArzfxJrN18ZtYu/D2j3U1rodq/k6vqUDYaY/xW0LdiRwzDleQOeR4t4r/wCCgdr4nnXQ9V8N+OPh9aRzGDXNTu9P86O1XaD5UUkJcZYMMuwUKM98V9AfBfxp4L8UeDrZPBGqaPqGkWyBUFjOsgTv8wHOTyTnnOaVLMcPjZ+yozVlv0b8rb27v5dx1stxGCh7WtB36dUvO60v2Xz7HTaFodr4c0m3sbG3htbO1QRwxRLtWNR0AFXKAc0V68UkrI8Ztt3YUUUUwCignFeYfGz9rbwj8D7uPT7ua61rxDcf8e+iaRF9q1Cb/gAICj3YgVjiMRSow56slFeZth8PVrz9nRi5Psj08nikLYr5juPjH8c/ihK0ml6L4U+HOlSf6s6oz6lqmP7xjTbEvGPlJyDVZ/hn8UNUO69+NHiKFjyRYaZawKD7BlbivJlnkH/Cpyku9kv/AEpp/gexHIZL+LVhF9rt/wDpKa/E9p/aAAsPCuna138P6ta35PogkCSfnG7j8a71elfJfiX4QfFHVPD11p8Xxg1C9hukKNHqej28yuPfYEP4itjSf2k/i18H0RfGfgrT/GGjQoFbUfCkrG8jA43PbTY3HudjfnWNPOYRquVanKMWlrZNX135W+ltTapks50oxo1Izkr6XadnbbmS63PpyiuK+DX7QfhP49aM154a1aC8MPFxatmO6s2/uyxNhkb2IrtQc171GtTqwU6bTT6o+frUalKbp1U010egUUUVoZhRRRQAUUUUAGazfFnizTfBHh661bVry30/TrGMyz3EzhUjUdya0W+7Xyz8bL9/2nv2hp/B8kjN4H8BiK41aJD8mp37fMkDnuqLhivckV5+ZY36tSvFXlJ2S8/PyW7PQy3A/Watpu0Yq8n5eXm3ovMdrPx8+IX7TUbJ4Dz4H8IyMQviC9gEl/ep03W8LcKpxwz9QelV9G/Y+8Hpc/bfEK6p411ZzmS9167e6Ln2jJ8tR7BeK9RghSCFY40WOONQqqowFA7AVJ0r52WG9q+fEvnl57L0Wy/Puz6SOKdJezwq9nHy3frLd/l2Rgab8L/DWjRKtr4d0O3VRgBLGIYH/fNVNd+Cvg/xNbtFqHhfQblG6h7GPn9K6jd/nNKDurX2FNqzirehisRVTupO/qeSXX7KNt4SuW1D4d+I/EHw/wBT+8Esrlp7GY/9NLeUspHQcYwK6r4fftb658P/ABJYeGvixY2emTXziCy8RWTH+zr5+gVwf9S7eh4967Ejisjx14G0v4keFLzRdYtI7zT76MxyxuOme4PYjqCOhrKNGdB8+EfK+32X6rp6qz9TSVaGIXJjFzLv9pej6+juvQ9ujfeoYHIPIp1eA/sWePNS0i88QfDPxBfTahqXgsxtpt3OczX2mSD9yzH+JkIMZPqte/A5r6jA4qOJoqqtO67NaNfJnzGOwksNWdKTv2fdPVP5oKKKK6jkCkdtoz6c0teJ/t4eOtS8OfBuPQtFuGtNZ8bX0WhW1wpw1ukp/eyDvkR7ulc2MxMcPRlWl9lX9fL5nTg8LLEV40I/advTz+W5xPxD+Ofib9pjxVfeG/h7qT+HvCGmztbar4oiUPPduvDQ2eeODwZO3OPWtT4Yfs++E/hHAf7J0mE30x3XF/cjz7y5c9XeRssSevpW74E8D6f8N/B+n6HpNulvYabCsMSKMZx1J9STySepNbNfLRoyqS9tiPen+C8orp67vqfUyrRhD2GG92H4y85Pq/LZdAxRtqvq+qwaHpdzeXT+XbWcTTzPjOxFBZjgc8AHpXN/BD42eGf2jPhRonjfwbqQ1jwx4itxdafeiGSH7RGSQG2SKrr0PDAGuq3U5etjqHto2jZWjjZXOWUqCG+o715r41/Zk02/1o6/4SvbrwL4sj+aPUdKAjSc/wB2eH7kinvkZr07qKMVjWw9OorTX+a9HujajiKlJ3g/8n6rZ/MyP2bf2mb/AMW+I7jwL44tYNI8eadD5yiI4ttZgHWeAn043L1XPpXt46V8qftV+HJIfBFv4w0tVi8ReBLhdWsZwMPsUjzoiRztdMgjp0r6W8DeKIvGvg3StYgGIdUtIrpB6B0DD+deplOKqNyw1Z3cbNPun3801Z99Gebm+EpxUcTRVlK6a6KStt5NO67ao1aM0UjV7R4Z4l+1h8c9a8M6hpngbwT5R8aeJkZ1uZF3x6PaA4e6cdyOQo7t9K5/4Q/A/R/hDpzmAyanrV4TJqGr3n7y8v5D95mc8gE9FHAFc98HLhvHn7Qvxc8VXmZLq111vDFqG/5YW9mqjavszsWPua9WA4r4/wBp9ZqvEz11aiuyTt97tdv5H2Tj9VorC09NE5Pu2r2fkr2S9X1DbSbcU6vNv2rP2q/CH7G3wguvGvjSbUF0yG4hsre1061N3f6ldTPshtreEEGSV2OFXIye4rpSbdkcrlZXZ6RtpCMVwH7M/wC0Tp/7T/wwh8Uab4d8a+E0a4ltJ9J8WaM+k6tZTRkBklt2JK9RyCQexr0Gk1Z2YXT1PNPi18CpNZ1aHxX4NvP+EY8eaXl7a9t0Cx347wXKdJEYcZPIzkV63+zL8dx8dfATXN1a/wBm69pUxsdXsT/y63K9QP8AZPUH0NZp4rzv4XXDeBP29rrT7UlbPxt4abUbmIH5fPtpVjEmPUqwH4Vlh6n1bExlD4Zu0l0u9n630fdPXZG2Ih9aw0oT+KCvF9bLeN+1tV2a03Z9PDpRRRX1p8iFFFFABRRRQAj/AHa+U/2a/wB34o+KEU3/AB/J4uuTNn720qpjz/wGvq08ivl39orR7j9mv43P8SIYXk8G+Joo7LxIsSknTplOIrwjps52sc8cV4OeRcVTxHSDd/JNWv8AJ7+Vz3sikpOph/tTSt5tO9vmr28z0qhulV9M1K31fT4bq0uIbq1uEEkU0ThkkU9CCOCDVgnIrlTTV0dbTTsz81f+CyX/AAV88efsF/HCx8N+BbrwbdfYfD0ev6npmoaTdXl5Mr3MsQ/eRsscEZCABzuO7dxjGf0K+E/jN/iN8LvDPiGSFbaTXtJtNReFW3LEZoUkKg9wC2M+1cf8a/2LfhN+0f4ktdY8efD3wn4s1Szt2tIbrU9PjuJo4WJJjDMM7SSTjpzXo2iaLaeGtGs9PsbeGzsdPgS2toIl2xwRooVEUdgFAAHYCtJSi4pJamUYyUm29C1QelBPFc58T/ifo/wi8IXWta1dLb2tuPkTI8y4f+GONc/M7HgAd6xnOMIuUnZI3p05TkoQV2zA+H587/goFH9m+7D4LmF7j1N1H5WfwD4/GvpoDFeG/sY/C7WNOttd8eeKrM2HiXxxKk6WT58zS7FFxBbtno+Msw/vE17l0r08lpSjh+eStzNyt5Pb8Ff5nmZ5VjLEKEHfkSjfu1v+OnyCiiivXPHCvn3/AIKCxPonhTwb4sZWax8I+Ire7vSBnyoZAYWc+y78mvoKsnxv4O074g+E9S0PV7ZLzTNWt3tbmF+kiMMH6deD2IrjzDDPEYadGLs2tPVar8Tty7FLD4mFaSuk9fR6P8DzmOdZolkjZWRwGUg5BB6VJXjPhnxRqH7J/iG28B+PriT+wZJDB4a8Tz8W9zF/BbXEhwEmVeBnhgK9jhmWaNWRlkRhlWU5Vh7GvnKNdTvGWkluuqf9bPqfR4jDunaS1i9n0a/rdbpmF8V4mn+GHiSONWd30u5CqBksfKfgV+OH/BFzx98QvCXxL/Zt8I+GfE3xS1XTptCu4/iB4c1zSnttH8OWyoxt3gZkGHMm0dSSGNftawDDnHoQaig063tG3RwwxNjblIwvHpXbTqcsXFo46lPmkpX2Jx0opDwKzPF3jLSfAWg3Gqa1qVnpen2q7pJ7mZY0X8SeT6AcmueUlFc0nZG0YuT5Y7nI/tT+JI/DXwF8SMw3zX1sbC3jAy0s037tFA9SWFe5fBXwxN4M+EXhjSbjIn03S7a2kB7MkSqf5V8//B7wTq/7V/xH0rxrrljdaT8PfDsn2nQNNuozHNrVz0W8mQ9I0xmMZ53Zr6oX7tdWT05VJyxbVk0lHzSd2/RvbyV+pzZzUjTpxwid5Jty8m0kl6pLXzdugUjUtFfQHzx8q2dh/wAKQ/a88XaDdERaX8QmXxDpEjcK91tCXUXoWyA/0NepDpWx+0T+z/pn7Qngkabdzz6bqVnKt3pmp23Fxptwv3ZEP6EdCOK8It/jhrXwLvodB+Llm2lS7/ItfE8MR/sfUvQvJwIZCOSrYGenFfI4im8FUkp/w220+iu7tPtrs9rabn2GHqLHU4yp61IpJx6uysmu+i1W99dj1+vG/wBuP9jfS/23/gtH4T1DW9S8M3enaraa7pWr2EayT6bfWsglhlCN8r7WAO04Br1rStXtddso7qxure8tpgGSaCQSRuDzkEcGrWa2jL7UTnlH7Mjg/wBnT4VeIfg98N49J8VeO9W+I+uNcSXNzreoWkVpLOXx8oii+REXHCjP1rvKCeKyPGHjrRfh9pEmoa7q2n6PZRj5pru4WJf/AB4jJ9hSnNJc0nYqEG2oxV2arnA9hyfavP8A9mSx/wCFvftPeKPHkbb9F8O2Q8N6XKOVuH3b53U9wGAXjuK56DVPFn7Y6Lpng2DU/C3gO6+W/wDE95bmGe/hPVLFG6huQZDjAPHNfTvw0+G+kfCbwVp/h/Q7VbPTdNiEUSL1PqzHuxPJPcmlgaTxdaNVL93F3v8AzPpbyW9+rtYeOrLCUZUm/wB5NWt/Kut/N7W6K9+hvUUUV9UfKBRRRQAUUUUAFVdX0m21zT5rO8t4bq1uUMc0MqB0kU8EEHgg1aopNJqzGm07o+ZvEH7KPjD4FXEl18J9QgvtDaQyt4U1aUrBDk5ItpuTGMknaeKxI/2srPwrcmz8ceGPFHgq+jOJGurF5rP6rPGCpH619adahu7CG/i8ueGOaM/wyKGX8jXhVMkUXfCz5PJq8fktGvRO3ke7TzxyVsXDnf8AMnyy+b1T9Wr+Z84WX7T3w71FQ0fjTw6oPP7y7WM/+PYqDVf2r/hzo8TNJ4u0eYj+G3l89mPoAgOa9u1H4C+CdXYtdeEfDdwzHJMmnRNn/wAdqzo3wd8K+HZVksPDWg2ci9GhsY1I/IVj/ZeN254fc/yv+pt/amB35J/evzt+h84QftA+I/ijO1n8N/Aeva1I3B1LVYjpunwn13SfM45B+Uc13fwn/Y+un8WWPiz4kawvivxFYnzbKzSPZpulP6xxn7zj++3PHFe7RwiJQqqqqvAA4Ap9dWHyWKkp4iTm1stor5f5tnPiM6m4unhoqmnu95P5vb5JeYirtFLRRXtHhhRRRQAUUUUAZPjPwPpHxE8PXGk65ptnqmm3a7Zba5iEkb/ge/uORXguofsWeJPhpK8nwz8bXWn2O7cmia0pvbNB/djfO+NfbkCvpCiuHF5dQxL5qi1WzWjXzWv6Hdg8yxGGuqT0e6aTT+T0+e58t3OsfGzwcfL1L4aabryr0uNG1dfn/wC2cgBH51XT4vfEq4by4fgn4sWUcFpry3SP892a+rMZo6157yR392tK3pF/jynorPI/aoQv6zX4cx8v2ehfHbx/8sHh3wr4HtpOlxfXxvp1Hr5aAAH2JxXT+Bf2FtL/AOEhg1zx9rF98QdYtiHhS+QJp9q/qlsPkz7tk17zRW1LJcPGSlVbm1/M9PuVl+BhVzzESi40kqaf8q1+93l+I2GFYY1VVVVUYUAYAHtTqKK9g8cKKKKACqWv+HbHxVpU1hqVlaahY3C7Zbe5hWWKQehVgQfxq7RScU1ZjjJp3R4Prn/BPnwbHfTXXhW/8SeBp5iXMejag8dru658hsx5/DtWY37IfxGseLH4w3e0dPteiwzHHudw5r6LorypZJg27qHL/hbj+TR6sc8xqVnPm/xJS/8ASkz51j/Y28c6qdmrfGDWmhb74sNNhtWI9A3zYrofBX7Bfw/8M6xHqeqWd94w1SPlLnxDdNqHln/ZR8ov4CvaaKqnkuDg+bku/NuX/pTYVM7xs4uPPZP+VKP/AKSkMghW3iWNEVEUYCqMBR6AU+iivUPJCiiigAooooAKKKKAP//Z)"
      ]
    },
    {
      "cell_type": "markdown",
      "metadata": {
        "id": "AwCiDRncfsaI"
      },
      "source": [
        "Donde a=1, b=2 y c=3\n",
        "\n",
        "1. Realizar el paso forward y calcular Y.\n",
        "\n",
        "2. Realizar el paso backward y calcular el backpropagation para a,b y c:\n",
        "  \n",
        "    a. En forma analítica (dy/dx = 0)\n",
        "  \n",
        "    b. Aplicando regla de la cadena\n",
        "\n",
        "    c. Utilizando pytorch\n",
        "\n",
        "3. Comparar los resultados del punto 2"
      ]
    },
    {
      "cell_type": "code",
      "execution_count": 1,
      "metadata": {},
      "outputs": [],
      "source": [
        "# Imports\n",
        "import numpy as np\n",
        "import torch"
      ]
    },
    {
      "cell_type": "code",
      "execution_count": 2,
      "metadata": {},
      "outputs": [
        {
          "name": "stdout",
          "output_type": "stream",
          "text": [
            "a: 0.4355025823250718\n",
            "b: 0.25549151068858766\n",
            "c: 0.6034554307036167\n"
          ]
        }
      ],
      "source": [
        "# inicio de inputs\n",
        "a = np.random.random()\n",
        "b = np.random.random()\n",
        "c = np.random.random()\n",
        "\n",
        "print(f'a: {a}')\n",
        "print(f'b: {b}')\n",
        "print(f'c: {c}')"
      ]
    },
    {
      "cell_type": "markdown",
      "metadata": {},
      "source": [
        "### Inciso 1"
      ]
    },
    {
      "cell_type": "code",
      "execution_count": 3,
      "metadata": {},
      "outputs": [
        {
          "name": "stdout",
          "output_type": "stream",
          "text": [
            "Y = -0.24044101331226256\n"
          ]
        }
      ],
      "source": [
        "# 1 Forward\n",
        "d = a + b\n",
        "e = b - c\n",
        "Y = d*e\n",
        "\n",
        "print (f'Y = {Y}')"
      ]
    },
    {
      "cell_type": "markdown",
      "metadata": {},
      "source": [
        "### Inciso 2"
      ]
    },
    {
      "cell_type": "markdown",
      "metadata": {},
      "source": [
        "#### 2.a)"
      ]
    },
    {
      "cell_type": "code",
      "execution_count": 4,
      "metadata": {},
      "outputs": [
        {
          "name": "stdout",
          "output_type": "stream",
          "text": [
            "dY/da = -0.34796392001502907\n",
            "dY/db = 0.34303017299863037\n",
            "dY/dc = -0.6909940930136594\n"
          ]
        }
      ],
      "source": [
        "# 2_a\n",
        "# Derivadas Parciales Analitica\n",
        "\n",
        "\n",
        "dY_da = (b - c)\n",
        "dY_db = a + 2*b -c\n",
        "dY_dc = -(a + b)\n",
        "\n",
        "# Igualanado a 0 las derivadas parciales no se se obtienen\n",
        "# valores únicos. Queda indeterminado\n",
        "# b = c = -a\n",
        "\n",
        "print(f'dY/da = {dY_da}')\n",
        "print(f'dY/db = {dY_db}')\n",
        "print(f'dY/dc = {dY_dc}')\n"
      ]
    },
    {
      "cell_type": "markdown",
      "metadata": {},
      "source": [
        "#### 2.b)"
      ]
    },
    {
      "cell_type": "code",
      "execution_count": 5,
      "metadata": {},
      "outputs": [
        {
          "name": "stdout",
          "output_type": "stream",
          "text": [
            "dY/da = -0.34796392001502907\n",
            "dY/db = 0.34303017299863037\n",
            "dY/dc = -0.6909940930136594\n"
          ]
        }
      ],
      "source": [
        "# 2_b Derivadas Parciales Regla de la cadena\n",
        "\n",
        "dY_dd = e # dY/dd\n",
        "dY_de = d # dY/de\n",
        "\n",
        "dd_da =  1 # dd/da\n",
        "dd_db =  1 # dd/db\n",
        "de_db =  1 # de/db\n",
        "de_dc = -1 # de/dc\n",
        "\n",
        "dY_da = dY_dd*dd_da                # dY/da\n",
        "dY_db = dY_dd*dd_db + dY_de*de_db  # dY/db\n",
        "dY_dc = dY_de*de_dc                # dY/dc  \n",
        "\n",
        "print(f'dY/da = {dY_da}')\n",
        "print(f'dY/db = {dY_db}')\n",
        "print(f'dY/dc = {dY_dc}')"
      ]
    },
    {
      "cell_type": "markdown",
      "metadata": {},
      "source": [
        "#### 2.c)"
      ]
    },
    {
      "cell_type": "code",
      "execution_count": 6,
      "metadata": {},
      "outputs": [
        {
          "name": "stdout",
          "output_type": "stream",
          "text": [
            "a: tensor([0.4355], requires_grad=True)\n",
            "b: tensor([0.2555], requires_grad=True)\n",
            "c: tensor([0.6035], requires_grad=True)\n"
          ]
        }
      ],
      "source": [
        "# 2_c Derivadas Parciales utilizando Pytorch\n",
        "\n",
        "a = torch.tensor([a], requires_grad=True)\n",
        "b = torch.tensor([b], requires_grad=True)\n",
        "c = torch.tensor([c], requires_grad=True)\n",
        "\n",
        "print(f'a: {a}')\n",
        "print(f'b: {b}')\n",
        "print(f'c: {c}')"
      ]
    },
    {
      "cell_type": "code",
      "execution_count": 7,
      "metadata": {},
      "outputs": [
        {
          "name": "stdout",
          "output_type": "stream",
          "text": [
            "Y = tensor([-0.2404], grad_fn=<MulBackward0>)\n"
          ]
        }
      ],
      "source": [
        "# Forward\n",
        "d = a + b\n",
        "e = b - c\n",
        "Y = d*e\n",
        "\n",
        "print (f'Y = {Y}')"
      ]
    },
    {
      "cell_type": "code",
      "execution_count": 8,
      "metadata": {},
      "outputs": [],
      "source": [
        "external_grad = torch.tensor([1.])\n",
        "Y.backward(external_grad)"
      ]
    },
    {
      "cell_type": "code",
      "execution_count": 9,
      "metadata": {},
      "outputs": [
        {
          "name": "stdout",
          "output_type": "stream",
          "text": [
            "dY/da = tensor([-0.3480])\n",
            "dY/db = tensor([0.3430])\n",
            "dY/dc = tensor([-0.6910])\n"
          ]
        }
      ],
      "source": [
        "dY_da = a.grad # dY/da\n",
        "dY_db = b.grad # dY/db\n",
        "dY_dc = c.grad # dY/dc \n",
        "\n",
        "print(f'dY/da = {dY_da}')\n",
        "print(f'dY/db = {dY_db}')\n",
        "print(f'dY/dc = {dY_dc}')"
      ]
    },
    {
      "cell_type": "markdown",
      "metadata": {},
      "source": [
        "### Inciso 3"
      ]
    },
    {
      "cell_type": "markdown",
      "metadata": {},
      "source": [
        "En todos los casos las derivadas dan lo mismo"
      ]
    },
    {
      "cell_type": "markdown",
      "metadata": {
        "id": "fvsqmJwx_Rb8"
      },
      "source": [
        "## Ejercicio 2\n",
        "\n"
      ]
    },
    {
      "cell_type": "markdown",
      "metadata": {
        "id": "ABeIRvAkKLy7"
      },
      "source": [
        "a) Implemente un modelo de red recurrente con la arquitectura presentada en la imagen. La misma debe tener:\n",
        "\n",
        "\n",
        "* Como input una señal de 4 canales (4 features)\n",
        "* 3 capas ocultas con 20 neuronas.\n",
        "* Tenga como salida una señal de 2 canales (2 features) de igual longitud que la señal de entrada. (ayuda! emplee 2 capas recurrentes independientes)\n",
        "\n",
        "\n",
        "b) Testeear el modelo con una señal random de longitud 20.\n",
        "\n",
        "c) Indique el total de parámetros entrenables.\n",
        "\n",
        "\n",
        "\n",
        "![c](https://drive.google.com/uc?export=view&id=1jDMr1hOiHBgkDZepHfOaxWQcaNNntB7W)\n",
        "\n",
        "\n",
        "\n",
        "Imagen 3 link (https://drive.google.com/file/d/1jDMr1hOiHBgkDZepHfOaxWQcaNNntB7W/view?usp=drive_link)\n",
        "\n"
      ]
    },
    {
      "cell_type": "code",
      "execution_count": 10,
      "metadata": {},
      "outputs": [],
      "source": [
        "class RNN_clas(torch.nn.Module):\n",
        "  def __init__(self, input_size=2, hidden_size=40, num_layers=2, out_fc=5):\n",
        "    super().__init__()\n",
        "    self.rnn1 = torch.nn.RNN(input_size, hidden_size, num_layers, batch_first=True)\n",
        "    self.fc = torch.nn.Linear(hidden_size, out_fc )\n",
        "\n",
        "  def forward(self, x):\n",
        "    x, h = self.rnn1(x)\n",
        "    o_fc = self.fc(x[:,-1]) # le paso el hidden state final de la rrn1\n",
        "                      # esto será de largo igual al numero de hidden\n",
        "                      # tiene sentido pasar el hidden final por que tendrá\n",
        "                      # la información de la secuencia en entrada ya \"almacenada\"\n",
        "    # o_fc_prob = torch.softmax(o_fc, 1)\n",
        "    return o_fc, o_fc # acá repito la salida ya que mi funcion \"teoria\"\n",
        "                                # espera que el modelo arroje 2 salidas."
      ]
    },
    {
      "cell_type": "code",
      "execution_count": 11,
      "metadata": {},
      "outputs": [],
      "source": [
        "def imp_param(model):\n",
        "  print('-'*84)\n",
        "  print('PARAMETROS DEL MODELO')\n",
        "  print('-'*84)\n",
        "  for name, param in model.named_parameters():\n",
        "    if param.requires_grad:\n",
        "      print('Nombre del parámetro: ')\n",
        "      print(name)\n",
        "      print('Tamaño del parámetro: ')\n",
        "      print(param.data.shape)\n",
        "      print()"
      ]
    },
    {
      "cell_type": "code",
      "execution_count": 12,
      "metadata": {},
      "outputs": [],
      "source": [
        "def teoria(model, largo_entrada = 3, batch_size=1):\n",
        "  print('-'*84)\n",
        "  print('MODELO')\n",
        "  print('-'*84)\n",
        "  print(model)\n",
        "  imp_param(model)\n",
        "\n",
        "  # Generamos una entrada aleatoria para ver como responde la red\n",
        "  # el tamaño de la entrada esa acorde a los tamaños que cargamos antes\n",
        "  entrada = torch.rand(batch_size, largo_entrada, input_size)\n",
        "  print('-'*84)\n",
        "  print('ENTRADA')\n",
        "  print('-'*84)\n",
        "  print('entrada shape: ', entrada.shape)\n",
        "  print(entrada)\n",
        "\n",
        "  # le agrego la dimension del batch:\n",
        "  #entrada = entrada[None, :]\n",
        "  print()\n",
        "  print('entrada con nuevas dimensiones [batch, Length, nr_features] ')\n",
        "  print(entrada.shape)\n",
        "\n",
        "  # Pasamos la entrada a la red\n",
        "  o, h = model(entrada)\n",
        "  print('-'*84)\n",
        "  print('SALIDA')\n",
        "  print('-'*84)\n",
        "  print('salida de la red (output) (largo igual al input): ', o.shape)\n",
        "  print(o)\n",
        "  print()\n",
        "  print('hidden red (solo ultimo hidden): ', h.shape)\n",
        "  print(h)\n"
      ]
    },
    {
      "cell_type": "code",
      "execution_count": 13,
      "metadata": {},
      "outputs": [
        {
          "name": "stdout",
          "output_type": "stream",
          "text": [
            "------------------------------------------------------------------------------------\n",
            "MODELO\n",
            "------------------------------------------------------------------------------------\n",
            "RNN_clas(\n",
            "  (rnn1): RNN(4, 20, num_layers=3, batch_first=True)\n",
            "  (fc): Linear(in_features=20, out_features=5, bias=True)\n",
            ")\n",
            "------------------------------------------------------------------------------------\n",
            "PARAMETROS DEL MODELO\n",
            "------------------------------------------------------------------------------------\n",
            "Nombre del parámetro: \n",
            "rnn1.weight_ih_l0\n",
            "Tamaño del parámetro: \n",
            "torch.Size([20, 4])\n",
            "\n",
            "Nombre del parámetro: \n",
            "rnn1.weight_hh_l0\n",
            "Tamaño del parámetro: \n",
            "torch.Size([20, 20])\n",
            "\n",
            "Nombre del parámetro: \n",
            "rnn1.bias_ih_l0\n",
            "Tamaño del parámetro: \n",
            "torch.Size([20])\n",
            "\n",
            "Nombre del parámetro: \n",
            "rnn1.bias_hh_l0\n",
            "Tamaño del parámetro: \n",
            "torch.Size([20])\n",
            "\n",
            "Nombre del parámetro: \n",
            "rnn1.weight_ih_l1\n",
            "Tamaño del parámetro: \n",
            "torch.Size([20, 20])\n",
            "\n",
            "Nombre del parámetro: \n",
            "rnn1.weight_hh_l1\n",
            "Tamaño del parámetro: \n",
            "torch.Size([20, 20])\n",
            "\n",
            "Nombre del parámetro: \n",
            "rnn1.bias_ih_l1\n",
            "Tamaño del parámetro: \n",
            "torch.Size([20])\n",
            "\n",
            "Nombre del parámetro: \n",
            "rnn1.bias_hh_l1\n",
            "Tamaño del parámetro: \n",
            "torch.Size([20])\n",
            "\n",
            "Nombre del parámetro: \n",
            "rnn1.weight_ih_l2\n",
            "Tamaño del parámetro: \n",
            "torch.Size([20, 20])\n",
            "\n",
            "Nombre del parámetro: \n",
            "rnn1.weight_hh_l2\n",
            "Tamaño del parámetro: \n",
            "torch.Size([20, 20])\n",
            "\n",
            "Nombre del parámetro: \n",
            "rnn1.bias_ih_l2\n",
            "Tamaño del parámetro: \n",
            "torch.Size([20])\n",
            "\n",
            "Nombre del parámetro: \n",
            "rnn1.bias_hh_l2\n",
            "Tamaño del parámetro: \n",
            "torch.Size([20])\n",
            "\n",
            "Nombre del parámetro: \n",
            "fc.weight\n",
            "Tamaño del parámetro: \n",
            "torch.Size([5, 20])\n",
            "\n",
            "Nombre del parámetro: \n",
            "fc.bias\n",
            "Tamaño del parámetro: \n",
            "torch.Size([5])\n",
            "\n",
            "------------------------------------------------------------------------------------\n",
            "ENTRADA\n",
            "------------------------------------------------------------------------------------\n",
            "entrada shape:  torch.Size([1, 20, 4])\n",
            "tensor([[[0.3932, 0.1456, 0.3491, 0.9877],\n",
            "         [0.2118, 0.2196, 0.0549, 0.6911],\n",
            "         [0.6306, 0.7940, 0.3936, 0.2060],\n",
            "         [0.8711, 0.8817, 0.2201, 0.8779],\n",
            "         [0.9840, 0.2322, 0.9585, 0.9875],\n",
            "         [0.4717, 0.6401, 0.7592, 0.0370],\n",
            "         [0.4840, 0.6900, 0.9751, 0.4806],\n",
            "         [0.7476, 0.0441, 0.1654, 0.4065],\n",
            "         [0.5667, 0.5916, 0.3914, 0.0285],\n",
            "         [0.3424, 0.3903, 0.2426, 0.2012],\n",
            "         [0.7696, 0.3082, 0.7702, 0.2944],\n",
            "         [0.3296, 0.4516, 0.6284, 0.5041],\n",
            "         [0.2154, 0.1939, 0.2650, 0.8599],\n",
            "         [0.1382, 0.3912, 0.3205, 0.3456],\n",
            "         [0.1175, 0.6048, 0.2952, 0.7482],\n",
            "         [0.5539, 0.6997, 0.3192, 0.0373],\n",
            "         [0.0755, 0.2441, 0.7445, 0.1241],\n",
            "         [0.1691, 0.8676, 0.5827, 0.7232],\n",
            "         [0.7075, 0.7713, 0.6652, 0.7162],\n",
            "         [0.2104, 0.7063, 0.7561, 0.6315]]])\n",
            "\n",
            "entrada con nuevas dimensiones [batch, Length, nr_features] \n",
            "torch.Size([1, 20, 4])\n",
            "------------------------------------------------------------------------------------\n",
            "SALIDA\n",
            "------------------------------------------------------------------------------------\n",
            "salida de la red (output) (largo igual al input):  torch.Size([1, 5])\n",
            "tensor([[-0.2042,  0.0312,  0.0182, -0.2264,  0.2380]],\n",
            "       grad_fn=<AddmmBackward0>)\n",
            "\n",
            "hidden red (solo ultimo hidden):  torch.Size([1, 5])\n",
            "tensor([[-0.2042,  0.0312,  0.0182, -0.2264,  0.2380]],\n",
            "       grad_fn=<AddmmBackward0>)\n"
          ]
        }
      ],
      "source": [
        "input_size= 4\n",
        "batch_size=1\n",
        "hidden_size=20\n",
        "num_layers=3\n",
        "\n",
        "largo_entrada = 20\n",
        "\n",
        "model = RNN_clas(input_size, hidden_size, num_layers)\n",
        "teoria(model, largo_entrada, batch_size)"
      ]
    },
    {
      "cell_type": "markdown",
      "metadata": {
        "id": "WL2PjUnT_Uvk"
      },
      "source": [
        "## Ejercicio 3"
      ]
    },
    {
      "cell_type": "markdown",
      "metadata": {
        "id": "73yqE_Sslwif"
      },
      "source": [
        "Se desea construir un sistema de recomendación de películas. Para esto se cuenta con un dataset de las puntuaciones que los usuarios han asignado a las peliculas disponibles.\n",
        "\n",
        "Link dataset: https://drive.google.com/file/d/1Og9H-8oqb3_Wo_WOakeAuRR_mwr922Ar/view?usp=sharing\n",
        "\n",
        "Para verificar la factibilidad del proyecto con datos válidos, se decide utilizar solamente las 200 películas con más votos y los usuarios que han puntuado al menos 100 películas.\n",
        "\n",
        "1- Analizar el dataset para utilizar solamente las 200 películas con mayor cantidad de votos y los usuarios que hayan votado al menos 100 películas.\n",
        "\n",
        "2- A partir del dataset del punto 1, construir una única red neuronal que utilice una capa de embeddings para el id de usuario, una capa de embeddings para el id de película y al menos dos capas lineales que sea capaz de predecir el puntaje que cada usuario colocó a cada pelicula.\n",
        "\n",
        "3- Elegir un usuario al azar, una película que dicho usuario haya puntuado y verificar la predicción del modelo. Comparar con el puntaje real que el usuario asignó a dicha película.\n",
        "\n",
        "4- Realizar una recomendación de película para el usuario del punto 3 utilizando los embeddings de usuario o los embeddings de películas. Comprobar si la recomendación es correcta haciendo una predicción del puntuaje con la red neuronal.\n"
      ]
    },
    {
      "cell_type": "code",
      "execution_count": 14,
      "metadata": {
        "id": "eLQzdNeRjzym"
      },
      "outputs": [],
      "source": [
        "# imports\n",
        "import pandas as pd\n",
        "import matplotlib.pyplot as plt\n",
        "import os"
      ]
    },
    {
      "cell_type": "markdown",
      "metadata": {},
      "source": [
        "### 1.-  Armado del Dataset"
      ]
    },
    {
      "cell_type": "code",
      "execution_count": 15,
      "metadata": {},
      "outputs": [
        {
          "data": {
            "text/html": [
              "<div>\n",
              "<style scoped>\n",
              "    .dataframe tbody tr th:only-of-type {\n",
              "        vertical-align: middle;\n",
              "    }\n",
              "\n",
              "    .dataframe tbody tr th {\n",
              "        vertical-align: top;\n",
              "    }\n",
              "\n",
              "    .dataframe thead th {\n",
              "        text-align: right;\n",
              "    }\n",
              "</style>\n",
              "<table border=\"1\" class=\"dataframe\">\n",
              "  <thead>\n",
              "    <tr style=\"text-align: right;\">\n",
              "      <th></th>\n",
              "      <th>userId</th>\n",
              "      <th>movieId</th>\n",
              "      <th>rating</th>\n",
              "      <th>timestamp</th>\n",
              "    </tr>\n",
              "  </thead>\n",
              "  <tbody>\n",
              "    <tr>\n",
              "      <th>count</th>\n",
              "      <td>100836.000000</td>\n",
              "      <td>100836.000000</td>\n",
              "      <td>100836.000000</td>\n",
              "      <td>1.008360e+05</td>\n",
              "    </tr>\n",
              "    <tr>\n",
              "      <th>mean</th>\n",
              "      <td>326.127564</td>\n",
              "      <td>19435.295718</td>\n",
              "      <td>3.501557</td>\n",
              "      <td>1.205946e+09</td>\n",
              "    </tr>\n",
              "    <tr>\n",
              "      <th>std</th>\n",
              "      <td>182.618491</td>\n",
              "      <td>35530.987199</td>\n",
              "      <td>1.042529</td>\n",
              "      <td>2.162610e+08</td>\n",
              "    </tr>\n",
              "    <tr>\n",
              "      <th>min</th>\n",
              "      <td>1.000000</td>\n",
              "      <td>1.000000</td>\n",
              "      <td>0.500000</td>\n",
              "      <td>8.281246e+08</td>\n",
              "    </tr>\n",
              "    <tr>\n",
              "      <th>25%</th>\n",
              "      <td>177.000000</td>\n",
              "      <td>1199.000000</td>\n",
              "      <td>3.000000</td>\n",
              "      <td>1.019124e+09</td>\n",
              "    </tr>\n",
              "    <tr>\n",
              "      <th>50%</th>\n",
              "      <td>325.000000</td>\n",
              "      <td>2991.000000</td>\n",
              "      <td>3.500000</td>\n",
              "      <td>1.186087e+09</td>\n",
              "    </tr>\n",
              "    <tr>\n",
              "      <th>75%</th>\n",
              "      <td>477.000000</td>\n",
              "      <td>8122.000000</td>\n",
              "      <td>4.000000</td>\n",
              "      <td>1.435994e+09</td>\n",
              "    </tr>\n",
              "    <tr>\n",
              "      <th>max</th>\n",
              "      <td>610.000000</td>\n",
              "      <td>193609.000000</td>\n",
              "      <td>5.000000</td>\n",
              "      <td>1.537799e+09</td>\n",
              "    </tr>\n",
              "  </tbody>\n",
              "</table>\n",
              "</div>"
            ],
            "text/plain": [
              "              userId        movieId         rating     timestamp\n",
              "count  100836.000000  100836.000000  100836.000000  1.008360e+05\n",
              "mean      326.127564   19435.295718       3.501557  1.205946e+09\n",
              "std       182.618491   35530.987199       1.042529  2.162610e+08\n",
              "min         1.000000       1.000000       0.500000  8.281246e+08\n",
              "25%       177.000000    1199.000000       3.000000  1.019124e+09\n",
              "50%       325.000000    2991.000000       3.500000  1.186087e+09\n",
              "75%       477.000000    8122.000000       4.000000  1.435994e+09\n",
              "max       610.000000  193609.000000       5.000000  1.537799e+09"
            ]
          },
          "execution_count": 15,
          "metadata": {},
          "output_type": "execute_result"
        }
      ],
      "source": [
        "df = pd.read_csv('ratings.csv')\n",
        "df.describe()"
      ]
    },
    {
      "cell_type": "code",
      "execution_count": 16,
      "metadata": {},
      "outputs": [
        {
          "data": {
            "text/html": [
              "<div>\n",
              "<style scoped>\n",
              "    .dataframe tbody tr th:only-of-type {\n",
              "        vertical-align: middle;\n",
              "    }\n",
              "\n",
              "    .dataframe tbody tr th {\n",
              "        vertical-align: top;\n",
              "    }\n",
              "\n",
              "    .dataframe thead th {\n",
              "        text-align: right;\n",
              "    }\n",
              "</style>\n",
              "<table border=\"1\" class=\"dataframe\">\n",
              "  <thead>\n",
              "    <tr style=\"text-align: right;\">\n",
              "      <th></th>\n",
              "      <th>userId</th>\n",
              "      <th>movieId</th>\n",
              "      <th>rating</th>\n",
              "      <th>timestamp</th>\n",
              "    </tr>\n",
              "  </thead>\n",
              "  <tbody>\n",
              "    <tr>\n",
              "      <th>0</th>\n",
              "      <td>1</td>\n",
              "      <td>1</td>\n",
              "      <td>4.0</td>\n",
              "      <td>964982703</td>\n",
              "    </tr>\n",
              "    <tr>\n",
              "      <th>2</th>\n",
              "      <td>1</td>\n",
              "      <td>6</td>\n",
              "      <td>4.0</td>\n",
              "      <td>964982224</td>\n",
              "    </tr>\n",
              "    <tr>\n",
              "      <th>3</th>\n",
              "      <td>1</td>\n",
              "      <td>47</td>\n",
              "      <td>5.0</td>\n",
              "      <td>964983815</td>\n",
              "    </tr>\n",
              "    <tr>\n",
              "      <th>4</th>\n",
              "      <td>1</td>\n",
              "      <td>50</td>\n",
              "      <td>5.0</td>\n",
              "      <td>964982931</td>\n",
              "    </tr>\n",
              "    <tr>\n",
              "      <th>7</th>\n",
              "      <td>1</td>\n",
              "      <td>110</td>\n",
              "      <td>4.0</td>\n",
              "      <td>964982176</td>\n",
              "    </tr>\n",
              "  </tbody>\n",
              "</table>\n",
              "</div>"
            ],
            "text/plain": [
              "   userId  movieId  rating  timestamp\n",
              "0       1        1     4.0  964982703\n",
              "2       1        6     4.0  964982224\n",
              "3       1       47     5.0  964983815\n",
              "4       1       50     5.0  964982931\n",
              "7       1      110     4.0  964982176"
            ]
          },
          "execution_count": 16,
          "metadata": {},
          "output_type": "execute_result"
        }
      ],
      "source": [
        "# Filtrado\n",
        "pelis = df.groupby(['movieId'])['userId'].count().sort_values(ascending=False)[:200].index\n",
        "df1 = df.groupby(['userId'])['movieId'].count()\n",
        "usuarios = df1[df1 > 100].index\n",
        "data = df[(df['userId'].isin(usuarios)) & (df['movieId'].isin(pelis))]\n",
        "data.head()"
      ]
    },
    {
      "cell_type": "code",
      "execution_count": 17,
      "metadata": {},
      "outputs": [
        {
          "data": {
            "text/plain": [
              "movieId\n",
              "356     187\n",
              "2571    173\n",
              "296     169\n",
              "260     166\n",
              "318     160\n",
              "       ... \n",
              "454      49\n",
              "161      48\n",
              "141      48\n",
              "434      45\n",
              "95       44\n",
              "Name: count, Length: 200, dtype: int64"
            ]
          },
          "execution_count": 17,
          "metadata": {},
          "output_type": "execute_result"
        }
      ],
      "source": [
        "data['movieId'].value_counts()"
      ]
    },
    {
      "cell_type": "code",
      "execution_count": 18,
      "metadata": {},
      "outputs": [
        {
          "data": {
            "text/plain": [
              "userId\n",
              "414    194\n",
              "599    189\n",
              "68     185\n",
              "480    177\n",
              "474    173\n",
              "      ... \n",
              "564     16\n",
              "377     15\n",
              "306     12\n",
              "184      9\n",
              "571      8\n",
              "Name: count, Length: 245, dtype: int64"
            ]
          },
          "execution_count": 18,
          "metadata": {},
          "output_type": "execute_result"
        }
      ],
      "source": [
        "data['userId'].value_counts()"
      ]
    },
    {
      "cell_type": "markdown",
      "metadata": {},
      "source": [
        "### 2.- Red"
      ]
    },
    {
      "cell_type": "code",
      "execution_count": 19,
      "metadata": {},
      "outputs": [],
      "source": [
        "class red(torch.nn.Module):\n",
        "    def __init__(self, n_input = 1, vocab_size1=50, embedding_dim1=2, vocab_size2=50, embedding_dim2=2):\n",
        "        super(red, self).__init__()\n",
        "\n",
        "        self.embeddings1 = torch.nn.Embedding(vocab_size1, embedding_dim1)\n",
        "        self.embeddings2 = torch.nn.Embedding(vocab_size2, embedding_dim2)\n",
        "        #self.embeddings = nn.Embedding.from_pretrained(weight, freeze=False)\n",
        "\n",
        "        self.linear1 = torch.nn.Linear(n_input + embedding_dim1 + embedding_dim2, 2)\n",
        "        self.act = torch.nn.ReLU()\n",
        "        #self.act = torch.nn.Tanh()\n",
        "        self.linear2 = torch.nn.Linear(2, 1)\n",
        "\n",
        "    def forward(self, peli, usuario):\n",
        "        embeds1 = self.embeddings1(peli).view((1, -1))\n",
        "        embeds2 = self.embeddings2(usuario).view((1, -1))\n",
        "        final_input = torch.cat([embeds1, embeds2], dim=1)\n",
        "        linear1_out = self.linear1(final_input)\n",
        "        out = self.act(linear1_out)\n",
        "        out = self.linear2(out)\n",
        "        return out"
      ]
    },
    {
      "cell_type": "code",
      "execution_count": 20,
      "metadata": {},
      "outputs": [
        {
          "name": "stdout",
          "output_type": "stream",
          "text": [
            "diccionario de vocabulario Pelis\n",
            "{356: 0, 318: 1, 296: 2, 593: 3, 2571: 4, 260: 5, 480: 6, 110: 7, 589: 8, 527: 9, 2959: 10, 1: 11, 1196: 12, 50: 13, 2858: 14, 47: 15, 780: 16, 150: 17, 1198: 18, 4993: 19, 1210: 20, 858: 21, 457: 22, 592: 23, 5952: 24, 2028: 25, 7153: 26, 588: 27, 608: 28, 2762: 29, 380: 30, 32: 31, 364: 32, 1270: 33, 377: 34, 3578: 35, 4306: 36, 1580: 37, 590: 38, 648: 39, 344: 40, 4226: 41, 367: 42, 58559: 43, 6539: 44, 1214: 45, 595: 46, 1036: 47, 165: 48, 500: 49, 1265: 50, 79132: 51, 1197: 52, 6377: 53, 1704: 54, 316: 55, 2628: 56, 1291: 57, 1721: 58, 153: 59, 1136: 60, 597: 61, 293: 62, 1193: 63, 3793: 64, 231: 65, 4886: 66, 10: 67, 1089: 68, 7361: 69, 6874: 70, 1240: 71, 1221: 72, 2329: 73, 34: 74, 1200: 75, 1213: 76, 1682: 77, 8961: 78, 541: 79, 4995: 80, 736: 81, 5349: 82, 1097: 83, 2683: 84, 733: 85, 2716: 86, 1206: 87, 4973: 88, 5445: 89, 1073: 90, 4963: 91, 586: 92, 33794: 93, 1527: 94, 208: 95, 587: 96, 5989: 97, 1968: 98, 185: 99, 5418: 100, 3147: 101, 3996: 102, 349: 103, 2: 104, 7438: 105, 2918: 106, 1258: 107, 924: 108, 4878: 109, 253: 110, 2115: 111, 329: 112, 1208: 113, 4896: 114, 48516: 115, 539: 116, 1732: 117, 1923: 118, 68954: 119, 223: 120, 60069: 121, 39: 122, 111: 123, 2706: 124, 357: 125, 161: 126, 6: 127, 778: 128, 5816: 129, 1222: 130, 292: 131, 434: 132, 454: 133, 1517: 134, 44191: 135, 912: 136, 4022: 137, 104: 138, 2997: 139, 339: 140, 72998: 141, 3114: 142, 750: 143, 2987: 144, 1617: 145, 3949: 146, 1784: 147, 6365: 148, 1961: 149, 59315: 150, 4027: 151, 2502: 152, 4011: 153, 8368: 154, 551: 155, 919: 156, 288: 157, 2396: 158, 5378: 159, 8360: 160, 2355: 161, 1917: 162, 1259: 163, 1387: 164, 3948: 165, 1356: 166, 2797: 167, 2174: 168, 48780: 169, 1610: 170, 21: 171, 1080: 172, 2012: 173, 2916: 174, 19: 175, 68157: 176, 2324: 177, 2791: 178, 2011: 179, 5618: 180, 2617: 181, 1391: 182, 1653: 183, 1246: 184, 141: 185, 1393: 186, 1307: 187, 5218: 188, 32587: 189, 904: 190, 1220: 191, 410: 192, 95: 193, 1219: 194, 3897: 195, 1101: 196, 788: 197, 16: 198, 1584: 199}\n",
            "diccionario de vocabulario Usuarios\n",
            "{1: 0, 4: 1, 6: 2, 7: 3, 10: 4, 15: 5, 17: 6, 18: 7, 19: 8, 20: 9, 21: 10, 22: 11, 23: 12, 24: 13, 27: 14, 28: 15, 32: 16, 33: 17, 40: 18, 41: 19, 42: 20, 43: 21, 45: 22, 47: 23, 50: 24, 51: 25, 52: 26, 57: 27, 58: 28, 59: 29, 62: 30, 63: 31, 64: 32, 66: 33, 68: 34, 73: 35, 74: 36, 76: 37, 80: 38, 82: 39, 83: 40, 84: 41, 89: 42, 91: 43, 95: 44, 100: 45, 103: 46, 104: 47, 105: 48, 109: 49, 111: 50, 113: 51, 115: 52, 117: 53, 119: 54, 122: 55, 125: 56, 129: 57, 132: 58, 135: 59, 136: 60, 137: 61, 139: 62, 140: 63, 141: 64, 144: 65, 153: 66, 156: 67, 160: 68, 166: 69, 167: 70, 169: 71, 177: 72, 181: 73, 182: 74, 184: 75, 186: 76, 187: 77, 195: 78, 198: 79, 199: 80, 200: 81, 201: 82, 202: 83, 210: 84, 212: 85, 216: 86, 217: 87, 219: 88, 220: 89, 221: 90, 222: 91, 226: 92, 230: 93, 232: 94, 233: 95, 234: 96, 239: 97, 240: 98, 246: 99, 247: 100, 249: 101, 254: 102, 256: 103, 260: 104, 263: 105, 265: 106, 266: 107, 268: 108, 274: 109, 275: 110, 279: 111, 280: 112, 282: 113, 286: 114, 287: 115, 288: 116, 290: 117, 292: 118, 294: 119, 298: 120, 301: 121, 304: 122, 305: 123, 306: 124, 307: 125, 308: 126, 309: 127, 312: 128, 313: 129, 314: 130, 317: 131, 318: 132, 322: 133, 325: 134, 326: 135, 328: 136, 330: 137, 331: 138, 332: 139, 334: 140, 339: 141, 346: 142, 351: 143, 352: 144, 354: 145, 356: 146, 357: 147, 362: 148, 365: 149, 367: 150, 368: 151, 369: 152, 372: 153, 376: 154, 377: 155, 380: 156, 381: 157, 382: 158, 385: 159, 387: 160, 391: 161, 393: 162, 405: 163, 408: 164, 409: 165, 410: 166, 411: 167, 412: 168, 414: 169, 419: 170, 420: 171, 424: 172, 425: 173, 428: 174, 432: 175, 434: 176, 436: 177, 437: 178, 438: 179, 448: 180, 452: 181, 453: 182, 462: 183, 464: 184, 465: 185, 466: 186, 469: 187, 474: 188, 475: 189, 477: 190, 479: 191, 480: 192, 482: 193, 483: 194, 484: 195, 488: 196, 489: 197, 490: 198, 492: 199, 495: 200, 509: 201, 510: 202, 514: 203, 517: 204, 520: 205, 522: 206, 524: 207, 525: 208, 527: 209, 534: 210, 542: 211, 551: 212, 552: 213, 555: 214, 559: 215, 560: 216, 561: 217, 562: 218, 563: 219, 564: 220, 567: 221, 570: 222, 571: 223, 572: 224, 573: 225, 577: 226, 580: 227, 586: 228, 587: 229, 590: 230, 593: 231, 594: 232, 596: 233, 597: 234, 599: 235, 600: 236, 601: 237, 602: 238, 603: 239, 605: 240, 606: 241, 607: 242, 608: 243, 610: 244}\n"
          ]
        }
      ],
      "source": [
        "# armamos un diccionario que me mapee el mes del df a un índex\n",
        "# para pelis\n",
        "peli_to_idx = {peliId: i for i, peliId in enumerate(pelis)}\n",
        "# para usuarios\n",
        "user_to_idx = {userId: i for i, userId in enumerate(usuarios)}\n",
        "print('diccionario de vocabulario Pelis')\n",
        "print(peli_to_idx)\n",
        "print('diccionario de vocabulario Usuarios')\n",
        "print(user_to_idx)"
      ]
    },
    {
      "cell_type": "code",
      "execution_count": 26,
      "metadata": {},
      "outputs": [
        {
          "name": "stdout",
          "output_type": "stream",
          "text": [
            "tensor(20)\n",
            "tensor(110)\n",
            "18461\n",
            "200\n",
            "245\n"
          ]
        }
      ],
      "source": [
        "model = red(n_input = 0, vocab_size1=len(pelis), embedding_dim1=2, vocab_size2=len(usuarios), embedding_dim2=2)\n",
        "x_y = np.array(data[['movieId', 'userId', 'rating']])\n",
        "largo = len(x_y)\n",
        "index_rand = np.random.permutation(largo)\n",
        "indice = index_rand[23]\n",
        "\n",
        "peli_i = x_y[indice,0]\n",
        "user_i = x_y[indice,1]\n",
        "\n",
        "pelis_idxs = torch.tensor(peli_to_idx[peli_i], dtype=torch.long)\n",
        "user_idxs = torch.tensor(user_to_idx[user_i], dtype=torch.long)\n",
        "\n",
        "print(user_idxs)\n",
        "print(pelis_idxs)\n",
        "print(largo)\n",
        "print(len(pelis))\n",
        "print(len(usuarios))\n",
        "pred = model(pelis_idxs, user_idxs)"
      ]
    },
    {
      "cell_type": "code",
      "execution_count": 27,
      "metadata": {},
      "outputs": [
        {
          "name": "stdout",
          "output_type": "stream",
          "text": [
            "[[-8.38586688e-01 -2.91939884e-01]\n",
            " [ 7.43821204e-01  7.24936903e-01]\n",
            " [ 3.53981704e-01  1.73563433e+00]\n",
            " [ 1.25854897e+00 -4.69335347e-01]\n",
            " [-7.70359874e-01  8.46639425e-02]\n",
            " [-1.02345622e+00  1.29659250e-01]\n",
            " [-1.06643987e+00 -4.18802410e-01]\n",
            " [-4.24356788e-01  1.37899959e+00]\n",
            " [-5.21929562e-01  9.69197810e-01]\n",
            " [ 1.35145700e+00  5.79112470e-01]\n",
            " [ 9.65080321e-01  1.66648245e+00]\n",
            " [ 2.12020683e+00 -1.00707717e-01]\n",
            " [ 7.07082689e-01  1.97787806e-01]\n",
            " [-1.73350647e-01 -1.94371331e+00]\n",
            " [-2.32038364e-01 -3.45580846e-01]\n",
            " [ 8.16746950e-01  1.26394331e+00]\n",
            " [-1.70355284e+00 -1.45198956e-01]\n",
            " [-1.13187408e+00 -6.45005763e-01]\n",
            " [ 1.94651961e-01 -6.51533425e-01]\n",
            " [ 4.07470882e-01  2.26415992e+00]\n",
            " [ 1.17441714e+00 -4.21760887e-01]\n",
            " [ 2.03336924e-01  4.54917252e-01]\n",
            " [-3.59753013e-01 -1.19046164e+00]\n",
            " [-3.52393180e-01  9.31904674e-01]\n",
            " [ 1.48566589e-01 -1.85793793e+00]\n",
            " [ 3.77590358e-01 -1.97799355e-02]\n",
            " [-4.59739447e-01 -1.91948128e+00]\n",
            " [-6.95505515e-02 -1.04852773e-01]\n",
            " [-6.35812640e-01 -7.32538521e-01]\n",
            " [ 6.48780882e-01 -2.69706488e+00]\n",
            " [ 9.51456845e-01 -4.11939591e-01]\n",
            " [-4.18786943e-01  5.15708685e-01]\n",
            " [ 1.30022192e+00  2.02532604e-01]\n",
            " [-2.22693607e-02  6.07481182e-01]\n",
            " [ 4.82720673e-01 -1.84147370e+00]\n",
            " [-7.75449753e-01  7.79731512e-01]\n",
            " [-8.37942362e-02 -4.82795805e-01]\n",
            " [ 3.41742724e-01 -5.68633616e-01]\n",
            " [-6.19545877e-01 -5.06027937e-01]\n",
            " [-4.08964932e-01  9.55390155e-01]\n",
            " [-9.32285488e-01 -8.24139953e-01]\n",
            " [-3.78581226e-01 -1.23581454e-01]\n",
            " [ 2.51124054e-01 -4.05016541e-01]\n",
            " [-7.70841360e-01 -8.99399817e-01]\n",
            " [ 2.33558156e-02  1.34592497e+00]\n",
            " [ 1.08782160e+00 -2.02530551e+00]\n",
            " [ 1.12725461e+00  2.01499179e-01]\n",
            " [-1.92179188e-01  8.12703609e-01]\n",
            " [-2.47420464e-03  3.97679180e-01]\n",
            " [-4.01988596e-01 -6.44702256e-01]\n",
            " [ 7.41462231e-01  9.32253540e-01]\n",
            " [-6.75636232e-01 -4.81340826e-01]\n",
            " [-1.27145517e+00 -4.20400947e-01]\n",
            " [ 1.58797324e+00  6.06472015e-01]\n",
            " [-6.24080479e-01 -2.07801327e-01]\n",
            " [ 4.17146564e-01  3.06344450e-01]\n",
            " [ 6.50813460e-01  6.93960249e-01]\n",
            " [-7.61732936e-01  9.85579550e-01]\n",
            " [-5.30716360e-01  4.07846987e-01]\n",
            " [ 2.20770255e-01  1.19221218e-01]\n",
            " [ 1.59800425e-01 -8.76087368e-01]\n",
            " [ 1.02407062e+00  1.35292995e+00]\n",
            " [-2.01171398e-01  1.02520752e+00]\n",
            " [ 1.99496078e+00 -3.34969372e-01]\n",
            " [ 2.28762135e-01  7.38871634e-01]\n",
            " [ 1.79017675e+00  1.25542414e+00]\n",
            " [-3.77346694e-01  1.62735939e+00]\n",
            " [ 1.12818623e+00 -7.41403818e-01]\n",
            " [ 1.16926777e+00  4.99332041e-01]\n",
            " [-1.37429684e-01 -5.08742779e-02]\n",
            " [ 1.00893235e+00  9.24846947e-01]\n",
            " [-3.48897576e-01 -1.75816846e+00]\n",
            " [ 9.26655710e-01  1.16564453e-01]\n",
            " [-1.80831504e+00  7.29411364e-01]\n",
            " [ 1.55903685e+00 -2.37160753e-02]\n",
            " [ 7.94902295e-02 -1.60251617e+00]\n",
            " [ 1.02568638e+00  1.15030468e+00]\n",
            " [ 4.83331352e-01  1.03037238e+00]\n",
            " [ 2.30139232e+00  2.82639354e-01]\n",
            " [-3.41031879e-01  1.25423682e+00]\n",
            " [ 9.23309326e-01  9.33753848e-01]\n",
            " [ 5.62325180e-01  4.77443129e-01]\n",
            " [-2.80968249e-01  2.93403238e-01]\n",
            " [ 4.05140042e-01 -1.38430631e+00]\n",
            " [-2.41835207e-01 -1.82121858e-01]\n",
            " [ 6.60143420e-02  1.83971301e-02]\n",
            " [-2.11318994e+00  1.96330678e+00]\n",
            " [ 1.86922163e-01  8.24070513e-01]\n",
            " [-7.05486894e-01 -1.30184698e+00]\n",
            " [ 3.05392325e-01  3.62568349e-02]\n",
            " [-9.20799553e-01 -9.92922723e-01]\n",
            " [ 1.02363348e+00 -3.31207588e-02]\n",
            " [-6.95363700e-01 -1.54652047e+00]\n",
            " [ 1.45978189e+00  1.37973773e+00]\n",
            " [ 1.61394215e+00  2.64761895e-01]\n",
            " [ 3.83517116e-01 -1.61751437e+00]\n",
            " [-1.43138885e+00  2.37298444e-01]\n",
            " [ 2.08811045e-01  3.27246010e-01]\n",
            " [-2.31748152e+00 -1.11397350e+00]\n",
            " [-2.34502167e-01  3.39199591e+00]\n",
            " [-1.54703081e-01  6.65341437e-01]\n",
            " [ 3.00609469e-01 -9.44752038e-01]\n",
            " [-3.81381631e-01  7.58357286e-01]\n",
            " [ 9.78855491e-01  1.04497053e-01]\n",
            " [ 1.79075599e-01 -8.84000584e-02]\n",
            " [ 5.73577285e-01  5.95075846e-01]\n",
            " [-1.92762005e+00  1.11918926e+00]\n",
            " [ 1.02171123e+00 -9.45360720e-01]\n",
            " [ 7.68200755e-02  1.09031320e+00]\n",
            " [-7.76070893e-01  2.62987995e+00]\n",
            " [ 1.13409483e+00 -1.32633257e+00]\n",
            " [ 2.78378010e-01  8.20633948e-01]\n",
            " [ 8.03545937e-02  6.50923550e-01]\n",
            " [-6.19942546e-01 -1.00537866e-01]\n",
            " [ 2.22349000e+00 -1.00814903e+00]\n",
            " [ 7.18881041e-02  1.35018361e+00]\n",
            " [-1.58192784e-01 -2.57854909e-01]\n",
            " [ 5.47253847e-01  4.17851657e-01]\n",
            " [ 9.52751219e-01  9.82515335e-01]\n",
            " [-2.01156870e-01 -6.55887052e-02]\n",
            " [-8.46297145e-01  2.78187186e-01]\n",
            " [-1.33986020e+00 -2.03732657e+00]\n",
            " [ 3.04065764e-01  4.19052035e-01]\n",
            " [-1.46083343e+00 -2.34845924e+00]\n",
            " [ 5.70439517e-01 -9.24798965e-01]\n",
            " [ 2.03271604e+00  1.26759171e+00]\n",
            " [-5.42800069e-01 -2.21380997e+00]\n",
            " [-1.19314110e-02  1.46120593e-01]\n",
            " [-1.00634193e+00  5.24693847e-01]\n",
            " [ 1.19809330e+00 -9.22524258e-02]\n",
            " [ 4.64357495e-01  1.93502866e-02]\n",
            " [-1.65806007e+00 -1.79315341e+00]\n",
            " [-1.14726746e+00 -7.75270760e-01]\n",
            " [ 2.37555832e-01 -1.33760965e+00]\n",
            " [-1.84490457e-01  1.04186416e+00]\n",
            " [-4.14744496e-01 -9.18486118e-01]\n",
            " [ 4.00455803e-01 -9.10614789e-01]\n",
            " [ 1.72933018e+00 -9.71346915e-01]\n",
            " [-1.93841958e+00  1.29277754e+00]\n",
            " [-1.03776848e+00 -9.71771479e-01]\n",
            " [-9.53447580e-01  6.25670016e-01]\n",
            " [ 7.77602315e-01 -2.65319467e-01]\n",
            " [-1.31837595e+00 -8.65215063e-01]\n",
            " [ 3.66545141e-01  1.57733595e+00]\n",
            " [ 6.61770344e-01  5.13845444e-01]\n",
            " [-8.01778436e-01  4.84931320e-01]\n",
            " [-8.34353864e-01  1.23589242e+00]\n",
            " [-6.22689903e-01  3.88661146e-01]\n",
            " [-1.98373675e+00 -1.41777110e+00]\n",
            " [ 2.95645148e-01  7.59471431e-02]\n",
            " [ 6.80790422e-03  1.45439947e+00]\n",
            " [ 3.44495267e-01  1.87653989e-01]\n",
            " [-1.35821879e+00 -1.32817912e+00]\n",
            " [ 2.59390903e+00  3.23229849e-01]\n",
            " [-5.43883979e-01 -1.81775212e+00]\n",
            " [ 8.92721593e-01 -1.02471459e+00]\n",
            " [-7.91744292e-01 -1.56520724e+00]\n",
            " [-1.92031026e-01  5.59683681e-01]\n",
            " [-2.62485981e-01  4.39407110e-01]\n",
            " [ 1.73077479e-01  6.55719221e-01]\n",
            " [ 7.91686177e-02 -2.57299453e-01]\n",
            " [ 5.05241871e-01  3.88119854e-02]\n",
            " [ 6.95624650e-01 -6.86071575e-01]\n",
            " [-3.56115639e-01  1.12794828e+00]\n",
            " [-1.72539353e-02 -3.84796351e-01]\n",
            " [ 1.11472869e+00  6.43407762e-01]\n",
            " [-2.52468109e-01 -9.60235357e-01]\n",
            " [ 1.06924303e-01 -5.31744123e-01]\n",
            " [ 8.10660720e-01  1.41857946e+00]\n",
            " [ 7.01418757e-01  8.02563369e-01]\n",
            " [-9.84382629e-02  1.05974019e+00]\n",
            " [-1.50740162e-01 -1.63476562e+00]\n",
            " [-6.17021382e-01 -8.56434822e-01]\n",
            " [ 1.24784970e+00 -5.88447690e-01]\n",
            " [-1.11070263e+00  7.21214771e-01]\n",
            " [-1.22769701e+00  4.78073478e-01]\n",
            " [-9.15191472e-01 -1.53063548e+00]\n",
            " [ 6.19996786e-01 -9.10765707e-01]\n",
            " [ 6.94224797e-03  9.70264912e-01]\n",
            " [ 2.08938435e-01  3.87348890e-01]\n",
            " [-8.61117542e-01 -1.04184687e+00]\n",
            " [-1.53550625e+00  1.55921146e-01]\n",
            " [-4.59107161e-01  3.83563370e-01]\n",
            " [ 6.69633448e-02  1.35603142e+00]\n",
            " [-5.64080738e-02  1.67483485e+00]\n",
            " [-6.07448936e-01  7.14037836e-01]\n",
            " [-9.42857981e-01 -7.00271249e-01]\n",
            " [-1.76790309e+00 -1.47068787e+00]\n",
            " [ 3.97153288e-01  1.11228347e+00]\n",
            " [-9.81348455e-01 -2.21166801e+00]\n",
            " [ 5.21619201e-01  9.57864702e-01]\n",
            " [-1.33864975e+00 -4.69129831e-02]\n",
            " [-7.10460126e-01  1.45755315e+00]\n",
            " [-1.07004546e-01 -4.52305734e-01]\n",
            " [-4.06785399e-01 -2.53266338e-02]\n",
            " [-1.06715202e+00  2.15732306e-01]\n",
            " [-1.14111269e+00 -5.98959148e-01]\n",
            " [-5.48602641e-01 -1.88953638e+00]\n",
            " [-3.75039518e-01  9.43761408e-01]\n",
            " [-7.85363197e-01  1.92837074e-01]]\n",
            "[[-4.91193905e-02  1.80959180e-01]\n",
            " [-4.98579204e-01  9.46773171e-01]\n",
            " [ 7.35415161e-01 -2.91086864e-02]\n",
            " [ 4.06082533e-02 -2.34093571e+00]\n",
            " [-1.00716555e+00 -9.32395756e-02]\n",
            " [-8.50833282e-02  2.67249554e-01]\n",
            " [ 3.97454947e-01 -8.99436474e-01]\n",
            " [-4.10050154e-01  8.59936655e-01]\n",
            " [ 1.04939294e+00  1.64598596e+00]\n",
            " [-2.25622971e-02 -3.72963369e-01]\n",
            " [ 5.44624150e-01  7.28296518e-01]\n",
            " [-1.98792958e+00 -8.58257592e-01]\n",
            " [ 1.83694571e-01  9.40780222e-01]\n",
            " [-1.13244927e+00  2.56261635e+00]\n",
            " [-1.83730647e-01 -1.73408210e-01]\n",
            " [-2.72039914e+00  8.31456363e-01]\n",
            " [ 1.09708261e+00 -1.66400445e+00]\n",
            " [-3.10480855e-02  4.40862805e-01]\n",
            " [-2.57448722e-02  1.85971886e-01]\n",
            " [ 8.82674396e-01 -1.80506736e-01]\n",
            " [ 9.95518684e-01  1.75291881e-01]\n",
            " [ 9.87907946e-01 -1.12784088e+00]\n",
            " [ 2.78528243e-01 -1.96124583e-01]\n",
            " [-3.49764258e-01  2.24211529e-01]\n",
            " [-1.00532460e+00 -3.95076931e-01]\n",
            " [ 1.13152504e+00  3.54633152e-01]\n",
            " [-2.67958105e-01  3.05693686e-01]\n",
            " [-1.75676756e-02  4.96344626e-01]\n",
            " [ 1.37391791e-01  8.00162256e-02]\n",
            " [-1.72509611e-01 -5.84573150e-01]\n",
            " [ 1.42698157e+00 -5.90225309e-02]\n",
            " [-2.89795399e-01  2.06090713e+00]\n",
            " [ 1.04317987e+00  5.75367391e-01]\n",
            " [-1.84273034e-01 -9.37135160e-01]\n",
            " [ 1.87019598e+00  1.45297241e+00]\n",
            " [-4.32868421e-01 -4.82628755e-02]\n",
            " [ 1.35254607e-01 -4.24890757e-01]\n",
            " [ 3.46601456e-01  1.25235116e+00]\n",
            " [-1.58810425e+00  6.23047292e-01]\n",
            " [-1.26745737e+00  3.05450827e-01]\n",
            " [-5.00558496e-01  1.65435985e-01]\n",
            " [-1.00305390e+00 -7.12123990e-01]\n",
            " [ 1.57091960e-01 -1.62198400e+00]\n",
            " [-1.69514525e+00 -9.53493476e-01]\n",
            " [-1.93073392e-01  4.58873779e-01]\n",
            " [-1.35365820e+00  6.34540498e-01]\n",
            " [ 2.49585837e-01 -7.16588616e-01]\n",
            " [ 1.10673404e+00 -2.06804559e-01]\n",
            " [ 6.16735816e-01 -5.59055746e-01]\n",
            " [ 4.19573635e-01 -4.44690794e-01]\n",
            " [-5.53893745e-01  4.71548915e-01]\n",
            " [ 2.40903616e-01  5.14657021e-01]\n",
            " [-1.56538650e-01 -2.64446102e-02]\n",
            " [ 6.83549762e-01  1.12007833e+00]\n",
            " [ 5.45256972e-01  1.40440613e-01]\n",
            " [-4.88104552e-01  1.05377042e+00]\n",
            " [-2.40806699e-01 -4.68661457e-01]\n",
            " [-6.06792092e-01  6.28473282e-01]\n",
            " [ 1.56400585e+00 -1.87949389e-01]\n",
            " [ 2.00820968e-01  6.42609000e-01]\n",
            " [-4.29201573e-01  1.09158671e+00]\n",
            " [-3.37816268e-01 -4.28135574e-01]\n",
            " [-5.55121720e-01 -1.56535923e+00]\n",
            " [ 7.19299316e-01  1.80812705e+00]\n",
            " [ 8.69341493e-01 -1.10203826e+00]\n",
            " [-8.16099405e-01 -9.65837896e-01]\n",
            " [-3.48722279e-01 -6.27339602e-01]\n",
            " [ 9.86440301e-01 -7.45403707e-01]\n",
            " [-1.83511060e-02  7.57682800e-01]\n",
            " [ 1.04168296e-01 -1.01003766e+00]\n",
            " [ 3.08946460e-01  1.33008194e+00]\n",
            " [ 8.86305690e-01  2.85441607e-01]\n",
            " [ 3.55661541e-01 -3.94539624e-01]\n",
            " [ 1.05169833e+00 -9.44741964e-01]\n",
            " [ 4.94662732e-01 -6.17389381e-03]\n",
            " [ 9.81100440e-01 -1.75070143e+00]\n",
            " [ 1.56510413e+00 -1.98965144e+00]\n",
            " [ 1.38790071e+00  1.32722235e+00]\n",
            " [-9.88400951e-02  1.47116363e-01]\n",
            " [ 6.53158724e-01 -3.09647650e-01]\n",
            " [-6.35873139e-01 -6.45207644e-01]\n",
            " [ 5.83562292e-02  4.79071923e-02]\n",
            " [-1.70242190e+00  7.77565181e-01]\n",
            " [-8.21574509e-01  1.39798105e+00]\n",
            " [ 9.10702288e-01  3.53921615e-02]\n",
            " [-5.83270967e-01 -4.95410919e-01]\n",
            " [-3.41996461e-01  4.78197247e-01]\n",
            " [ 5.63114226e-01  1.80838621e+00]\n",
            " [-2.41616160e-01 -6.05819225e-01]\n",
            " [-8.19556534e-01 -4.32060003e-01]\n",
            " [ 3.62913251e-01 -4.19457525e-01]\n",
            " [ 7.22746432e-01  5.80821753e-01]\n",
            " [-7.96104372e-01  3.49383920e-01]\n",
            " [-7.58292317e-01 -1.14690483e-01]\n",
            " [ 1.25221467e+00 -1.05096936e+00]\n",
            " [ 4.13144857e-01  8.41402173e-01]\n",
            " [ 1.71398211e+00  1.59098399e+00]\n",
            " [ 3.36194247e-01 -8.23958099e-01]\n",
            " [ 7.46136129e-01 -1.66414952e+00]\n",
            " [ 1.82530689e+00 -1.39466000e+00]\n",
            " [-9.02920306e-01  9.21014428e-01]\n",
            " [-6.79597408e-02  6.75137460e-01]\n",
            " [-8.13907564e-01 -2.40917616e-02]\n",
            " [-2.45957777e-01  2.72431552e-01]\n",
            " [-3.53041440e-01  8.54903460e-01]\n",
            " [ 3.13211888e-01  7.52704740e-01]\n",
            " [ 3.18238020e-01 -7.44827867e-01]\n",
            " [ 3.76121253e-01  2.68537611e-01]\n",
            " [ 4.17872757e-01 -2.92273450e+00]\n",
            " [ 3.46524537e-01  1.05359721e+00]\n",
            " [-1.64139673e-01  1.22933102e+00]\n",
            " [-8.58046532e-01  4.65160429e-01]\n",
            " [-9.06475484e-01 -4.26592916e-01]\n",
            " [-1.64628828e+00  9.39700782e-01]\n",
            " [-2.30802727e+00 -8.64351019e-02]\n",
            " [-5.15001535e-01 -6.02031052e-01]\n",
            " [-7.05987066e-02  4.69626158e-01]\n",
            " [ 5.93857408e-01  1.81513333e+00]\n",
            " [-3.43948543e-01  4.57852662e-01]\n",
            " [ 2.36950055e-01 -1.66980362e+00]\n",
            " [-1.74730003e-01 -5.74598312e-01]\n",
            " [-2.54876554e-01 -1.61506772e-01]\n",
            " [ 3.62627119e-01  5.05184792e-02]\n",
            " [-1.24831453e-01 -4.71096694e-01]\n",
            " [ 2.58777410e-01  1.62737238e+00]\n",
            " [ 9.14516032e-01  4.65046644e-01]\n",
            " [-4.74846125e-01  7.71288350e-02]\n",
            " [ 1.36428066e-02 -5.20986319e-01]\n",
            " [-1.44637454e+00 -6.41811907e-01]\n",
            " [ 8.93024385e-01  4.81627017e-01]\n",
            " [ 5.96834660e-01  5.27687311e-01]\n",
            " [-8.14865291e-01 -6.13423109e-01]\n",
            " [ 7.63689280e-01  7.34347403e-01]\n",
            " [-1.96611106e+00  3.40336487e-02]\n",
            " [-2.46890306e-01 -9.02285650e-02]\n",
            " [ 2.80866563e-01  2.13195965e-01]\n",
            " [-1.78222433e-02 -2.43385148e+00]\n",
            " [ 9.07306969e-01 -6.12545311e-01]\n",
            " [ 1.26438880e+00 -1.79693329e+00]\n",
            " [ 1.94106209e+00  2.38333464e+00]\n",
            " [ 2.29572520e-01 -5.25946140e-01]\n",
            " [-2.25056720e+00 -4.56214100e-01]\n",
            " [-1.20741045e+00  5.95158637e-01]\n",
            " [-1.18936360e+00 -7.65029564e-02]\n",
            " [ 1.02493143e+00  1.01257277e+00]\n",
            " [-3.88446271e-01  6.85299218e-01]\n",
            " [-6.67623758e-01 -3.19046587e-01]\n",
            " [ 1.26361251e+00  7.30368197e-01]\n",
            " [-6.07480220e-02 -1.18327820e+00]\n",
            " [ 5.36927283e-01 -4.82643753e-01]\n",
            " [ 1.40109468e+00 -9.37425375e-01]\n",
            " [ 1.52818477e+00  1.42993295e+00]\n",
            " [-5.09341776e-01  9.02450606e-02]\n",
            " [ 3.49757493e-01  1.29789615e+00]\n",
            " [ 7.71085918e-01 -4.39307958e-01]\n",
            " [ 3.30749750e-01 -6.06998563e-01]\n",
            " [ 1.21263444e+00 -4.86552507e-01]\n",
            " [ 5.36080480e-01  9.14776325e-01]\n",
            " [ 6.08119011e-01 -2.62659211e-02]\n",
            " [ 2.18143895e-01 -6.24934375e-01]\n",
            " [-1.13763499e+00 -6.67821705e-01]\n",
            " [ 3.16199809e-01 -7.15346456e-01]\n",
            " [ 3.30904156e-01 -3.47795576e-01]\n",
            " [ 4.77583408e-01  8.17108154e-01]\n",
            " [-3.03452611e-01  9.48824883e-01]\n",
            " [ 1.60170746e+00 -1.67875677e-01]\n",
            " [-1.26139045e-01 -1.01836503e+00]\n",
            " [ 1.84207130e-03 -4.83267009e-01]\n",
            " [-2.07648778e+00  9.13554072e-01]\n",
            " [-5.14738321e-01 -1.12622130e+00]\n",
            " [-4.16456789e-01 -1.34772092e-01]\n",
            " [-1.76552147e-01  3.74129087e-01]\n",
            " [ 1.38541669e-01 -3.97784561e-01]\n",
            " [-2.18295619e-01 -5.87414026e-01]\n",
            " [ 7.20743477e-01  2.31019422e-01]\n",
            " [ 1.48079008e-01  4.11378480e-02]\n",
            " [-1.06984210e+00 -3.44793916e-01]\n",
            " [ 4.75997388e-01  2.13127661e+00]\n",
            " [-4.87007231e-01  2.96469629e-01]\n",
            " [ 8.84103775e-02 -5.23685277e-01]\n",
            " [-6.41599536e-01  7.41023421e-01]\n",
            " [-2.42100671e-01  2.70583957e-01]\n",
            " [ 1.23876846e+00  3.24865550e-01]\n",
            " [-5.22674382e-01 -1.79920793e+00]\n",
            " [-8.95763159e-01  1.24412966e+00]\n",
            " [ 1.38291609e+00 -1.30940247e+00]\n",
            " [ 3.12358260e-01  2.23024040e-01]\n",
            " [ 4.86632228e-01  3.40194374e-01]\n",
            " [-1.29818380e+00 -1.25292227e-01]\n",
            " [ 1.68289196e+00  5.65719046e-02]\n",
            " [ 7.47772574e-01 -6.59635901e-01]\n",
            " [ 1.00185239e+00 -1.02300668e+00]\n",
            " [ 2.44357660e-01  1.64344758e-02]\n",
            " [-4.40932065e-01  3.66238564e-01]\n",
            " [ 5.39472520e-01 -3.29594284e-01]\n",
            " [-8.44211519e-01 -2.35565758e+00]\n",
            " [ 9.55822349e-01  7.56193325e-02]\n",
            " [-1.01763785e+00 -1.05725098e+00]\n",
            " [-4.84005958e-02  2.91546255e-01]\n",
            " [-3.67242038e-01  1.29087210e+00]\n",
            " [ 3.14211935e-01  2.76844501e-01]\n",
            " [-8.50985944e-01  5.08147776e-02]\n",
            " [ 9.61732268e-02 -2.20378414e-01]\n",
            " [-7.12850928e-01  6.04353309e-01]\n",
            " [ 1.30691481e+00  6.75140768e-02]\n",
            " [-2.19617277e-01 -7.17878222e-01]\n",
            " [-4.65716794e-02 -2.18118072e-01]\n",
            " [-6.75823629e-01 -1.88236192e-01]\n",
            " [-5.59659421e-01  1.34849858e+00]\n",
            " [ 2.13130023e-02 -8.19267705e-02]\n",
            " [-2.53696442e-01  6.82814047e-02]\n",
            " [-2.25362867e-01  3.33333075e-01]\n",
            " [-5.70772648e-01 -1.37415731e+00]\n",
            " [-1.45330095e+00 -6.14656091e-01]\n",
            " [ 7.23754287e-01 -1.44885719e+00]\n",
            " [-2.15460703e-01  9.45521355e-01]\n",
            " [-1.26840091e+00 -3.58653039e-01]\n",
            " [-7.11147368e-01 -6.15694344e-01]\n",
            " [-1.68611631e-01  6.07008696e-01]\n",
            " [ 1.48578835e+00 -1.21832716e+00]\n",
            " [ 2.32472625e-02 -5.67041576e-01]\n",
            " [-1.83534670e+00 -1.34346113e-01]\n",
            " [-3.99763376e-01  1.66056424e-01]\n",
            " [-5.97234786e-01  1.09677427e-01]\n",
            " [ 9.36085999e-01 -1.42094624e+00]\n",
            " [ 1.95877910e+00  3.92747015e-01]\n",
            " [-1.13729262e+00 -2.38215744e-01]\n",
            " [ 2.06222653e+00  2.96425909e-01]\n",
            " [-3.99039537e-01  9.79583636e-02]\n",
            " [-6.53956890e-01  6.88848019e-01]\n",
            " [-3.75709757e-02  2.80454785e-01]\n",
            " [-1.13240266e+00  1.90108120e-01]\n",
            " [ 1.62780538e-01 -1.61901796e+00]\n",
            " [ 2.30434513e+00 -2.27359146e-01]\n",
            " [-1.57784019e-02  1.68115377e-01]\n",
            " [ 1.25197470e+00 -4.28265393e-01]\n",
            " [ 7.93985128e-01  6.37434602e-01]\n",
            " [ 1.13329422e+00  1.22773337e+00]\n",
            " [-4.76951629e-01  5.01587927e-01]\n",
            " [-4.30948660e-03 -5.30379176e-01]\n",
            " [-1.89193740e-01 -1.30508339e+00]\n",
            " [-2.12890849e-01 -1.93012071e+00]\n",
            " [-1.52489305e+00  8.95481348e-01]\n",
            " [ 2.10050988e+00  4.17450815e-01]\n",
            " [-5.96597612e-01  2.59459466e-02]]\n"
          ]
        }
      ],
      "source": [
        "losses = []\n",
        "loss_function = torch.nn.MSELoss()\n",
        "\n",
        "model = red(n_input = 0, vocab_size1=len(pelis), embedding_dim1=2, vocab_size2=len(usuarios), embedding_dim2=2)\n",
        "\n",
        "optimizer = torch.optim.SGD(model.parameters(), lr=0.05)#, momentum=0.1)\n",
        "\n",
        "emb_partida1 = np.copy(model.embeddings1.weight.detach().numpy())\n",
        "emb_partida2 = np.copy(model.embeddings2.weight.detach().numpy())\n",
        "\n",
        "print(emb_partida1)\n",
        "print(emb_partida2)"
      ]
    },
    {
      "cell_type": "code",
      "execution_count": 279,
      "metadata": {},
      "outputs": [
        {
          "name": "stdout",
          "output_type": "stream",
          "text": [
            "(18461, 3)\n"
          ]
        }
      ],
      "source": [
        "# armamos una array con los datos de entrenamiento\n",
        "x_y = np.array(data[['movieId', 'userId', 'rating']])\n",
        "print(x_y.shape)"
      ]
    },
    {
      "cell_type": "code",
      "execution_count": 38,
      "metadata": {},
      "outputs": [
        {
          "name": "stdout",
          "output_type": "stream",
          "text": [
            "Save Best Model in HISTORY\n",
            "\n",
            "95.61371226697199\n",
            "Save Best Model in HISTORY\n",
            "\n",
            "Save Best Model in HISTORY\n",
            "\n"
          ]
        }
      ],
      "source": [
        "device = \"cuda\" if torch.cuda.is_available() else \"cpu\"\n",
        "model.to(device)\n",
        "global BEST_VAL\n",
        "BEST_VAL = 99999\n",
        "for epoch in range(100):\n",
        "    total_loss = 0\n",
        "    largo = len(x_y)\n",
        "    # armo un vector de indices random para leer\n",
        "    # mi matriz de datos de forma aleatoria\n",
        "    index_rand = np.random.permutation(largo)\n",
        "    for i in range(largo): # barro todo de set de entrenamiento\n",
        "      # saco el índice de ese vector de indices random\n",
        "      indice = index_rand[i]\n",
        "      # saco pelis y users y le paso a idx      \n",
        "      peli_i = x_y[indice,0]\n",
        "      user_i = x_y[indice,1]\n",
        "      pelis_idxs = torch.tensor(peli_to_idx[peli_i], dtype=torch.long).to(device)\n",
        "      user_idxs = torch.tensor(user_to_idx[user_i], dtype=torch.long).to(device)\n",
        "\n",
        "      # saco las otras variables\n",
        "      # x =  torch.tensor([[x_y[indice,1]]], dtype=torch.long)\n",
        "\n",
        "      # saco el valor deseado\n",
        "      target = torch.tensor([[x_y[indice,2]]]).to(device)\n",
        "\n",
        "      # preparo el  modelo (limpio el gradiente)\n",
        "      model.zero_grad()\n",
        "\n",
        "      # le paso al modelo la input (pelis y usuarios para embeddings)\n",
        "      pred = model(pelis_idxs, user_idxs)\n",
        "\n",
        "      # calculo la loss\n",
        "      loss = loss_function(pred.float(), target.float())\n",
        "\n",
        "      # Step 5. Do the backward pass and update the gradient\n",
        "      loss.backward()\n",
        "      optimizer.step()\n",
        "\n",
        "      # Get the Python number from a 1-element Tensor by calling tensor.item()\n",
        "      total_loss += loss.item()\n",
        "\n",
        "    losses.append(total_loss) # para cada epoch, guardo la loss\n",
        "    \n",
        "    # Guardo el modelo\n",
        "    direccion = './'    \n",
        "    if total_loss < BEST_VAL:\n",
        "      BEST_VAL = total_loss\n",
        "      #salvado = os.path.join(path, \"User/Desktop\", \"file.txt\")\n",
        "      torch.save(model.state_dict(), os.path.join(direccion, \"embeddings_pelisYusers.pt\"))\n",
        "      print('Save Best Model in HISTORY\\n')\n",
        "      # imprimo resultados cada 10 epochs\n",
        "    if (int(epoch) % 10) == 0:\n",
        "        print(total_loss/largo*100)\n",
        "        # print(model.embeddings.weight[word_to_ix[1]])\n",
        "        # print(model.linear1.weight[0])\n",
        "#print(losses)  # The loss decreased every iteration over the training data!\n",
        "plt.plot(np.array(losses)/largo*100)\n",
        "plt.show()"
      ]
    },
    {
      "cell_type": "code",
      "execution_count": 34,
      "metadata": {},
      "outputs": [
        {
          "name": "stdout",
          "output_type": "stream",
          "text": [
            "Save Best Model in HISTORY\n",
            "\n"
          ]
        }
      ],
      "source": [
        "import os\n",
        "direccion = './'\n",
        "global BEST_VAL\n",
        "#if TRAIN_SCRATCH and avg_loss < BEST_VAL:\n",
        "#BEST_VAL = avg_loss\n",
        "#salvado = os.path.join(path, \"User/Desktop\", \"file.txt\")\n",
        "torch.save(model.state_dict(), os.path.join(direccion, \"embeddings_pelisYusers.pt\"))\n",
        "print('Save Best Model in HISTORY\\n')"
      ]
    },
    {
      "cell_type": "code",
      "execution_count": 36,
      "metadata": {},
      "outputs": [
        {
          "data": {
            "text/plain": [
              "<All keys matched successfully>"
            ]
          },
          "execution_count": 36,
          "metadata": {},
          "output_type": "execute_result"
        }
      ],
      "source": [
        "model.load_state_dict(torch.load(os.path.join(direccion, \"embeddings_pelisYusers.pt\"), map_location=device))"
      ]
    }
  ],
  "metadata": {
    "colab": {
      "provenance": []
    },
    "kernelspec": {
      "display_name": "Python 3",
      "name": "python3"
    },
    "language_info": {
      "codemirror_mode": {
        "name": "ipython",
        "version": 3
      },
      "file_extension": ".py",
      "mimetype": "text/x-python",
      "name": "python",
      "nbconvert_exporter": "python",
      "pygments_lexer": "ipython3",
      "version": "3.11.5"
    }
  },
  "nbformat": 4,
  "nbformat_minor": 0
}
