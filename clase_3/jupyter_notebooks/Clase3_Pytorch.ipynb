{
 "cells": [
  {
   "cell_type": "markdown",
   "metadata": {
    "id": "6hnAb_E0gZFA"
   },
   "source": [
    "# Aprendizaje Profundo - Clase 3\n"
   ]
  },
  {
   "cell_type": "code",
   "execution_count": 1,
   "metadata": {
    "id": "TUEjdowba98t"
   },
   "outputs": [],
   "source": [
    "import pandas as pd\n",
    "import numpy as np\n",
    "import matplotlib.pyplot as plt"
   ]
  },
  {
   "cell_type": "markdown",
   "metadata": {
    "id": "Y1BvoqATgjo9"
   },
   "source": [
    "**Consejo, montar drive para utilizar datos desde colab**\n",
    "\n",
    "![image.png](data:image/png;base64,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)"
   ]
  },
  {
   "cell_type": "markdown",
   "metadata": {
    "id": "fVMKJ1DihXiv"
   },
   "source": [
    "## Cargamos el dataset"
   ]
  },
  {
   "cell_type": "code",
   "execution_count": 4,
   "metadata": {
    "id": "dF9wgHw5jTW8"
   },
   "outputs": [],
   "source": [
    "df = pd.read_csv(\"..\\..\\clase_3\\data\\class_7_wine_dataset_v2.csv\")"
   ]
  },
  {
   "cell_type": "code",
   "execution_count": 5,
   "metadata": {
    "colab": {
     "base_uri": "https://localhost:8080/"
    },
    "id": "gJRi8PDykHgL",
    "outputId": "7f59d10e-563f-47af-ab79-031db0919cb6"
   },
   "outputs": [
    {
     "data": {
      "text/plain": [
       "6497"
      ]
     },
     "execution_count": 5,
     "metadata": {},
     "output_type": "execute_result"
    }
   ],
   "source": [
    "len(df)"
   ]
  },
  {
   "cell_type": "markdown",
   "metadata": {
    "id": "Ay7lvsepha91"
   },
   "source": [
    "## Exploramos el dataset"
   ]
  },
  {
   "cell_type": "code",
   "execution_count": 6,
   "metadata": {
    "colab": {
     "base_uri": "https://localhost:8080/"
    },
    "id": "7i82jZ6RkROb",
    "outputId": "d972aa84-2894-47c2-b20a-bc78d11d20b8"
   },
   "outputs": [
    {
     "name": "stdout",
     "output_type": "stream",
     "text": [
      "<class 'pandas.core.frame.DataFrame'>\n",
      "RangeIndex: 6497 entries, 0 to 6496\n",
      "Data columns (total 15 columns):\n",
      " #   Column                Non-Null Count  Dtype  \n",
      "---  ------                --------------  -----  \n",
      " 0   Unnamed: 0            6497 non-null   int64  \n",
      " 1   type                  6497 non-null   object \n",
      " 2   fixed acidity         6487 non-null   float64\n",
      " 3   volatile acidity      6489 non-null   float64\n",
      " 4   citric acid           6494 non-null   float64\n",
      " 5   residual sugar        6495 non-null   float64\n",
      " 6   chlorides             6495 non-null   float64\n",
      " 7   free sulfur dioxide   6497 non-null   float64\n",
      " 8   total sulfur dioxide  6497 non-null   float64\n",
      " 9   density               6497 non-null   float64\n",
      " 10  pH                    6488 non-null   float64\n",
      " 11  sulphates             6493 non-null   float64\n",
      " 12  alcohol               6497 non-null   float64\n",
      " 13  quality               6497 non-null   int64  \n",
      " 14  vendor_id             6497 non-null   int64  \n",
      "dtypes: float64(11), int64(3), object(1)\n",
      "memory usage: 761.5+ KB\n"
     ]
    }
   ],
   "source": [
    "df.info()"
   ]
  },
  {
   "cell_type": "code",
   "execution_count": 7,
   "metadata": {
    "colab": {
     "base_uri": "https://localhost:8080/",
     "height": 285
    },
    "id": "-M1zpj1JkdTo",
    "outputId": "ca9b5d1b-d68e-4684-e28e-c3551b13768f"
   },
   "outputs": [
    {
     "data": {
      "text/html": [
       "<div>\n",
       "<style scoped>\n",
       "    .dataframe tbody tr th:only-of-type {\n",
       "        vertical-align: middle;\n",
       "    }\n",
       "\n",
       "    .dataframe tbody tr th {\n",
       "        vertical-align: top;\n",
       "    }\n",
       "\n",
       "    .dataframe thead th {\n",
       "        text-align: right;\n",
       "    }\n",
       "</style>\n",
       "<table border=\"1\" class=\"dataframe\">\n",
       "  <thead>\n",
       "    <tr style=\"text-align: right;\">\n",
       "      <th></th>\n",
       "      <th>Unnamed: 0</th>\n",
       "      <th>type</th>\n",
       "      <th>fixed acidity</th>\n",
       "      <th>volatile acidity</th>\n",
       "      <th>citric acid</th>\n",
       "      <th>residual sugar</th>\n",
       "      <th>chlorides</th>\n",
       "      <th>free sulfur dioxide</th>\n",
       "      <th>total sulfur dioxide</th>\n",
       "      <th>density</th>\n",
       "      <th>pH</th>\n",
       "      <th>sulphates</th>\n",
       "      <th>alcohol</th>\n",
       "      <th>quality</th>\n",
       "      <th>vendor_id</th>\n",
       "    </tr>\n",
       "  </thead>\n",
       "  <tbody>\n",
       "    <tr>\n",
       "      <th>0</th>\n",
       "      <td>0</td>\n",
       "      <td>white</td>\n",
       "      <td>7.0</td>\n",
       "      <td>0.27</td>\n",
       "      <td>0.36</td>\n",
       "      <td>20.7</td>\n",
       "      <td>0.045</td>\n",
       "      <td>45.0</td>\n",
       "      <td>170.0</td>\n",
       "      <td>1.0010</td>\n",
       "      <td>3.00</td>\n",
       "      <td>0.45</td>\n",
       "      <td>8.8</td>\n",
       "      <td>6</td>\n",
       "      <td>369</td>\n",
       "    </tr>\n",
       "    <tr>\n",
       "      <th>1</th>\n",
       "      <td>1</td>\n",
       "      <td>white</td>\n",
       "      <td>6.3</td>\n",
       "      <td>0.30</td>\n",
       "      <td>0.34</td>\n",
       "      <td>1.6</td>\n",
       "      <td>0.049</td>\n",
       "      <td>14.0</td>\n",
       "      <td>132.0</td>\n",
       "      <td>0.9940</td>\n",
       "      <td>3.30</td>\n",
       "      <td>0.49</td>\n",
       "      <td>9.5</td>\n",
       "      <td>6</td>\n",
       "      <td>361</td>\n",
       "    </tr>\n",
       "    <tr>\n",
       "      <th>2</th>\n",
       "      <td>2</td>\n",
       "      <td>white</td>\n",
       "      <td>8.1</td>\n",
       "      <td>0.28</td>\n",
       "      <td>0.40</td>\n",
       "      <td>6.9</td>\n",
       "      <td>0.050</td>\n",
       "      <td>30.0</td>\n",
       "      <td>97.0</td>\n",
       "      <td>0.9951</td>\n",
       "      <td>3.26</td>\n",
       "      <td>0.44</td>\n",
       "      <td>10.1</td>\n",
       "      <td>6</td>\n",
       "      <td>354</td>\n",
       "    </tr>\n",
       "    <tr>\n",
       "      <th>3</th>\n",
       "      <td>3</td>\n",
       "      <td>white</td>\n",
       "      <td>7.2</td>\n",
       "      <td>0.23</td>\n",
       "      <td>0.32</td>\n",
       "      <td>8.5</td>\n",
       "      <td>0.058</td>\n",
       "      <td>47.0</td>\n",
       "      <td>186.0</td>\n",
       "      <td>0.9956</td>\n",
       "      <td>3.19</td>\n",
       "      <td>0.40</td>\n",
       "      <td>9.9</td>\n",
       "      <td>6</td>\n",
       "      <td>325</td>\n",
       "    </tr>\n",
       "    <tr>\n",
       "      <th>4</th>\n",
       "      <td>4</td>\n",
       "      <td>white</td>\n",
       "      <td>7.2</td>\n",
       "      <td>0.23</td>\n",
       "      <td>0.32</td>\n",
       "      <td>8.5</td>\n",
       "      <td>0.058</td>\n",
       "      <td>47.0</td>\n",
       "      <td>186.0</td>\n",
       "      <td>0.9956</td>\n",
       "      <td>3.19</td>\n",
       "      <td>0.40</td>\n",
       "      <td>9.9</td>\n",
       "      <td>6</td>\n",
       "      <td>375</td>\n",
       "    </tr>\n",
       "  </tbody>\n",
       "</table>\n",
       "</div>"
      ],
      "text/plain": [
       "   Unnamed: 0   type  fixed acidity  volatile acidity  citric acid  \\\n",
       "0           0  white            7.0              0.27         0.36   \n",
       "1           1  white            6.3              0.30         0.34   \n",
       "2           2  white            8.1              0.28         0.40   \n",
       "3           3  white            7.2              0.23         0.32   \n",
       "4           4  white            7.2              0.23         0.32   \n",
       "\n",
       "   residual sugar  chlorides  free sulfur dioxide  total sulfur dioxide  \\\n",
       "0            20.7      0.045                 45.0                 170.0   \n",
       "1             1.6      0.049                 14.0                 132.0   \n",
       "2             6.9      0.050                 30.0                  97.0   \n",
       "3             8.5      0.058                 47.0                 186.0   \n",
       "4             8.5      0.058                 47.0                 186.0   \n",
       "\n",
       "   density    pH  sulphates  alcohol  quality  vendor_id  \n",
       "0   1.0010  3.00       0.45      8.8        6        369  \n",
       "1   0.9940  3.30       0.49      9.5        6        361  \n",
       "2   0.9951  3.26       0.44     10.1        6        354  \n",
       "3   0.9956  3.19       0.40      9.9        6        325  \n",
       "4   0.9956  3.19       0.40      9.9        6        375  "
      ]
     },
     "execution_count": 7,
     "metadata": {},
     "output_type": "execute_result"
    }
   ],
   "source": [
    "df.head()"
   ]
  },
  {
   "cell_type": "code",
   "execution_count": 9,
   "metadata": {
    "colab": {
     "base_uri": "https://localhost:8080/"
    },
    "id": "-jwlYIPkknhL",
    "outputId": "76a06483-4201-47da-c8e5-5914345b1749"
   },
   "outputs": [
    {
     "data": {
      "text/plain": [
       "array(['white', 'red'], dtype=object)"
      ]
     },
     "execution_count": 9,
     "metadata": {},
     "output_type": "execute_result"
    }
   ],
   "source": [
    "df['type'].unique()"
   ]
  },
  {
   "cell_type": "code",
   "execution_count": 10,
   "metadata": {
    "colab": {
     "base_uri": "https://localhost:8080/",
     "height": 423
    },
    "id": "hwnhhYwHk-yf",
    "outputId": "8cf14adc-0848-4fcd-93e7-334f1740cbd6"
   },
   "outputs": [
    {
     "data": {
      "text/html": [
       "<div>\n",
       "<style scoped>\n",
       "    .dataframe tbody tr th:only-of-type {\n",
       "        vertical-align: middle;\n",
       "    }\n",
       "\n",
       "    .dataframe tbody tr th {\n",
       "        vertical-align: top;\n",
       "    }\n",
       "\n",
       "    .dataframe thead th {\n",
       "        text-align: right;\n",
       "    }\n",
       "</style>\n",
       "<table border=\"1\" class=\"dataframe\">\n",
       "  <thead>\n",
       "    <tr style=\"text-align: right;\">\n",
       "      <th></th>\n",
       "      <th>type_red</th>\n",
       "      <th>type_white</th>\n",
       "    </tr>\n",
       "  </thead>\n",
       "  <tbody>\n",
       "    <tr>\n",
       "      <th>0</th>\n",
       "      <td>False</td>\n",
       "      <td>True</td>\n",
       "    </tr>\n",
       "    <tr>\n",
       "      <th>1</th>\n",
       "      <td>False</td>\n",
       "      <td>True</td>\n",
       "    </tr>\n",
       "    <tr>\n",
       "      <th>2</th>\n",
       "      <td>False</td>\n",
       "      <td>True</td>\n",
       "    </tr>\n",
       "    <tr>\n",
       "      <th>3</th>\n",
       "      <td>False</td>\n",
       "      <td>True</td>\n",
       "    </tr>\n",
       "    <tr>\n",
       "      <th>4</th>\n",
       "      <td>False</td>\n",
       "      <td>True</td>\n",
       "    </tr>\n",
       "    <tr>\n",
       "      <th>...</th>\n",
       "      <td>...</td>\n",
       "      <td>...</td>\n",
       "    </tr>\n",
       "    <tr>\n",
       "      <th>6492</th>\n",
       "      <td>True</td>\n",
       "      <td>False</td>\n",
       "    </tr>\n",
       "    <tr>\n",
       "      <th>6493</th>\n",
       "      <td>True</td>\n",
       "      <td>False</td>\n",
       "    </tr>\n",
       "    <tr>\n",
       "      <th>6494</th>\n",
       "      <td>True</td>\n",
       "      <td>False</td>\n",
       "    </tr>\n",
       "    <tr>\n",
       "      <th>6495</th>\n",
       "      <td>True</td>\n",
       "      <td>False</td>\n",
       "    </tr>\n",
       "    <tr>\n",
       "      <th>6496</th>\n",
       "      <td>True</td>\n",
       "      <td>False</td>\n",
       "    </tr>\n",
       "  </tbody>\n",
       "</table>\n",
       "<p>6497 rows × 2 columns</p>\n",
       "</div>"
      ],
      "text/plain": [
       "      type_red  type_white\n",
       "0        False        True\n",
       "1        False        True\n",
       "2        False        True\n",
       "3        False        True\n",
       "4        False        True\n",
       "...        ...         ...\n",
       "6492      True       False\n",
       "6493      True       False\n",
       "6494      True       False\n",
       "6495      True       False\n",
       "6496      True       False\n",
       "\n",
       "[6497 rows x 2 columns]"
      ]
     },
     "execution_count": 10,
     "metadata": {},
     "output_type": "execute_result"
    }
   ],
   "source": [
    "# Type es tipo categórica, transformamos con One Hot Encoding\n",
    "type_dummies = pd.get_dummies(df['type'], prefix=\"type\")\n",
    "type_dummies"
   ]
  },
  {
   "cell_type": "code",
   "execution_count": 11,
   "metadata": {
    "colab": {
     "base_uri": "https://localhost:8080/"
    },
    "id": "iZQcwiXclslE",
    "outputId": "3c5f3102-0b7d-44a5-e9cc-34bcdbf18392"
   },
   "outputs": [
    {
     "name": "stdout",
     "output_type": "stream",
     "text": [
      "<class 'pandas.core.frame.DataFrame'>\n",
      "RangeIndex: 6497 entries, 0 to 6496\n",
      "Data columns (total 17 columns):\n",
      " #   Column                Non-Null Count  Dtype  \n",
      "---  ------                --------------  -----  \n",
      " 0   Unnamed: 0            6497 non-null   int64  \n",
      " 1   type                  6497 non-null   object \n",
      " 2   fixed acidity         6487 non-null   float64\n",
      " 3   volatile acidity      6489 non-null   float64\n",
      " 4   citric acid           6494 non-null   float64\n",
      " 5   residual sugar        6495 non-null   float64\n",
      " 6   chlorides             6495 non-null   float64\n",
      " 7   free sulfur dioxide   6497 non-null   float64\n",
      " 8   total sulfur dioxide  6497 non-null   float64\n",
      " 9   density               6497 non-null   float64\n",
      " 10  pH                    6488 non-null   float64\n",
      " 11  sulphates             6493 non-null   float64\n",
      " 12  alcohol               6497 non-null   float64\n",
      " 13  quality               6497 non-null   int64  \n",
      " 14  vendor_id             6497 non-null   int64  \n",
      " 15  type_red              6497 non-null   bool   \n",
      " 16  type_white            6497 non-null   bool   \n",
      "dtypes: bool(2), float64(11), int64(3), object(1)\n",
      "memory usage: 774.2+ KB\n"
     ]
    }
   ],
   "source": [
    "df = pd.concat([df,type_dummies], axis = 1)\n",
    "df.info()"
   ]
  },
  {
   "cell_type": "code",
   "execution_count": 12,
   "metadata": {
    "colab": {
     "base_uri": "https://localhost:8080/"
    },
    "id": "k1Mkg0cVmHKA",
    "outputId": "a6c2720d-745c-40d8-d7c8-3214fa47f1f0"
   },
   "outputs": [
    {
     "data": {
      "text/plain": [
       "500"
      ]
     },
     "execution_count": 12,
     "metadata": {},
     "output_type": "execute_result"
    }
   ],
   "source": [
    "# Exploramos vendor_id\n",
    "len(df['vendor_id'].unique())"
   ]
  },
  {
   "cell_type": "markdown",
   "metadata": {
    "id": "fktUT520h8TI"
   },
   "source": [
    "vendor_id es tipo categórica con gran cantidad de valores diferentes, no podemos aplicar One Hot Encoding. Por el momento se descarta, en un futuro utilizaremos capas de embeddings con esta variable."
   ]
  },
  {
   "cell_type": "code",
   "execution_count": 13,
   "metadata": {
    "colab": {
     "base_uri": "https://localhost:8080/"
    },
    "id": "aIdVWG16m4_L",
    "outputId": "65c66cd1-0885-4342-9919-858c23d5db02"
   },
   "outputs": [
    {
     "data": {
      "text/plain": [
       "array([6, 5, 7, 8, 4, 3, 9], dtype=int64)"
      ]
     },
     "execution_count": 13,
     "metadata": {},
     "output_type": "execute_result"
    }
   ],
   "source": [
    "# Mi variable a predecir es quality, la calidad del vino.\n",
    "df['quality'].unique()"
   ]
  },
  {
   "cell_type": "code",
   "execution_count": 14,
   "metadata": {
    "colab": {
     "base_uri": "https://localhost:8080/",
     "height": 334
    },
    "id": "Hpp5eluMokzM",
    "outputId": "80e398d1-4dae-4a2b-d916-1dae9d12bc05"
   },
   "outputs": [
    {
     "data": {
      "text/plain": [
       "(array([  30.,  216.,    0., 2138.,    0., 2836., 1079.,    0.,  193.,\n",
       "           5.]),\n",
       " array([3. , 3.6, 4.2, 4.8, 5.4, 6. , 6.6, 7.2, 7.8, 8.4, 9. ]),\n",
       " <BarContainer object of 10 artists>)"
      ]
     },
     "execution_count": 14,
     "metadata": {},
     "output_type": "execute_result"
    },
    {
     "data": {
      "image/png": "[encoded data removed]",
      "text/plain": [
       "<Figure size 640x480 with 1 Axes>"
      ]
     },
     "metadata": {},
     "output_type": "display_data"
    }
   ],
   "source": [
    "quality = df['quality'].to_numpy()\n",
    "fig, ax1 = plt.subplots(1,1)\n",
    "ax1.hist(quality)"
   ]
  },
  {
   "cell_type": "markdown",
   "metadata": {
    "id": "k4Ggzy_oiQqq"
   },
   "source": [
    "Por simplicidad convertimos el problema en un problema de clasificación binaria: 0 si el vino es \"malo\", 1 si el vino es \"bueno\""
   ]
  },
  {
   "cell_type": "code",
   "execution_count": 15,
   "metadata": {
    "id": "oRo9kIhLo-44"
   },
   "outputs": [],
   "source": [
    "df[\"quality_label\"] = df[\"quality\"].apply(lambda q:0 if q<=6 else 1)"
   ]
  },
  {
   "cell_type": "code",
   "execution_count": 16,
   "metadata": {
    "colab": {
     "base_uri": "https://localhost:8080/",
     "height": 367
    },
    "id": "BMUg8dDNpr5v",
    "outputId": "0e35d779-9215-4ee8-e547-c73f304794cd"
   },
   "outputs": [
    {
     "data": {
      "text/html": [
       "<div>\n",
       "<style scoped>\n",
       "    .dataframe tbody tr th:only-of-type {\n",
       "        vertical-align: middle;\n",
       "    }\n",
       "\n",
       "    .dataframe tbody tr th {\n",
       "        vertical-align: top;\n",
       "    }\n",
       "\n",
       "    .dataframe thead th {\n",
       "        text-align: right;\n",
       "    }\n",
       "</style>\n",
       "<table border=\"1\" class=\"dataframe\">\n",
       "  <thead>\n",
       "    <tr style=\"text-align: right;\">\n",
       "      <th></th>\n",
       "      <th>Unnamed: 0</th>\n",
       "      <th>type</th>\n",
       "      <th>fixed acidity</th>\n",
       "      <th>volatile acidity</th>\n",
       "      <th>citric acid</th>\n",
       "      <th>residual sugar</th>\n",
       "      <th>chlorides</th>\n",
       "      <th>free sulfur dioxide</th>\n",
       "      <th>total sulfur dioxide</th>\n",
       "      <th>density</th>\n",
       "      <th>pH</th>\n",
       "      <th>sulphates</th>\n",
       "      <th>alcohol</th>\n",
       "      <th>quality</th>\n",
       "      <th>vendor_id</th>\n",
       "      <th>type_red</th>\n",
       "      <th>type_white</th>\n",
       "      <th>quality_label</th>\n",
       "    </tr>\n",
       "  </thead>\n",
       "  <tbody>\n",
       "    <tr>\n",
       "      <th>4599</th>\n",
       "      <td>4599</td>\n",
       "      <td>white</td>\n",
       "      <td>6.5</td>\n",
       "      <td>0.16</td>\n",
       "      <td>0.33</td>\n",
       "      <td>1.0</td>\n",
       "      <td>0.027</td>\n",
       "      <td>23.0</td>\n",
       "      <td>75.0</td>\n",
       "      <td>0.9908</td>\n",
       "      <td>3.30</td>\n",
       "      <td>0.39</td>\n",
       "      <td>11.4</td>\n",
       "      <td>7</td>\n",
       "      <td>498</td>\n",
       "      <td>False</td>\n",
       "      <td>True</td>\n",
       "      <td>1</td>\n",
       "    </tr>\n",
       "    <tr>\n",
       "      <th>1466</th>\n",
       "      <td>1466</td>\n",
       "      <td>white</td>\n",
       "      <td>6.9</td>\n",
       "      <td>0.19</td>\n",
       "      <td>0.49</td>\n",
       "      <td>6.6</td>\n",
       "      <td>0.036</td>\n",
       "      <td>49.0</td>\n",
       "      <td>172.0</td>\n",
       "      <td>0.9932</td>\n",
       "      <td>3.20</td>\n",
       "      <td>0.27</td>\n",
       "      <td>11.5</td>\n",
       "      <td>6</td>\n",
       "      <td>311</td>\n",
       "      <td>False</td>\n",
       "      <td>True</td>\n",
       "      <td>0</td>\n",
       "    </tr>\n",
       "    <tr>\n",
       "      <th>1551</th>\n",
       "      <td>1551</td>\n",
       "      <td>white</td>\n",
       "      <td>6.6</td>\n",
       "      <td>0.19</td>\n",
       "      <td>0.99</td>\n",
       "      <td>1.2</td>\n",
       "      <td>0.122</td>\n",
       "      <td>45.0</td>\n",
       "      <td>129.0</td>\n",
       "      <td>0.9936</td>\n",
       "      <td>3.09</td>\n",
       "      <td>0.31</td>\n",
       "      <td>8.7</td>\n",
       "      <td>6</td>\n",
       "      <td>355</td>\n",
       "      <td>False</td>\n",
       "      <td>True</td>\n",
       "      <td>0</td>\n",
       "    </tr>\n",
       "    <tr>\n",
       "      <th>2573</th>\n",
       "      <td>2573</td>\n",
       "      <td>white</td>\n",
       "      <td>6.3</td>\n",
       "      <td>0.34</td>\n",
       "      <td>0.36</td>\n",
       "      <td>4.9</td>\n",
       "      <td>0.035</td>\n",
       "      <td>31.0</td>\n",
       "      <td>185.0</td>\n",
       "      <td>0.9946</td>\n",
       "      <td>3.15</td>\n",
       "      <td>0.49</td>\n",
       "      <td>9.7</td>\n",
       "      <td>5</td>\n",
       "      <td>251</td>\n",
       "      <td>False</td>\n",
       "      <td>True</td>\n",
       "      <td>0</td>\n",
       "    </tr>\n",
       "    <tr>\n",
       "      <th>5566</th>\n",
       "      <td>5566</td>\n",
       "      <td>red</td>\n",
       "      <td>10.0</td>\n",
       "      <td>0.73</td>\n",
       "      <td>0.43</td>\n",
       "      <td>2.3</td>\n",
       "      <td>0.059</td>\n",
       "      <td>15.0</td>\n",
       "      <td>31.0</td>\n",
       "      <td>0.9966</td>\n",
       "      <td>3.15</td>\n",
       "      <td>0.57</td>\n",
       "      <td>11.0</td>\n",
       "      <td>5</td>\n",
       "      <td>208</td>\n",
       "      <td>True</td>\n",
       "      <td>False</td>\n",
       "      <td>0</td>\n",
       "    </tr>\n",
       "    <tr>\n",
       "      <th>1236</th>\n",
       "      <td>1236</td>\n",
       "      <td>white</td>\n",
       "      <td>6.8</td>\n",
       "      <td>0.32</td>\n",
       "      <td>0.37</td>\n",
       "      <td>3.4</td>\n",
       "      <td>0.023</td>\n",
       "      <td>19.0</td>\n",
       "      <td>87.0</td>\n",
       "      <td>0.9902</td>\n",
       "      <td>3.14</td>\n",
       "      <td>0.53</td>\n",
       "      <td>12.7</td>\n",
       "      <td>6</td>\n",
       "      <td>338</td>\n",
       "      <td>False</td>\n",
       "      <td>True</td>\n",
       "      <td>0</td>\n",
       "    </tr>\n",
       "    <tr>\n",
       "      <th>1388</th>\n",
       "      <td>1388</td>\n",
       "      <td>white</td>\n",
       "      <td>7.3</td>\n",
       "      <td>0.18</td>\n",
       "      <td>0.29</td>\n",
       "      <td>1.2</td>\n",
       "      <td>0.044</td>\n",
       "      <td>12.0</td>\n",
       "      <td>143.0</td>\n",
       "      <td>0.9918</td>\n",
       "      <td>3.20</td>\n",
       "      <td>0.48</td>\n",
       "      <td>11.3</td>\n",
       "      <td>7</td>\n",
       "      <td>456</td>\n",
       "      <td>False</td>\n",
       "      <td>True</td>\n",
       "      <td>1</td>\n",
       "    </tr>\n",
       "  </tbody>\n",
       "</table>\n",
       "</div>"
      ],
      "text/plain": [
       "      Unnamed: 0   type  fixed acidity  volatile acidity  citric acid  \\\n",
       "4599        4599  white            6.5              0.16         0.33   \n",
       "1466        1466  white            6.9              0.19         0.49   \n",
       "1551        1551  white            6.6              0.19         0.99   \n",
       "2573        2573  white            6.3              0.34         0.36   \n",
       "5566        5566    red           10.0              0.73         0.43   \n",
       "1236        1236  white            6.8              0.32         0.37   \n",
       "1388        1388  white            7.3              0.18         0.29   \n",
       "\n",
       "      residual sugar  chlorides  free sulfur dioxide  total sulfur dioxide  \\\n",
       "4599             1.0      0.027                 23.0                  75.0   \n",
       "1466             6.6      0.036                 49.0                 172.0   \n",
       "1551             1.2      0.122                 45.0                 129.0   \n",
       "2573             4.9      0.035                 31.0                 185.0   \n",
       "5566             2.3      0.059                 15.0                  31.0   \n",
       "1236             3.4      0.023                 19.0                  87.0   \n",
       "1388             1.2      0.044                 12.0                 143.0   \n",
       "\n",
       "      density    pH  sulphates  alcohol  quality  vendor_id  type_red  \\\n",
       "4599   0.9908  3.30       0.39     11.4        7        498     False   \n",
       "1466   0.9932  3.20       0.27     11.5        6        311     False   \n",
       "1551   0.9936  3.09       0.31      8.7        6        355     False   \n",
       "2573   0.9946  3.15       0.49      9.7        5        251     False   \n",
       "5566   0.9966  3.15       0.57     11.0        5        208      True   \n",
       "1236   0.9902  3.14       0.53     12.7        6        338     False   \n",
       "1388   0.9918  3.20       0.48     11.3        7        456     False   \n",
       "\n",
       "      type_white  quality_label  \n",
       "4599        True              1  \n",
       "1466        True              0  \n",
       "1551        True              0  \n",
       "2573        True              0  \n",
       "5566       False              0  \n",
       "1236        True              0  \n",
       "1388        True              1  "
      ]
     },
     "execution_count": 16,
     "metadata": {},
     "output_type": "execute_result"
    }
   ],
   "source": [
    "df.sample(7)"
   ]
  },
  {
   "cell_type": "code",
   "execution_count": 17,
   "metadata": {
    "colab": {
     "base_uri": "https://localhost:8080/"
    },
    "id": "gveBjHckptPv",
    "outputId": "f8fd6500-bb11-4e97-97c6-306bf00b7d5b"
   },
   "outputs": [
    {
     "data": {
      "text/plain": [
       "Unnamed: 0               0\n",
       "type                     0\n",
       "fixed acidity           10\n",
       "volatile acidity         8\n",
       "citric acid              3\n",
       "residual sugar           2\n",
       "chlorides                2\n",
       "free sulfur dioxide      0\n",
       "total sulfur dioxide     0\n",
       "density                  0\n",
       "pH                       9\n",
       "sulphates                4\n",
       "alcohol                  0\n",
       "quality                  0\n",
       "vendor_id                0\n",
       "type_red                 0\n",
       "type_white               0\n",
       "quality_label            0\n",
       "dtype: int64"
      ]
     },
     "execution_count": 17,
     "metadata": {},
     "output_type": "execute_result"
    }
   ],
   "source": [
    "# Comprobamos la existencia de nan\n",
    "df.isna().sum(axis=0)"
   ]
  },
  {
   "cell_type": "code",
   "execution_count": 18,
   "metadata": {
    "id": "ddfgs8-oqdJh"
   },
   "outputs": [],
   "source": [
    "# Como tenemos pocos nan, borramos las filas donde hay nan y trabajamos con un dataset completo\n",
    "ds = df[df.isna().sum(axis = 1) == 0]"
   ]
  },
  {
   "cell_type": "code",
   "execution_count": 19,
   "metadata": {
    "colab": {
     "base_uri": "https://localhost:8080/"
    },
    "id": "znDdmuclrCMO",
    "outputId": "eaef8ce8-cece-4b49-ca47-9ecc5b37a25b"
   },
   "outputs": [
    {
     "data": {
      "text/plain": [
       "Unnamed: 0              0\n",
       "type                    0\n",
       "fixed acidity           0\n",
       "volatile acidity        0\n",
       "citric acid             0\n",
       "residual sugar          0\n",
       "chlorides               0\n",
       "free sulfur dioxide     0\n",
       "total sulfur dioxide    0\n",
       "density                 0\n",
       "pH                      0\n",
       "sulphates               0\n",
       "alcohol                 0\n",
       "quality                 0\n",
       "vendor_id               0\n",
       "type_red                0\n",
       "type_white              0\n",
       "quality_label           0\n",
       "dtype: int64"
      ]
     },
     "execution_count": 19,
     "metadata": {},
     "output_type": "execute_result"
    }
   ],
   "source": [
    "ds.isna().sum()"
   ]
  },
  {
   "cell_type": "markdown",
   "metadata": {
    "id": "TmBJD3siinlF"
   },
   "source": [
    "## Armado del dataset"
   ]
  },
  {
   "cell_type": "code",
   "execution_count": 20,
   "metadata": {
    "id": "zE5f2XsqrTr_"
   },
   "outputs": [],
   "source": [
    "# Guardo vendor_id para un futuro modelo con embeddings\n",
    "vendor_id = ds['vendor_id']\n",
    "# Recordar que debo borrar del dataset de entrada mi columna de salida!\n",
    "x = ds.drop(['Unnamed: 0','type','vendor_id','quality','quality_label'], axis=1) \n",
    "y = ds['quality_label']"
   ]
  },
  {
   "cell_type": "code",
   "execution_count": 21,
   "metadata": {
    "colab": {
     "base_uri": "https://localhost:8080/"
    },
    "id": "SpU9XA4yr8wv",
    "outputId": "650e6e3c-1c83-4b41-d327-fc208ca7cf23"
   },
   "outputs": [
    {
     "name": "stdout",
     "output_type": "stream",
     "text": [
      "<class 'pandas.core.frame.DataFrame'>\n",
      "Index: 6463 entries, 0 to 6496\n",
      "Data columns (total 13 columns):\n",
      " #   Column                Non-Null Count  Dtype  \n",
      "---  ------                --------------  -----  \n",
      " 0   fixed acidity         6463 non-null   float64\n",
      " 1   volatile acidity      6463 non-null   float64\n",
      " 2   citric acid           6463 non-null   float64\n",
      " 3   residual sugar        6463 non-null   float64\n",
      " 4   chlorides             6463 non-null   float64\n",
      " 5   free sulfur dioxide   6463 non-null   float64\n",
      " 6   total sulfur dioxide  6463 non-null   float64\n",
      " 7   density               6463 non-null   float64\n",
      " 8   pH                    6463 non-null   float64\n",
      " 9   sulphates             6463 non-null   float64\n",
      " 10  alcohol               6463 non-null   float64\n",
      " 11  type_red              6463 non-null   bool   \n",
      " 12  type_white            6463 non-null   bool   \n",
      "dtypes: bool(2), float64(11)\n",
      "memory usage: 618.5 KB\n"
     ]
    }
   ],
   "source": [
    "x.info()"
   ]
  },
  {
   "cell_type": "code",
   "execution_count": 22,
   "metadata": {
    "colab": {
     "base_uri": "https://localhost:8080/"
    },
    "id": "kkDSrAhusE5E",
    "outputId": "d36f6639-49e4-4c6c-ec6e-531269ea79d8"
   },
   "outputs": [
    {
     "data": {
      "text/plain": [
       "0       0\n",
       "1       0\n",
       "2       0\n",
       "3       0\n",
       "4       0\n",
       "       ..\n",
       "6491    0\n",
       "6492    0\n",
       "6494    0\n",
       "6495    0\n",
       "6496    0\n",
       "Name: quality_label, Length: 6463, dtype: int64"
      ]
     },
     "execution_count": 22,
     "metadata": {},
     "output_type": "execute_result"
    }
   ],
   "source": [
    "y"
   ]
  },
  {
   "cell_type": "markdown",
   "metadata": {
    "id": "oNDPgGUNsvR8"
   },
   "source": [
    "## Normalizacion\n",
    "\n",
    "Las redes neuronales no requieren que los datos esten normalizados, pero la normalización ayuda a que el algoritmo de gradient descent converga más rápido."
   ]
  },
  {
   "cell_type": "code",
   "execution_count": 23,
   "metadata": {
    "id": "T6PPDNHIsHMM"
   },
   "outputs": [],
   "source": [
    "x = x.to_numpy()\n",
    "y = y.to_numpy()"
   ]
  },
  {
   "cell_type": "code",
   "execution_count": 24,
   "metadata": {
    "colab": {
     "base_uri": "https://localhost:8080/"
    },
    "id": "hFBgMAuJtoSF",
    "outputId": "8d6e33c9-7501-471f-c85c-c94c36a96d21"
   },
   "outputs": [
    {
     "data": {
      "text/plain": [
       "array([[7.0, 0.27, 0.36, ..., 8.8, False, True],\n",
       "       [6.3, 0.3, 0.34, ..., 9.5, False, True],\n",
       "       [8.1, 0.28, 0.4, ..., 10.1, False, True],\n",
       "       ...,\n",
       "       [6.3, 0.51, 0.13, ..., 11.0, True, False],\n",
       "       [5.9, 0.645, 0.12, ..., 10.2, True, False],\n",
       "       [6.0, 0.31, 0.47, ..., 11.0, True, False]], dtype=object)"
      ]
     },
     "execution_count": 24,
     "metadata": {},
     "output_type": "execute_result"
    }
   ],
   "source": [
    "x"
   ]
  },
  {
   "cell_type": "code",
   "execution_count": 25,
   "metadata": {
    "colab": {
     "base_uri": "https://localhost:8080/"
    },
    "id": "kA14bCLftvy5",
    "outputId": "5dccbbc1-739d-4191-dcda-b1be5a925e45"
   },
   "outputs": [
    {
     "data": {
      "text/plain": [
       "array([3.8, 0.08, 0.0, 0.6, 0.009, 1.0, 6.0, 0.98711, 2.72, 0.22, 8.0,\n",
       "       False, False], dtype=object)"
      ]
     },
     "execution_count": 25,
     "metadata": {},
     "output_type": "execute_result"
    }
   ],
   "source": [
    "np.min(x, axis=0)"
   ]
  },
  {
   "cell_type": "code",
   "execution_count": 26,
   "metadata": {
    "id": "N6MXPnges8HE"
   },
   "outputs": [],
   "source": [
    "# Normalización min max\n",
    "x_norm = (x - np.min(x, axis=0)) / (np.max(x, axis=0 ) - np.min(x, axis=0))"
   ]
  },
  {
   "cell_type": "code",
   "execution_count": 27,
   "metadata": {
    "colab": {
     "base_uri": "https://localhost:8080/"
    },
    "id": "oq4hhxBNuGAy",
    "outputId": "5ac30d50-32bc-4ff2-e5ad-0291827e1676"
   },
   "outputs": [
    {
     "name": "stdout",
     "output_type": "stream",
     "text": [
      "[0.0 0.0 0.0 0.0 0.0 0.0 0.0 0.0 0.0 0.0 0.0 0.0 0.0]\n",
      "[1.0 1.0 1.0 1.0 1.0 1.0 1.0 1.0 1.0 1.0 1.0 1.0 1.0]\n"
     ]
    }
   ],
   "source": [
    "print(np.min(x_norm, axis=0))\n",
    "print(np.max(x_norm, axis=0))"
   ]
  },
  {
   "cell_type": "markdown",
   "metadata": {
    "id": "1VVapvoTjvCm"
   },
   "source": [
    "## División del dataset\n",
    "Divido en entrenamiento y validación"
   ]
  },
  {
   "cell_type": "code",
   "execution_count": 28,
   "metadata": {
    "colab": {
     "base_uri": "https://localhost:8080/"
    },
    "id": "wrABCXQzyRem",
    "outputId": "07ddc190-3ad7-426a-a82b-c45b9f156132"
   },
   "outputs": [
    {
     "data": {
      "text/plain": [
       "array([4929,  201, 1114, ..., 2837,  905,  439])"
      ]
     },
     "execution_count": 28,
     "metadata": {},
     "output_type": "execute_result"
    }
   ],
   "source": [
    "idx = np.random.permutation(x_norm.shape[0])\n",
    "idx"
   ]
  },
  {
   "cell_type": "code",
   "execution_count": 29,
   "metadata": {
    "colab": {
     "base_uri": "https://localhost:8080/"
    },
    "id": "C9dDhJqfyjkE",
    "outputId": "0e78d1ff-776a-4645-cd6d-c5ba3081e269"
   },
   "outputs": [
    {
     "name": "stdout",
     "output_type": "stream",
     "text": [
      "(5493,)\n",
      "(970,)\n"
     ]
    }
   ],
   "source": [
    "train_idx = idx[0:int(0.85*len(idx))]\n",
    "valid_idx = idx[int(0.85*len(idx)):]\n",
    "print(train_idx.shape)\n",
    "print(valid_idx.shape)"
   ]
  },
  {
   "cell_type": "code",
   "execution_count": 30,
   "metadata": {
    "id": "-VbD8cR8yzD4"
   },
   "outputs": [],
   "source": [
    "train_x = x_norm[train_idx]\n",
    "train_y = y[train_idx]\n",
    "valid_x = x_norm[valid_idx]\n",
    "valid_y = y[valid_idx]\n",
    "\n",
    "n_train = train_x.shape[0]\n",
    "n_valid = valid_x.shape[0]"
   ]
  },
  {
   "cell_type": "markdown",
   "metadata": {
    "id": "bTEFahXrwte2"
   },
   "source": [
    "## Pytorch"
   ]
  },
  {
   "cell_type": "code",
   "execution_count": 41,
   "metadata": {
    "id": "sCQz7nDkuK7S"
   },
   "outputs": [],
   "source": [
    "import torch\n",
    "from torch.utils.data import Dataset, DataLoader\n",
    "from sklearn import metrics\n",
    "from torchvision import transforms\n"
   ]
  },
  {
   "cell_type": "code",
   "execution_count": 129,
   "metadata": {
    "id": "gUpc_S5Fw_Nk"
   },
   "outputs": [],
   "source": [
    "# Pytorch necesita de una clase de dataset que extienda de torch.utils.data.Dataset\n",
    "# Esta clase dataset debe sobreescribir los métodos init, len y getitem\n",
    "# JP: ACá tuve que cambiar el INIT. No se si por un tema de versiones. Para que devuelva un tensor.\n",
    "class MyDataset(Dataset):\n",
    "\n",
    "  #__init__ guarda el dataset en una variable de clase\n",
    "  def __init__(self, x, y):\n",
    "    self.x = torch.from_numpy(x.astype('float'))  ## Modif JP\n",
    "    self.y = torch.from_numpy(y.astype('float'))  ## Modif JP\n",
    "\n",
    "\n",
    "  # __len__ define el comportamiento de la función len() sobre el objeto\n",
    "  def __len__(self):\n",
    "    return self.x.shape[0]\n",
    "\n",
    "  # __getitem__ define el comportamiento de los []\n",
    "  def __getitem__(self, idx):\n",
    "    return self.x[idx], self.y[idx]"
   ]
  },
  {
   "cell_type": "code",
   "execution_count": 130,
   "metadata": {
    "id": "eGbN4tbtzU6o"
   },
   "outputs": [],
   "source": [
    "# Creo el dataset de entrenamiento\n",
    "train_ds = MyDataset(train_x, train_y)"
   ]
  },
  {
   "cell_type": "code",
   "execution_count": 131,
   "metadata": {
    "colab": {
     "base_uri": "https://localhost:8080/"
    },
    "id": "hU2JCW3Bz8iI",
    "outputId": "869ba2e1-0eb5-4377-8cf4-80f44e5535c9"
   },
   "outputs": [
    {
     "data": {
      "text/plain": [
       "(tensor([0.2149, 0.0933, 0.3373, 0.2132, 0.0764, 0.0903, 0.3525, 0.2099, 0.2016,\n",
       "         0.1011, 0.1594, 0.0000, 1.0000], dtype=torch.float64),\n",
       " tensor(0., dtype=torch.float64))"
      ]
     },
     "execution_count": 131,
     "metadata": {},
     "output_type": "execute_result"
    }
   ],
   "source": [
    "# Testeo funcionamiento de __getitem__\n",
    "train_ds[20]"
   ]
  },
  {
   "cell_type": "code",
   "execution_count": 132,
   "metadata": {
    "id": "gJMd5ESO0f2E"
   },
   "outputs": [],
   "source": [
    "# Creo el dataset de validación\n",
    "valid_ds = MyDataset(valid_x, valid_y)"
   ]
  },
  {
   "cell_type": "code",
   "execution_count": 133,
   "metadata": {
    "colab": {
     "base_uri": "https://localhost:8080/"
    },
    "id": "gsD6j7d30aRf",
    "outputId": "d9dcd963-2ba3-40ee-8ccd-8b1ec5d4cd58"
   },
   "outputs": [
    {
     "data": {
      "text/plain": [
       "970"
      ]
     },
     "execution_count": 133,
     "metadata": {},
     "output_type": "execute_result"
    }
   ],
   "source": [
    "# Testeo funcionamiento de __len__\n",
    "len(valid_ds)"
   ]
  },
  {
   "cell_type": "code",
   "execution_count": 134,
   "metadata": {
    "id": "6sFTrMOJ073s"
   },
   "outputs": [],
   "source": [
    "# Pytorch utiliza DataLoader para entregar los dataset de a batches\n",
    "train_dataloader = DataLoader(train_ds, batch_size = 64, shuffle= True)\n",
    "valid_dataloader = DataLoader(valid_ds, batch_size=64)"
   ]
  },
  {
   "cell_type": "code",
   "execution_count": 135,
   "metadata": {
    "colab": {
     "base_uri": "https://localhost:8080/"
    },
    "id": "Otgc-P5o1-vo",
    "outputId": "3e745fc4-f805-4f55-eeac-912fca1d611e"
   },
   "outputs": [
    {
     "data": {
      "text/plain": [
       "torch.Size([64])"
      ]
     },
     "execution_count": 135,
     "metadata": {},
     "output_type": "execute_result"
    }
   ],
   "source": [
    "# Test dataloader\n",
    "batch_1 = next(iter(train_dataloader))\n",
    "batch_1[1].shape"
   ]
  },
  {
   "cell_type": "code",
   "execution_count": 136,
   "metadata": {
    "colab": {
     "base_uri": "https://localhost:8080/"
    },
    "id": "76QcEVR528XM",
    "outputId": "da20c111-cfd4-4971-b76b-64f26a2245b2"
   },
   "outputs": [
    {
     "name": "stdout",
     "output_type": "stream",
     "text": [
      "<class 'torch.Tensor'>\n"
     ]
    }
   ],
   "source": [
    "print(type(batch_1[0]))"
   ]
  },
  {
   "cell_type": "markdown",
   "metadata": {
    "id": "J6qXvzZyklbV"
   },
   "source": [
    "### Tensores\n",
    "Los objetos torch.Tensor son vectores muy parecidos a los vectores de numpy pero pueden ejecutar funciones en GPU (numpy solo corre en CPU) y pueden guardar información del grafo de cómputos para realizar luego el backpropagation"
   ]
  },
  {
   "cell_type": "code",
   "execution_count": 137,
   "metadata": {
    "colab": {
     "base_uri": "https://localhost:8080/"
    },
    "id": "K0ueT1EA3U9Y",
    "outputId": "986f5465-9288-47cd-ebf7-0b1505c98133"
   },
   "outputs": [
    {
     "name": "stdout",
     "output_type": "stream",
     "text": [
      "tensor([1.], requires_grad=True)\n",
      "tensor([5.], requires_grad=True)\n"
     ]
    }
   ],
   "source": [
    "# Defino 2 tensores con seguimiento del grafo de cómputos\n",
    "w = torch.tensor([1.0], requires_grad=True)\n",
    "q = torch.tensor([5.0], requires_grad=True)\n",
    "print(w)\n",
    "print(q)"
   ]
  },
  {
   "cell_type": "code",
   "execution_count": 138,
   "metadata": {
    "id": "aq0_bv024ae7"
   },
   "outputs": [],
   "source": [
    "# Defino z y p como cálculos sobre w y q\n",
    "z = w * q \n",
    "p = z**2"
   ]
  },
  {
   "cell_type": "code",
   "execution_count": 139,
   "metadata": {
    "colab": {
     "base_uri": "https://localhost:8080/"
    },
    "id": "tPtUbun15FbA",
    "outputId": "719d6f13-1855-4782-8171-c5d2ee9ee440"
   },
   "outputs": [
    {
     "name": "stdout",
     "output_type": "stream",
     "text": [
      "tensor([5.], grad_fn=<MulBackward0>)\n",
      "tensor([25.], grad_fn=<PowBackward0>)\n"
     ]
    }
   ],
   "source": [
    "# z y p almacenen información de como fueron cálculados para facilitar el backpropagation\n",
    "print(z)\n",
    "print(p)"
   ]
  },
  {
   "cell_type": "code",
   "execution_count": 140,
   "metadata": {
    "id": "qINfEncc4sWt"
   },
   "outputs": [],
   "source": [
    "# Ejecutamos el cálculo del backpropagation\n",
    "p.backward()"
   ]
  },
  {
   "cell_type": "code",
   "execution_count": 141,
   "metadata": {
    "colab": {
     "base_uri": "https://localhost:8080/"
    },
    "id": "6-0jWvpO4zlf",
    "outputId": "58c27c1c-011f-4ac6-e228-783e2b35e94c"
   },
   "outputs": [
    {
     "name": "stdout",
     "output_type": "stream",
     "text": [
      "tensor([50.])\n",
      "tensor([10.])\n"
     ]
    }
   ],
   "source": [
    "# w y q poseen en grad el cálculo del dp/dw y dp/dz respectivamente\n",
    "print(w.grad)\n",
    "print(q.grad)"
   ]
  },
  {
   "cell_type": "markdown",
   "metadata": {
    "id": "-KNcY4ApllNa"
   },
   "source": [
    "### Arquitectura NNet Pytorch\n",
    "La red neuronal en Pytorch se define extendiendo torch.nn.Module"
   ]
  },
  {
   "cell_type": "code",
   "execution_count": 142,
   "metadata": {
    "id": "1B95zN1m5r6c"
   },
   "outputs": [],
   "source": [
    "class NNet(torch.nn.Module):\n",
    "\n",
    "  def __init__(self):\n",
    "    # Defino la arquitectura de la red\n",
    "    super().__init__()\n",
    "    self.linear_1 = torch.nn.Linear(in_features=13, out_features=200, bias=True)\n",
    "    self.relu_1 = torch.nn.ReLU()\n",
    "    self.linear_2 = torch.nn.Linear(in_features = 200, out_features=100, bias=True)\n",
    "    self.relu_2 = torch.nn.ReLU()\n",
    "    self.output = torch.nn.Linear(in_features = 100, out_features= 1, bias=True)\n",
    "\n",
    "  def forward(self, x):\n",
    "    # Defino el cálculo del paso forward\n",
    "    x = self.linear_1(x)\n",
    "    x = self.relu_1(x)\n",
    "    x = self.linear_2(x)\n",
    "    x = self.relu_2(x)\n",
    "    x = self.output(x)\n",
    "    return x"
   ]
  },
  {
   "cell_type": "code",
   "execution_count": 143,
   "metadata": {
    "id": "QLOh2lz4_NXl"
   },
   "outputs": [],
   "source": [
    "# Instanciamos la red\n",
    "nnet = NNet()"
   ]
  },
  {
   "cell_type": "code",
   "execution_count": 144,
   "metadata": {
    "colab": {
     "base_uri": "https://localhost:8080/"
    },
    "id": "S5d2IfRlBpOG",
    "outputId": "931f2831-9194-4dc3-ddb2-b37aff0564a4"
   },
   "outputs": [
    {
     "name": "stdout",
     "output_type": "stream",
     "text": [
      "NNet(\n",
      "  (linear_1): Linear(in_features=13, out_features=200, bias=True)\n",
      "  (relu_1): ReLU()\n",
      "  (linear_2): Linear(in_features=200, out_features=100, bias=True)\n",
      "  (relu_2): ReLU()\n",
      "  (output): Linear(in_features=100, out_features=1, bias=True)\n",
      ")\n"
     ]
    }
   ],
   "source": [
    "print(nnet)"
   ]
  },
  {
   "cell_type": "code",
   "execution_count": 145,
   "metadata": {
    "colab": {
     "base_uri": "https://localhost:8080/"
    },
    "id": "d0PXhPXNBrp5",
    "outputId": "c14fbacb-378a-4823-b442-99a18950c613"
   },
   "outputs": [
    {
     "name": "stdout",
     "output_type": "stream",
     "text": [
      "[Parameter containing:\n",
      "tensor([[ 0.0242,  0.0313,  0.0238,  ..., -0.2604, -0.0360, -0.1336],\n",
      "        [-0.0032, -0.0862,  0.2623,  ..., -0.0554,  0.1615, -0.2505],\n",
      "        [ 0.0096, -0.2047, -0.0386,  ...,  0.0855, -0.0927, -0.1274],\n",
      "        ...,\n",
      "        [-0.2542, -0.2427,  0.1140,  ..., -0.0689,  0.1703,  0.1875],\n",
      "        [-0.1378,  0.0542,  0.0931,  ..., -0.0063, -0.1404, -0.0615],\n",
      "        [ 0.0470,  0.1415, -0.1248,  ..., -0.0131,  0.1595,  0.0894]],\n",
      "       requires_grad=True), Parameter containing:\n",
      "tensor([-0.0890,  0.1462, -0.0866, -0.0055, -0.2277, -0.1438, -0.0708,  0.0760,\n",
      "        -0.0437,  0.1733,  0.0546,  0.2582, -0.2063, -0.0364,  0.1808, -0.2645,\n",
      "         0.1591, -0.1747,  0.1985,  0.1549, -0.0950, -0.0621, -0.2284, -0.2297,\n",
      "        -0.0216,  0.1920,  0.1553,  0.0990, -0.0749, -0.2522,  0.0730, -0.1763,\n",
      "         0.2718, -0.1791,  0.0357,  0.0997, -0.1658, -0.1725,  0.0824,  0.2462,\n",
      "         0.0826,  0.1896,  0.0033, -0.0262, -0.2164, -0.0798,  0.0844, -0.2459,\n",
      "        -0.0616,  0.0743,  0.1917,  0.2174, -0.0816,  0.2325,  0.0132, -0.0046,\n",
      "         0.2709,  0.0937, -0.0051,  0.2648,  0.0131,  0.1213,  0.1919,  0.1209,\n",
      "         0.1547, -0.1732,  0.1499, -0.1244,  0.1737,  0.2261, -0.1796,  0.0113,\n",
      "         0.0891, -0.2522,  0.2075, -0.0540,  0.1265,  0.2477, -0.1959, -0.2280,\n",
      "        -0.0492,  0.1425,  0.0489,  0.0299, -0.1040, -0.2580,  0.1731, -0.0420,\n",
      "         0.0764,  0.0138, -0.2370,  0.0569, -0.0202, -0.0076, -0.1237, -0.2443,\n",
      "        -0.1979,  0.2452, -0.1499, -0.0051,  0.0569, -0.1034,  0.0234, -0.1197,\n",
      "         0.0529, -0.2231,  0.1595, -0.0419,  0.1515,  0.2360,  0.1265, -0.2575,\n",
      "         0.2343,  0.1507,  0.1175, -0.1874,  0.2702, -0.2633,  0.0066,  0.0360,\n",
      "         0.1882, -0.0730, -0.0688,  0.1686, -0.0080,  0.1408, -0.0543, -0.2763,\n",
      "         0.2575, -0.0692,  0.0684,  0.2289,  0.0603, -0.0483,  0.2439,  0.1572,\n",
      "         0.0435, -0.1287, -0.0763,  0.2395, -0.0619,  0.2325, -0.0713, -0.2251,\n",
      "        -0.2023, -0.0381, -0.2661, -0.1612, -0.2517, -0.1399,  0.1371, -0.2403,\n",
      "         0.2176, -0.2537,  0.0638, -0.1836, -0.0767, -0.1799,  0.2450,  0.1103,\n",
      "        -0.1549, -0.1113,  0.1085,  0.0025, -0.0408, -0.1143,  0.0559,  0.0875,\n",
      "         0.0496,  0.0480,  0.2738, -0.1903, -0.0148,  0.1439,  0.0213,  0.2755,\n",
      "        -0.1052,  0.2729,  0.1732,  0.1903,  0.0849, -0.2179,  0.0476,  0.2418,\n",
      "         0.2075, -0.1493,  0.1872, -0.2071, -0.0943,  0.1330,  0.0169,  0.2334,\n",
      "        -0.0949, -0.0814, -0.1362,  0.0530, -0.0617, -0.1507,  0.1144,  0.1070],\n",
      "       requires_grad=True), Parameter containing:\n",
      "tensor([[-0.0058, -0.0055, -0.0061,  ..., -0.0286,  0.0015,  0.0239],\n",
      "        [-0.0654, -0.0275,  0.0239,  ...,  0.0667, -0.0047, -0.0556],\n",
      "        [ 0.0336, -0.0696,  0.0109,  ...,  0.0481, -0.0298, -0.0318],\n",
      "        ...,\n",
      "        [-0.0229,  0.0646,  0.0009,  ..., -0.0431,  0.0441, -0.0232],\n",
      "        [ 0.0481,  0.0512,  0.0616,  ...,  0.0208, -0.0628,  0.0255],\n",
      "        [-0.0549,  0.0142, -0.0631,  ...,  0.0469,  0.0606, -0.0240]],\n",
      "       requires_grad=True), Parameter containing:\n",
      "tensor([ 0.0195, -0.0166,  0.0629,  0.0415, -0.0400, -0.0038, -0.0534,  0.0057,\n",
      "         0.0583,  0.0630, -0.0247,  0.0320, -0.0526,  0.0692,  0.0533, -0.0579,\n",
      "         0.0541, -0.0364,  0.0517, -0.0151,  0.0628, -0.0481,  0.0683, -0.0287,\n",
      "         0.0189, -0.0449, -0.0351,  0.0404, -0.0186, -0.0479, -0.0247, -0.0281,\n",
      "        -0.0188, -0.0201,  0.0160, -0.0554, -0.0395, -0.0641, -0.0261,  0.0179,\n",
      "         0.0055,  0.0453, -0.0632,  0.0368, -0.0581,  0.0483,  0.0010,  0.0520,\n",
      "        -0.0291, -0.0429,  0.0579,  0.0088,  0.0349, -0.0094,  0.0555,  0.0423,\n",
      "         0.0057,  0.0351, -0.0002, -0.0011,  0.0199,  0.0337,  0.0364,  0.0170,\n",
      "        -0.0432,  0.0315, -0.0245,  0.0546, -0.0668, -0.0387,  0.0188,  0.0259,\n",
      "         0.0235,  0.0307, -0.0123,  0.0239,  0.0683, -0.0119, -0.0685, -0.0613,\n",
      "        -0.0261, -0.0653,  0.0086,  0.0472,  0.0110,  0.0132, -0.0524,  0.0497,\n",
      "         0.0405, -0.0449, -0.0171, -0.0212, -0.0192,  0.0457, -0.0013,  0.0169,\n",
      "         0.0516,  0.0537,  0.0646,  0.0676], requires_grad=True), Parameter containing:\n",
      "tensor([[-0.0276,  0.0763, -0.0554,  0.0337, -0.0257, -0.0911, -0.0657,  0.0350,\n",
      "          0.0517,  0.0539, -0.0719,  0.0664,  0.0829,  0.0762,  0.0884, -0.0548,\n",
      "         -0.0887, -0.0842,  0.0768,  0.0665,  0.0066, -0.0503,  0.0671,  0.0772,\n",
      "         -0.0020, -0.0528,  0.0236,  0.0142,  0.0624,  0.0837, -0.0393, -0.0739,\n",
      "         -0.0742, -0.0927, -0.0622, -0.0293,  0.0226,  0.0057,  0.0860, -0.0989,\n",
      "         -0.0972,  0.0909,  0.0814,  0.0799,  0.0390, -0.0542, -0.0615, -0.0286,\n",
      "          0.0639,  0.0292, -0.0705,  0.0361,  0.0142,  0.0762,  0.0763,  0.0825,\n",
      "          0.0629,  0.0931,  0.0480,  0.0713,  0.0881, -0.0179,  0.0507, -0.0933,\n",
      "         -0.0384,  0.0179, -0.0245,  0.0452,  0.0843, -0.0552,  0.0369, -0.0699,\n",
      "         -0.0742,  0.0953,  0.0743, -0.0175, -0.0071, -0.0455, -0.0430, -0.0576,\n",
      "          0.0945, -0.0693,  0.0548,  0.0862, -0.0150, -0.0714,  0.0842, -0.0281,\n",
      "          0.0995, -0.0810,  0.0417, -0.0944, -0.0427,  0.0939,  0.0021, -0.0756,\n",
      "         -0.0739,  0.0185, -0.0306,  0.0197]], requires_grad=True), Parameter containing:\n",
      "tensor([-0.0042], requires_grad=True)]\n"
     ]
    }
   ],
   "source": [
    "# Imprimimos los parámetros optimizables de la red\n",
    "print([p for p in nnet.parameters()])"
   ]
  },
  {
   "cell_type": "code",
   "execution_count": 146,
   "metadata": {
    "colab": {
     "base_uri": "https://localhost:8080/"
    },
    "id": "D6idB_t1BveQ",
    "outputId": "e9ec17a9-ae66-4e56-d2f6-8bdf5a7ee8c3"
   },
   "outputs": [
    {
     "name": "stdout",
     "output_type": "stream",
     "text": [
      "23001\n"
     ]
    }
   ],
   "source": [
    "# Imprimo la cantidad de parámetros optimizables de la red\n",
    "print(sum(p.numel() for p in nnet.parameters()))"
   ]
  },
  {
   "cell_type": "markdown",
   "metadata": {
    "id": "T8sc7rsBmEBS"
   },
   "source": [
    "### Loss y optimizador\n",
    "- Como loss function utilizo BCE por ser un problema de clasificación binaria.\n",
    "\n",
    "**Nota**: la función sigmoid de salida no se definió en la arquitectura de la red neuronal porque utilizo BCEWithLogitsLoss que combina sigmoid+BCE. Hago esto para tener mejor estabilidad numérica: [link](https://pytorch.org/docs/stable/generated/torch.nn.BCEWithLogitsLoss.html).\n",
    "\n",
    "Podría utilizar BCELoss y agregar la capa sigmoid en la clase NNet\n",
    "\n",
    "- Como optimizador utilizo Adam"
   ]
  },
  {
   "cell_type": "code",
   "execution_count": 147,
   "metadata": {
    "id": "GjJ2wX6wChK4"
   },
   "outputs": [],
   "source": [
    "loss_function = torch.nn.BCEWithLogitsLoss(reduction='sum')\n",
    "optimizer = torch.optim.Adam(nnet.parameters(), lr=0.01)"
   ]
  },
  {
   "cell_type": "markdown",
   "metadata": {
    "id": "h6Rj4g1AnGYJ"
   },
   "source": [
    "Pytorch puede correr en GPU. Con el siguiente código chequeo si hay una GPU compatible disponible y la utilizo en ese caso.\n",
    "\n",
    "**Como utilizar GPU con colab**: Ir a Entorno de ejecucion -> Cambiar tipo de entorno de ejecución. Seleccionar GPU"
   ]
  },
  {
   "cell_type": "code",
   "execution_count": 148,
   "metadata": {
    "colab": {
     "base_uri": "https://localhost:8080/",
     "height": 36
    },
    "id": "ducia7gqEBJz",
    "outputId": "cb6fa34e-cbee-478d-a912-75139d863b5a"
   },
   "outputs": [
    {
     "data": {
      "text/plain": [
       "'cpu'"
      ]
     },
     "execution_count": 148,
     "metadata": {},
     "output_type": "execute_result"
    }
   ],
   "source": [
    "device = \"cpu\"\n",
    "if torch.cuda.is_available():\n",
    "  device = \"cuda:0\"\n",
    "\n",
    "device"
   ]
  },
  {
   "cell_type": "code",
   "execution_count": 149,
   "metadata": {
    "id": "5dECiZZVEfC5"
   },
   "outputs": [],
   "source": [
    "# Copio la red neuronal al dispositivo donde entrene la red neuronal\n",
    "nnet = nnet.to(device)"
   ]
  },
  {
   "cell_type": "markdown",
   "metadata": {
    "id": "7Tf8PPFRnlzk"
   },
   "source": [
    "### Entrenamiento y validación red neuronal\n",
    "\n",
    "Entreno con algoritmo Mini-Batch"
   ]
  },
  {
   "cell_type": "code",
   "execution_count": 150,
   "metadata": {
    "colab": {
     "base_uri": "https://localhost:8080/"
    },
    "id": "L9UeuiOmErqk",
    "outputId": "c96ede9c-e6ac-453e-cf48-a1ebc7a46cab"
   },
   "outputs": [
    {
     "name": "stdout",
     "output_type": "stream",
     "text": [
      " Epoch 0 | Train/Valid loss: 0.431 / 0.396 | Train/Valid accuracy: 0.803 / 0.821\n",
      " Epoch 1 | Train/Valid loss: 0.405 / 0.432 | Train/Valid accuracy: 0.815 / 0.790\n",
      " Epoch 2 | Train/Valid loss: 0.404 / 0.379 | Train/Valid accuracy: 0.815 / 0.822\n",
      " Epoch 3 | Train/Valid loss: 0.393 / 0.411 | Train/Valid accuracy: 0.822 / 0.805\n",
      " Epoch 4 | Train/Valid loss: 0.393 / 0.373 | Train/Valid accuracy: 0.823 / 0.828\n",
      " Epoch 5 | Train/Valid loss: 0.393 / 0.378 | Train/Valid accuracy: 0.819 / 0.816\n",
      " Epoch 6 | Train/Valid loss: 0.377 / 0.369 | Train/Valid accuracy: 0.825 / 0.821\n",
      " Epoch 7 | Train/Valid loss: 0.375 / 0.361 | Train/Valid accuracy: 0.820 / 0.828\n",
      " Epoch 8 | Train/Valid loss: 0.370 / 0.365 | Train/Valid accuracy: 0.823 / 0.829\n",
      " Epoch 9 | Train/Valid loss: 0.371 / 0.377 | Train/Valid accuracy: 0.826 / 0.826\n",
      " Epoch 10 | Train/Valid loss: 0.367 / 0.370 | Train/Valid accuracy: 0.827 / 0.823\n",
      " Epoch 11 | Train/Valid loss: 0.367 / 0.374 | Train/Valid accuracy: 0.828 / 0.819\n",
      " Epoch 12 | Train/Valid loss: 0.370 / 0.363 | Train/Valid accuracy: 0.824 / 0.823\n",
      " Epoch 13 | Train/Valid loss: 0.366 / 0.372 | Train/Valid accuracy: 0.829 / 0.828\n",
      " Epoch 14 | Train/Valid loss: 0.363 / 0.364 | Train/Valid accuracy: 0.827 / 0.830\n",
      " Epoch 15 | Train/Valid loss: 0.360 / 0.392 | Train/Valid accuracy: 0.828 / 0.815\n",
      " Epoch 16 | Train/Valid loss: 0.366 / 0.367 | Train/Valid accuracy: 0.826 / 0.823\n",
      " Epoch 17 | Train/Valid loss: 0.359 / 0.368 | Train/Valid accuracy: 0.831 / 0.828\n",
      " Epoch 18 | Train/Valid loss: 0.360 / 0.370 | Train/Valid accuracy: 0.829 / 0.827\n",
      " Epoch 19 | Train/Valid loss: 0.364 / 0.357 | Train/Valid accuracy: 0.830 / 0.834\n",
      " Epoch 20 | Train/Valid loss: 0.358 / 0.368 | Train/Valid accuracy: 0.831 / 0.830\n",
      " Epoch 21 | Train/Valid loss: 0.360 / 0.363 | Train/Valid accuracy: 0.828 / 0.819\n",
      " Epoch 22 | Train/Valid loss: 0.358 / 0.363 | Train/Valid accuracy: 0.832 / 0.822\n",
      " Epoch 23 | Train/Valid loss: 0.357 / 0.358 | Train/Valid accuracy: 0.834 / 0.831\n",
      " Epoch 24 | Train/Valid loss: 0.353 / 0.360 | Train/Valid accuracy: 0.832 / 0.824\n",
      " Epoch 25 | Train/Valid loss: 0.359 / 0.363 | Train/Valid accuracy: 0.825 / 0.830\n",
      " Epoch 26 | Train/Valid loss: 0.351 / 0.373 | Train/Valid accuracy: 0.832 / 0.832\n",
      " Epoch 27 | Train/Valid loss: 0.351 / 0.362 | Train/Valid accuracy: 0.833 / 0.830\n",
      " Epoch 28 | Train/Valid loss: 0.352 / 0.371 | Train/Valid accuracy: 0.832 / 0.828\n",
      " Epoch 29 | Train/Valid loss: 0.352 / 0.359 | Train/Valid accuracy: 0.835 / 0.835\n",
      " Epoch 30 | Train/Valid loss: 0.354 / 0.364 | Train/Valid accuracy: 0.836 / 0.825\n",
      " Epoch 31 | Train/Valid loss: 0.350 / 0.361 | Train/Valid accuracy: 0.835 / 0.831\n",
      " Epoch 32 | Train/Valid loss: 0.349 / 0.356 | Train/Valid accuracy: 0.839 / 0.832\n",
      " Epoch 33 | Train/Valid loss: 0.349 / 0.354 | Train/Valid accuracy: 0.833 / 0.839\n",
      " Epoch 34 | Train/Valid loss: 0.347 / 0.370 | Train/Valid accuracy: 0.838 / 0.832\n",
      " Epoch 35 | Train/Valid loss: 0.346 / 0.367 | Train/Valid accuracy: 0.836 / 0.825\n",
      " Epoch 36 | Train/Valid loss: 0.348 / 0.359 | Train/Valid accuracy: 0.835 / 0.833\n",
      " Epoch 37 | Train/Valid loss: 0.348 / 0.377 | Train/Valid accuracy: 0.838 / 0.829\n",
      " Epoch 38 | Train/Valid loss: 0.351 / 0.365 | Train/Valid accuracy: 0.836 / 0.831\n",
      " Epoch 39 | Train/Valid loss: 0.343 / 0.357 | Train/Valid accuracy: 0.836 / 0.839\n",
      " Epoch 40 | Train/Valid loss: 0.357 / 0.382 | Train/Valid accuracy: 0.829 / 0.823\n",
      " Epoch 41 | Train/Valid loss: 0.347 / 0.369 | Train/Valid accuracy: 0.835 / 0.834\n",
      " Epoch 42 | Train/Valid loss: 0.346 / 0.368 | Train/Valid accuracy: 0.839 / 0.835\n",
      " Epoch 43 | Train/Valid loss: 0.342 / 0.368 | Train/Valid accuracy: 0.839 / 0.834\n",
      " Epoch 44 | Train/Valid loss: 0.344 / 0.369 | Train/Valid accuracy: 0.838 / 0.838\n",
      " Epoch 45 | Train/Valid loss: 0.344 / 0.367 | Train/Valid accuracy: 0.840 / 0.834\n",
      " Epoch 46 | Train/Valid loss: 0.342 / 0.377 | Train/Valid accuracy: 0.839 / 0.824\n",
      " Epoch 47 | Train/Valid loss: 0.344 / 0.369 | Train/Valid accuracy: 0.839 / 0.830\n",
      " Epoch 48 | Train/Valid loss: 0.345 / 0.365 | Train/Valid accuracy: 0.836 / 0.842\n",
      " Epoch 49 | Train/Valid loss: 0.341 / 0.378 | Train/Valid accuracy: 0.841 / 0.819\n",
      " Epoch 50 | Train/Valid loss: 0.338 / 0.387 | Train/Valid accuracy: 0.838 / 0.829\n",
      " Epoch 51 | Train/Valid loss: 0.339 / 0.361 | Train/Valid accuracy: 0.843 / 0.838\n",
      " Epoch 52 | Train/Valid loss: 0.340 / 0.386 | Train/Valid accuracy: 0.840 / 0.835\n",
      " Epoch 53 | Train/Valid loss: 0.345 / 0.368 | Train/Valid accuracy: 0.836 / 0.847\n",
      " Epoch 54 | Train/Valid loss: 0.337 / 0.374 | Train/Valid accuracy: 0.838 / 0.837\n",
      " Epoch 55 | Train/Valid loss: 0.342 / 0.376 | Train/Valid accuracy: 0.840 / 0.823\n",
      " Epoch 56 | Train/Valid loss: 0.338 / 0.372 | Train/Valid accuracy: 0.841 / 0.832\n",
      " Epoch 57 | Train/Valid loss: 0.337 / 0.365 | Train/Valid accuracy: 0.840 / 0.834\n",
      " Epoch 58 | Train/Valid loss: 0.340 / 0.370 | Train/Valid accuracy: 0.839 / 0.829\n",
      " Epoch 59 | Train/Valid loss: 0.336 / 0.374 | Train/Valid accuracy: 0.840 / 0.835\n",
      " Epoch 60 | Train/Valid loss: 0.335 / 0.382 | Train/Valid accuracy: 0.839 / 0.827\n",
      " Epoch 61 | Train/Valid loss: 0.336 / 0.366 | Train/Valid accuracy: 0.841 / 0.831\n",
      " Epoch 62 | Train/Valid loss: 0.345 / 0.365 | Train/Valid accuracy: 0.836 / 0.831\n",
      " Epoch 63 | Train/Valid loss: 0.332 / 0.365 | Train/Valid accuracy: 0.842 / 0.829\n",
      " Epoch 64 | Train/Valid loss: 0.336 / 0.388 | Train/Valid accuracy: 0.837 / 0.820\n",
      " Epoch 65 | Train/Valid loss: 0.335 / 0.367 | Train/Valid accuracy: 0.842 / 0.840\n",
      " Epoch 66 | Train/Valid loss: 0.332 / 0.370 | Train/Valid accuracy: 0.843 / 0.829\n",
      " Epoch 67 | Train/Valid loss: 0.335 / 0.365 | Train/Valid accuracy: 0.840 / 0.839\n",
      " Epoch 68 | Train/Valid loss: 0.333 / 0.367 | Train/Valid accuracy: 0.843 / 0.833\n",
      " Epoch 69 | Train/Valid loss: 0.332 / 0.369 | Train/Valid accuracy: 0.840 / 0.847\n",
      " Epoch 70 | Train/Valid loss: 0.335 / 0.364 | Train/Valid accuracy: 0.840 / 0.833\n",
      " Epoch 71 | Train/Valid loss: 0.331 / 0.366 | Train/Valid accuracy: 0.844 / 0.837\n",
      " Epoch 72 | Train/Valid loss: 0.328 / 0.367 | Train/Valid accuracy: 0.842 / 0.840\n",
      " Epoch 73 | Train/Valid loss: 0.328 / 0.370 | Train/Valid accuracy: 0.843 / 0.826\n",
      " Epoch 74 | Train/Valid loss: 0.330 / 0.365 | Train/Valid accuracy: 0.845 / 0.838\n",
      " Epoch 75 | Train/Valid loss: 0.328 / 0.374 | Train/Valid accuracy: 0.840 / 0.830\n",
      " Epoch 76 | Train/Valid loss: 0.329 / 0.363 | Train/Valid accuracy: 0.844 / 0.843\n",
      " Epoch 77 | Train/Valid loss: 0.328 / 0.371 | Train/Valid accuracy: 0.841 / 0.837\n",
      " Epoch 78 | Train/Valid loss: 0.330 / 0.374 | Train/Valid accuracy: 0.844 / 0.831\n",
      " Epoch 79 | Train/Valid loss: 0.334 / 0.384 | Train/Valid accuracy: 0.843 / 0.840\n",
      " Epoch 80 | Train/Valid loss: 0.327 / 0.373 | Train/Valid accuracy: 0.841 / 0.837\n",
      " Epoch 81 | Train/Valid loss: 0.330 / 0.379 | Train/Valid accuracy: 0.842 / 0.830\n",
      " Epoch 82 | Train/Valid loss: 0.327 / 0.370 | Train/Valid accuracy: 0.840 / 0.838\n",
      " Epoch 83 | Train/Valid loss: 0.323 / 0.362 | Train/Valid accuracy: 0.848 / 0.843\n",
      " Epoch 84 | Train/Valid loss: 0.323 / 0.354 | Train/Valid accuracy: 0.844 / 0.842\n",
      " Epoch 85 | Train/Valid loss: 0.322 / 0.373 | Train/Valid accuracy: 0.846 / 0.838\n",
      " Epoch 86 | Train/Valid loss: 0.328 / 0.361 | Train/Valid accuracy: 0.844 / 0.839\n",
      " Epoch 87 | Train/Valid loss: 0.328 / 0.369 | Train/Valid accuracy: 0.843 / 0.833\n",
      " Epoch 88 | Train/Valid loss: 0.323 / 0.377 | Train/Valid accuracy: 0.845 / 0.836\n",
      " Epoch 89 | Train/Valid loss: 0.322 / 0.364 | Train/Valid accuracy: 0.848 / 0.840\n",
      " Epoch 90 | Train/Valid loss: 0.321 / 0.374 | Train/Valid accuracy: 0.847 / 0.832\n",
      " Epoch 91 | Train/Valid loss: 0.324 / 0.370 | Train/Valid accuracy: 0.846 / 0.840\n",
      " Epoch 92 | Train/Valid loss: 0.319 / 0.372 | Train/Valid accuracy: 0.844 / 0.845\n",
      " Epoch 93 | Train/Valid loss: 0.319 / 0.373 | Train/Valid accuracy: 0.847 / 0.842\n",
      " Epoch 94 | Train/Valid loss: 0.323 / 0.355 | Train/Valid accuracy: 0.846 / 0.848\n",
      " Epoch 95 | Train/Valid loss: 0.321 / 0.359 | Train/Valid accuracy: 0.846 / 0.841\n",
      " Epoch 96 | Train/Valid loss: 0.320 / 0.355 | Train/Valid accuracy: 0.851 / 0.843\n",
      " Epoch 97 | Train/Valid loss: 0.316 / 0.354 | Train/Valid accuracy: 0.850 / 0.851\n",
      " Epoch 98 | Train/Valid loss: 0.317 / 0.369 | Train/Valid accuracy: 0.847 / 0.839\n",
      " Epoch 99 | Train/Valid loss: 0.320 / 0.349 | Train/Valid accuracy: 0.848 / 0.842\n"
     ]
    }
   ],
   "source": [
    "# cantidad de epochs\n",
    "epochs = 100\n",
    "\n",
    "train_loss_by_epoch=[]\n",
    "valid_loss_by_epoch=[]\n",
    "\n",
    "# Doble loop algoritmo Mini-Batch\n",
    "for epoch in range(epochs):\n",
    "  \n",
    "  ############################################\n",
    "  ## Entrenamiento\n",
    "  ############################################\n",
    "  nnet.train(True)\n",
    "\n",
    "  epoch_loss = 0\n",
    "  epoch_y_hat = []\n",
    "  epoch_y = []\n",
    "  \n",
    "  for i,data in enumerate(train_dataloader):\n",
    "    # Obtengo los datos del batch de entrenamiento\n",
    "    x_batch, y_batch = data\n",
    "    # Copio el batch al dispositivo donde entreno la red neuronal\n",
    "    x_batch = x_batch.to(device).float()\n",
    "    y_batch = y_batch.to(device).float().reshape(-1, 1)\n",
    "\n",
    "    # Paso forward\n",
    "    # Limpio optimizer para empezar un nuevo cálculo de gradiente\n",
    "    optimizer.zero_grad()\n",
    "    nnet_output = nnet(x_batch)\n",
    "    y_batch_hat = torch.sigmoid(nnet_output)\n",
    "    \n",
    "    # Calculo el loss\n",
    "    loss = loss_function(nnet_output, y_batch)\n",
    "\n",
    "    # Backpropagation\n",
    "    loss.backward()\n",
    "\n",
    "    # Actualizar los parámetros\n",
    "    optimizer.step()\n",
    "\n",
    "    # Almaceno los valores reales y mis predicciones para cálcular las métricas\n",
    "    epoch_y += list(y_batch.detach().cpu().numpy())\n",
    "    epoch_y_hat += list(y_batch_hat.detach().cpu().numpy())\n",
    "    # Acumulo la loss del batch\n",
    "    epoch_loss = epoch_loss + loss.item()\n",
    "\n",
    "  # Calculo la media de la loss\n",
    "  epoch_loss = epoch_loss / n_train\n",
    "  # Almaceno la loss de la epoch para graficar\n",
    "  train_loss_by_epoch.append(epoch_loss)\n",
    "  # Cálculo la métrica de la epoch\n",
    "  accuracy = metrics.accuracy_score(epoch_y, [j>=0.5 for j in epoch_y_hat])\n",
    "\n",
    "  ############################################\n",
    "  ## Validación\n",
    "  ############################################\n",
    "  # Desactivo el cálculo de gradiente para validación\n",
    "  nnet.train(False)\n",
    "\n",
    "  valid_epoch_loss = 0\n",
    "  valid_epoch_y_hat = []\n",
    "  valid_epoch_y = []\n",
    "\n",
    "  for i,data in enumerate(valid_dataloader):\n",
    "    # Obtengo los datos del batch de validación\n",
    "    x_batch, y_batch = data\n",
    "    # Copio el batch al dispositivo donde entreno la red neuronal\n",
    "    x_batch = x_batch.to(device).float()\n",
    "    y_batch = y_batch.to(device).float().reshape(-1, 1)\n",
    "\n",
    "    # Paso forward\n",
    "    nnet_output = nnet(x_batch)\n",
    "    y_batch_hat = torch.sigmoid(nnet_output)\n",
    "    \n",
    "    # Calculo el loss\n",
    "    loss = loss_function(nnet_output, y_batch)\n",
    "\n",
    "    # En validación no hago backpropagation!!\n",
    "\n",
    "    # Almaceno los valores reales y mis predicciones para cálcular las métricas\n",
    "    valid_epoch_y += list(y_batch.detach().cpu().numpy())\n",
    "    valid_epoch_y_hat += list(y_batch_hat.detach().cpu().numpy())\n",
    "    # Acumulo la loss del batch\n",
    "    valid_epoch_loss = valid_epoch_loss + loss.item()\n",
    "\n",
    "  # Calculo la media de la loss\n",
    "  valid_epoch_loss = valid_epoch_loss / n_valid\n",
    "  # Almaceno la loss de la epoch para graficar\n",
    "  valid_loss_by_epoch.append(valid_epoch_loss)\n",
    "  # Cálculo la métrica de la epoch\n",
    "  valid_accuracy = metrics.accuracy_score(valid_epoch_y, [j>=0.5 for j in valid_epoch_y_hat])\n",
    "\n",
    "  ############################################\n",
    "  ## Impresión de resultados por epoch\n",
    "  ############################################\n",
    "  print(f\" Epoch {epoch} | \" \\\n",
    "        f\"Train/Valid loss: {epoch_loss:.3f} / {valid_epoch_loss:.3f} | \" \\\n",
    "        f\"Train/Valid accuracy: {accuracy:.3f} / {valid_accuracy:.3f}\")"
   ]
  },
  {
   "cell_type": "code",
   "execution_count": 151,
   "metadata": {
    "colab": {
     "base_uri": "https://localhost:8080/",
     "height": 312
    },
    "id": "AOmgUAKKGH05",
    "outputId": "4d66afeb-299d-4df9-c682-4d473b3d0c5a"
   },
   "outputs": [
    {
     "data": {
      "text/plain": [
       "Text(0, 0.5, 'BCE')"
      ]
     },
     "execution_count": 151,
     "metadata": {},
     "output_type": "execute_result"
    },
    {
     "data": {
      "image/png": "[encoded data removed]",
      "text/plain": [
       "<Figure size 640x480 with 1 Axes>"
      ]
     },
     "metadata": {},
     "output_type": "display_data"
    }
   ],
   "source": [
    "fig, ax1= plt.subplots(1,1)\n",
    "ax1.plot(train_loss_by_epoch, label=\"Train loss\")\n",
    "ax1.plot(valid_loss_by_epoch, label=\"Validation loss\")\n",
    "ax1.legend()\n",
    "ax1.set_title(\"Loss by epoch\")\n",
    "ax1.set_xlabel(\"epoch\")\n",
    "ax1.set_ylabel(\"BCE\")"
   ]
  },
  {
   "cell_type": "code",
   "execution_count": null,
   "metadata": {
    "id": "qIxq7cfEMY2F"
   },
   "outputs": [],
   "source": []
  }
 ],
 "metadata": {
  "accelerator": "GPU",
  "colab": {
   "provenance": [],
   "toc_visible": true
  },
  "gpuClass": "standard",
  "kernelspec": {
   "display_name": "Python 3",
   "language": "python",
   "name": "python3"
  },
  "language_info": {
   "codemirror_mode": {
    "name": "ipython",
    "version": 3
   },
   "file_extension": ".py",
   "mimetype": "text/x-python",
   "name": "python",
   "nbconvert_exporter": "python",
   "pygments_lexer": "ipython3",
   "version": "3.11.2"
  }
 },
 "nbformat": 4,
 "nbformat_minor": 1
}
