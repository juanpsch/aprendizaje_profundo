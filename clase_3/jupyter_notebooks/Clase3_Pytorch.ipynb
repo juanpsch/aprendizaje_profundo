{
 "cells": [
  {
   "cell_type": "markdown",
   "metadata": {
    "id": "6hnAb_E0gZFA"
   },
   "source": [
    "# Aprendizaje Profundo - Clase 3\n"
   ]
  },
  {
   "cell_type": "code",
   "execution_count": 88,
   "metadata": {
    "id": "TUEjdowba98t"
   },
   "outputs": [],
   "source": [
    "import pandas as pd\n",
    "import numpy as np\n",
    "import matplotlib.pyplot as plt"
   ]
  },
  {
   "cell_type": "markdown",
   "metadata": {
    "id": "Y1BvoqATgjo9"
   },
   "source": [
    "**Consejo, montar drive para utilizar datos desde colab**\n",
    "\n",
    "![image.png](data:image/png;base64,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)"
   ]
  },
  {
   "cell_type": "markdown",
   "metadata": {
    "id": "fVMKJ1DihXiv"
   },
   "source": [
    "## Cargamos el dataset"
   ]
  },
  {
   "cell_type": "code",
   "execution_count": 89,
   "metadata": {
    "id": "dF9wgHw5jTW8"
   },
   "outputs": [],
   "source": [
    "df = pd.read_csv(\"https://raw.githubusercontent.com/juanpsch/aprendizaje_profundo/master/clase_3/data/class_7_wine_dataset_v2.csv\")"
   ]
  },
  {
   "cell_type": "code",
   "execution_count": 90,
   "metadata": {
    "colab": {
     "base_uri": "https://localhost:8080/"
    },
    "id": "gJRi8PDykHgL",
    "outputId": "7f59d10e-563f-47af-ab79-031db0919cb6"
   },
   "outputs": [
    {
     "data": {
      "text/plain": [
       "6497"
      ]
     },
     "execution_count": 90,
     "metadata": {},
     "output_type": "execute_result"
    }
   ],
   "source": [
    "len(df)"
   ]
  },
  {
   "cell_type": "markdown",
   "metadata": {
    "id": "Ay7lvsepha91"
   },
   "source": [
    "## Exploramos el dataset"
   ]
  },
  {
   "cell_type": "code",
   "execution_count": 91,
   "metadata": {
    "colab": {
     "base_uri": "https://localhost:8080/"
    },
    "id": "7i82jZ6RkROb",
    "outputId": "d972aa84-2894-47c2-b20a-bc78d11d20b8"
   },
   "outputs": [
    {
     "name": "stdout",
     "output_type": "stream",
     "text": [
      "<class 'pandas.core.frame.DataFrame'>\n",
      "RangeIndex: 6497 entries, 0 to 6496\n",
      "Data columns (total 15 columns):\n",
      " #   Column                Non-Null Count  Dtype  \n",
      "---  ------                --------------  -----  \n",
      " 0   Unnamed: 0            6497 non-null   int64  \n",
      " 1   type                  6497 non-null   object \n",
      " 2   fixed acidity         6487 non-null   float64\n",
      " 3   volatile acidity      6489 non-null   float64\n",
      " 4   citric acid           6494 non-null   float64\n",
      " 5   residual sugar        6495 non-null   float64\n",
      " 6   chlorides             6495 non-null   float64\n",
      " 7   free sulfur dioxide   6497 non-null   float64\n",
      " 8   total sulfur dioxide  6497 non-null   float64\n",
      " 9   density               6497 non-null   float64\n",
      " 10  pH                    6488 non-null   float64\n",
      " 11  sulphates             6493 non-null   float64\n",
      " 12  alcohol               6497 non-null   float64\n",
      " 13  quality               6497 non-null   int64  \n",
      " 14  vendor_id             6497 non-null   int64  \n",
      "dtypes: float64(11), int64(3), object(1)\n",
      "memory usage: 761.5+ KB\n"
     ]
    }
   ],
   "source": [
    "df.info()"
   ]
  },
  {
   "cell_type": "code",
   "execution_count": 92,
   "metadata": {
    "colab": {
     "base_uri": "https://localhost:8080/",
     "height": 285
    },
    "id": "-M1zpj1JkdTo",
    "outputId": "ca9b5d1b-d68e-4684-e28e-c3551b13768f"
   },
   "outputs": [
    {
     "data": {
      "text/html": [
       "<div>\n",
       "<style scoped>\n",
       "    .dataframe tbody tr th:only-of-type {\n",
       "        vertical-align: middle;\n",
       "    }\n",
       "\n",
       "    .dataframe tbody tr th {\n",
       "        vertical-align: top;\n",
       "    }\n",
       "\n",
       "    .dataframe thead th {\n",
       "        text-align: right;\n",
       "    }\n",
       "</style>\n",
       "<table border=\"1\" class=\"dataframe\">\n",
       "  <thead>\n",
       "    <tr style=\"text-align: right;\">\n",
       "      <th></th>\n",
       "      <th>Unnamed: 0</th>\n",
       "      <th>type</th>\n",
       "      <th>fixed acidity</th>\n",
       "      <th>volatile acidity</th>\n",
       "      <th>citric acid</th>\n",
       "      <th>residual sugar</th>\n",
       "      <th>chlorides</th>\n",
       "      <th>free sulfur dioxide</th>\n",
       "      <th>total sulfur dioxide</th>\n",
       "      <th>density</th>\n",
       "      <th>pH</th>\n",
       "      <th>sulphates</th>\n",
       "      <th>alcohol</th>\n",
       "      <th>quality</th>\n",
       "      <th>vendor_id</th>\n",
       "    </tr>\n",
       "  </thead>\n",
       "  <tbody>\n",
       "    <tr>\n",
       "      <th>0</th>\n",
       "      <td>0</td>\n",
       "      <td>white</td>\n",
       "      <td>7.0</td>\n",
       "      <td>0.27</td>\n",
       "      <td>0.36</td>\n",
       "      <td>20.7</td>\n",
       "      <td>0.045</td>\n",
       "      <td>45.0</td>\n",
       "      <td>170.0</td>\n",
       "      <td>1.0010</td>\n",
       "      <td>3.00</td>\n",
       "      <td>0.45</td>\n",
       "      <td>8.8</td>\n",
       "      <td>6</td>\n",
       "      <td>369</td>\n",
       "    </tr>\n",
       "    <tr>\n",
       "      <th>1</th>\n",
       "      <td>1</td>\n",
       "      <td>white</td>\n",
       "      <td>6.3</td>\n",
       "      <td>0.30</td>\n",
       "      <td>0.34</td>\n",
       "      <td>1.6</td>\n",
       "      <td>0.049</td>\n",
       "      <td>14.0</td>\n",
       "      <td>132.0</td>\n",
       "      <td>0.9940</td>\n",
       "      <td>3.30</td>\n",
       "      <td>0.49</td>\n",
       "      <td>9.5</td>\n",
       "      <td>6</td>\n",
       "      <td>361</td>\n",
       "    </tr>\n",
       "    <tr>\n",
       "      <th>2</th>\n",
       "      <td>2</td>\n",
       "      <td>white</td>\n",
       "      <td>8.1</td>\n",
       "      <td>0.28</td>\n",
       "      <td>0.40</td>\n",
       "      <td>6.9</td>\n",
       "      <td>0.050</td>\n",
       "      <td>30.0</td>\n",
       "      <td>97.0</td>\n",
       "      <td>0.9951</td>\n",
       "      <td>3.26</td>\n",
       "      <td>0.44</td>\n",
       "      <td>10.1</td>\n",
       "      <td>6</td>\n",
       "      <td>354</td>\n",
       "    </tr>\n",
       "    <tr>\n",
       "      <th>3</th>\n",
       "      <td>3</td>\n",
       "      <td>white</td>\n",
       "      <td>7.2</td>\n",
       "      <td>0.23</td>\n",
       "      <td>0.32</td>\n",
       "      <td>8.5</td>\n",
       "      <td>0.058</td>\n",
       "      <td>47.0</td>\n",
       "      <td>186.0</td>\n",
       "      <td>0.9956</td>\n",
       "      <td>3.19</td>\n",
       "      <td>0.40</td>\n",
       "      <td>9.9</td>\n",
       "      <td>6</td>\n",
       "      <td>325</td>\n",
       "    </tr>\n",
       "    <tr>\n",
       "      <th>4</th>\n",
       "      <td>4</td>\n",
       "      <td>white</td>\n",
       "      <td>7.2</td>\n",
       "      <td>0.23</td>\n",
       "      <td>0.32</td>\n",
       "      <td>8.5</td>\n",
       "      <td>0.058</td>\n",
       "      <td>47.0</td>\n",
       "      <td>186.0</td>\n",
       "      <td>0.9956</td>\n",
       "      <td>3.19</td>\n",
       "      <td>0.40</td>\n",
       "      <td>9.9</td>\n",
       "      <td>6</td>\n",
       "      <td>375</td>\n",
       "    </tr>\n",
       "  </tbody>\n",
       "</table>\n",
       "</div>"
      ],
      "text/plain": [
       "   Unnamed: 0   type  fixed acidity  volatile acidity  citric acid   \n",
       "0           0  white            7.0              0.27         0.36  \\\n",
       "1           1  white            6.3              0.30         0.34   \n",
       "2           2  white            8.1              0.28         0.40   \n",
       "3           3  white            7.2              0.23         0.32   \n",
       "4           4  white            7.2              0.23         0.32   \n",
       "\n",
       "   residual sugar  chlorides  free sulfur dioxide  total sulfur dioxide   \n",
       "0            20.7      0.045                 45.0                 170.0  \\\n",
       "1             1.6      0.049                 14.0                 132.0   \n",
       "2             6.9      0.050                 30.0                  97.0   \n",
       "3             8.5      0.058                 47.0                 186.0   \n",
       "4             8.5      0.058                 47.0                 186.0   \n",
       "\n",
       "   density    pH  sulphates  alcohol  quality  vendor_id  \n",
       "0   1.0010  3.00       0.45      8.8        6        369  \n",
       "1   0.9940  3.30       0.49      9.5        6        361  \n",
       "2   0.9951  3.26       0.44     10.1        6        354  \n",
       "3   0.9956  3.19       0.40      9.9        6        325  \n",
       "4   0.9956  3.19       0.40      9.9        6        375  "
      ]
     },
     "execution_count": 92,
     "metadata": {},
     "output_type": "execute_result"
    }
   ],
   "source": [
    "df.head()"
   ]
  },
  {
   "cell_type": "code",
   "execution_count": 93,
   "metadata": {
    "colab": {
     "base_uri": "https://localhost:8080/"
    },
    "id": "-jwlYIPkknhL",
    "outputId": "76a06483-4201-47da-c8e5-5914345b1749"
   },
   "outputs": [
    {
     "data": {
      "text/plain": [
       "array(['white', 'red'], dtype=object)"
      ]
     },
     "execution_count": 93,
     "metadata": {},
     "output_type": "execute_result"
    }
   ],
   "source": [
    "df['type'].unique()"
   ]
  },
  {
   "cell_type": "code",
   "execution_count": 94,
   "metadata": {
    "colab": {
     "base_uri": "https://localhost:8080/",
     "height": 423
    },
    "id": "hwnhhYwHk-yf",
    "outputId": "8cf14adc-0848-4fcd-93e7-334f1740cbd6"
   },
   "outputs": [
    {
     "data": {
      "text/html": [
       "<div>\n",
       "<style scoped>\n",
       "    .dataframe tbody tr th:only-of-type {\n",
       "        vertical-align: middle;\n",
       "    }\n",
       "\n",
       "    .dataframe tbody tr th {\n",
       "        vertical-align: top;\n",
       "    }\n",
       "\n",
       "    .dataframe thead th {\n",
       "        text-align: right;\n",
       "    }\n",
       "</style>\n",
       "<table border=\"1\" class=\"dataframe\">\n",
       "  <thead>\n",
       "    <tr style=\"text-align: right;\">\n",
       "      <th></th>\n",
       "      <th>type_red</th>\n",
       "      <th>type_white</th>\n",
       "    </tr>\n",
       "  </thead>\n",
       "  <tbody>\n",
       "    <tr>\n",
       "      <th>0</th>\n",
       "      <td>False</td>\n",
       "      <td>True</td>\n",
       "    </tr>\n",
       "    <tr>\n",
       "      <th>1</th>\n",
       "      <td>False</td>\n",
       "      <td>True</td>\n",
       "    </tr>\n",
       "    <tr>\n",
       "      <th>2</th>\n",
       "      <td>False</td>\n",
       "      <td>True</td>\n",
       "    </tr>\n",
       "    <tr>\n",
       "      <th>3</th>\n",
       "      <td>False</td>\n",
       "      <td>True</td>\n",
       "    </tr>\n",
       "    <tr>\n",
       "      <th>4</th>\n",
       "      <td>False</td>\n",
       "      <td>True</td>\n",
       "    </tr>\n",
       "    <tr>\n",
       "      <th>...</th>\n",
       "      <td>...</td>\n",
       "      <td>...</td>\n",
       "    </tr>\n",
       "    <tr>\n",
       "      <th>6492</th>\n",
       "      <td>True</td>\n",
       "      <td>False</td>\n",
       "    </tr>\n",
       "    <tr>\n",
       "      <th>6493</th>\n",
       "      <td>True</td>\n",
       "      <td>False</td>\n",
       "    </tr>\n",
       "    <tr>\n",
       "      <th>6494</th>\n",
       "      <td>True</td>\n",
       "      <td>False</td>\n",
       "    </tr>\n",
       "    <tr>\n",
       "      <th>6495</th>\n",
       "      <td>True</td>\n",
       "      <td>False</td>\n",
       "    </tr>\n",
       "    <tr>\n",
       "      <th>6496</th>\n",
       "      <td>True</td>\n",
       "      <td>False</td>\n",
       "    </tr>\n",
       "  </tbody>\n",
       "</table>\n",
       "<p>6497 rows × 2 columns</p>\n",
       "</div>"
      ],
      "text/plain": [
       "      type_red  type_white\n",
       "0        False        True\n",
       "1        False        True\n",
       "2        False        True\n",
       "3        False        True\n",
       "4        False        True\n",
       "...        ...         ...\n",
       "6492      True       False\n",
       "6493      True       False\n",
       "6494      True       False\n",
       "6495      True       False\n",
       "6496      True       False\n",
       "\n",
       "[6497 rows x 2 columns]"
      ]
     },
     "execution_count": 94,
     "metadata": {},
     "output_type": "execute_result"
    }
   ],
   "source": [
    "# Type es tipo categórica, transformamos con One Hot Encoding\n",
    "type_dummies = pd.get_dummies(df['type'], prefix=\"type\")\n",
    "type_dummies"
   ]
  },
  {
   "cell_type": "code",
   "execution_count": 95,
   "metadata": {
    "colab": {
     "base_uri": "https://localhost:8080/"
    },
    "id": "iZQcwiXclslE",
    "outputId": "3c5f3102-0b7d-44a5-e9cc-34bcdbf18392"
   },
   "outputs": [
    {
     "name": "stdout",
     "output_type": "stream",
     "text": [
      "<class 'pandas.core.frame.DataFrame'>\n",
      "RangeIndex: 6497 entries, 0 to 6496\n",
      "Data columns (total 17 columns):\n",
      " #   Column                Non-Null Count  Dtype  \n",
      "---  ------                --------------  -----  \n",
      " 0   Unnamed: 0            6497 non-null   int64  \n",
      " 1   type                  6497 non-null   object \n",
      " 2   fixed acidity         6487 non-null   float64\n",
      " 3   volatile acidity      6489 non-null   float64\n",
      " 4   citric acid           6494 non-null   float64\n",
      " 5   residual sugar        6495 non-null   float64\n",
      " 6   chlorides             6495 non-null   float64\n",
      " 7   free sulfur dioxide   6497 non-null   float64\n",
      " 8   total sulfur dioxide  6497 non-null   float64\n",
      " 9   density               6497 non-null   float64\n",
      " 10  pH                    6488 non-null   float64\n",
      " 11  sulphates             6493 non-null   float64\n",
      " 12  alcohol               6497 non-null   float64\n",
      " 13  quality               6497 non-null   int64  \n",
      " 14  vendor_id             6497 non-null   int64  \n",
      " 15  type_red              6497 non-null   bool   \n",
      " 16  type_white            6497 non-null   bool   \n",
      "dtypes: bool(2), float64(11), int64(3), object(1)\n",
      "memory usage: 774.2+ KB\n"
     ]
    }
   ],
   "source": [
    "df = pd.concat([df,type_dummies], axis = 1)\n",
    "df.info()"
   ]
  },
  {
   "cell_type": "code",
   "execution_count": 96,
   "metadata": {
    "colab": {
     "base_uri": "https://localhost:8080/"
    },
    "id": "k1Mkg0cVmHKA",
    "outputId": "a6c2720d-745c-40d8-d7c8-3214fa47f1f0"
   },
   "outputs": [
    {
     "data": {
      "text/plain": [
       "500"
      ]
     },
     "execution_count": 96,
     "metadata": {},
     "output_type": "execute_result"
    }
   ],
   "source": [
    "# Exploramos vendor_id\n",
    "len(df['vendor_id'].unique())"
   ]
  },
  {
   "cell_type": "markdown",
   "metadata": {
    "id": "fktUT520h8TI"
   },
   "source": [
    "vendor_id es tipo categórica con gran cantidad de valores diferentes, no podemos aplicar One Hot Encoding. Por el momento se descarta, en un futuro utilizaremos capas de embeddings con esta variable."
   ]
  },
  {
   "cell_type": "code",
   "execution_count": 97,
   "metadata": {
    "colab": {
     "base_uri": "https://localhost:8080/"
    },
    "id": "aIdVWG16m4_L",
    "outputId": "65c66cd1-0885-4342-9919-858c23d5db02"
   },
   "outputs": [
    {
     "data": {
      "text/plain": [
       "array([6, 5, 7, 8, 4, 3, 9], dtype=int64)"
      ]
     },
     "execution_count": 97,
     "metadata": {},
     "output_type": "execute_result"
    }
   ],
   "source": [
    "# Mi variable a predecir es quality, la calidad del vino.\n",
    "df['quality'].unique()"
   ]
  },
  {
   "cell_type": "code",
   "execution_count": 98,
   "metadata": {
    "colab": {
     "base_uri": "https://localhost:8080/",
     "height": 334
    },
    "id": "Hpp5eluMokzM",
    "outputId": "80e398d1-4dae-4a2b-d916-1dae9d12bc05"
   },
   "outputs": [
    {
     "data": {
      "text/plain": [
       "(array([  30.,  216.,    0., 2138.,    0., 2836., 1079.,    0.,  193.,\n",
       "           5.]),\n",
       " array([3. , 3.6, 4.2, 4.8, 5.4, 6. , 6.6, 7.2, 7.8, 8.4, 9. ]),\n",
       " <BarContainer object of 10 artists>)"
      ]
     },
     "execution_count": 98,
     "metadata": {},
     "output_type": "execute_result"
    },
    {
     "data": {
      "image/png": "[encoded data removed]",
      "text/plain": [
       "<Figure size 640x480 with 1 Axes>"
      ]
     },
     "metadata": {},
     "output_type": "display_data"
    }
   ],
   "source": [
    "quality = df['quality'].to_numpy()\n",
    "fig, ax1 = plt.subplots(1,1)\n",
    "ax1.hist(quality)"
   ]
  },
  {
   "cell_type": "markdown",
   "metadata": {
    "id": "k4Ggzy_oiQqq"
   },
   "source": [
    "Por simplicidad convertimos el problema en un problema de clasificación binaria: 0 si el vino es \"malo\", 1 si el vino es \"bueno\""
   ]
  },
  {
   "cell_type": "code",
   "execution_count": 99,
   "metadata": {
    "id": "oRo9kIhLo-44"
   },
   "outputs": [],
   "source": [
    "df[\"quality_label\"] = df[\"quality\"].apply(lambda q:0 if q<=6 else 1)"
   ]
  },
  {
   "cell_type": "code",
   "execution_count": 100,
   "metadata": {
    "colab": {
     "base_uri": "https://localhost:8080/",
     "height": 367
    },
    "id": "BMUg8dDNpr5v",
    "outputId": "0e35d779-9215-4ee8-e547-c73f304794cd"
   },
   "outputs": [
    {
     "data": {
      "text/html": [
       "<div>\n",
       "<style scoped>\n",
       "    .dataframe tbody tr th:only-of-type {\n",
       "        vertical-align: middle;\n",
       "    }\n",
       "\n",
       "    .dataframe tbody tr th {\n",
       "        vertical-align: top;\n",
       "    }\n",
       "\n",
       "    .dataframe thead th {\n",
       "        text-align: right;\n",
       "    }\n",
       "</style>\n",
       "<table border=\"1\" class=\"dataframe\">\n",
       "  <thead>\n",
       "    <tr style=\"text-align: right;\">\n",
       "      <th></th>\n",
       "      <th>Unnamed: 0</th>\n",
       "      <th>type</th>\n",
       "      <th>fixed acidity</th>\n",
       "      <th>volatile acidity</th>\n",
       "      <th>citric acid</th>\n",
       "      <th>residual sugar</th>\n",
       "      <th>chlorides</th>\n",
       "      <th>free sulfur dioxide</th>\n",
       "      <th>total sulfur dioxide</th>\n",
       "      <th>density</th>\n",
       "      <th>pH</th>\n",
       "      <th>sulphates</th>\n",
       "      <th>alcohol</th>\n",
       "      <th>quality</th>\n",
       "      <th>vendor_id</th>\n",
       "      <th>type_red</th>\n",
       "      <th>type_white</th>\n",
       "      <th>quality_label</th>\n",
       "    </tr>\n",
       "  </thead>\n",
       "  <tbody>\n",
       "    <tr>\n",
       "      <th>1603</th>\n",
       "      <td>1603</td>\n",
       "      <td>white</td>\n",
       "      <td>5.6</td>\n",
       "      <td>0.41</td>\n",
       "      <td>0.24</td>\n",
       "      <td>1.90</td>\n",
       "      <td>0.034</td>\n",
       "      <td>10.0</td>\n",
       "      <td>53.0</td>\n",
       "      <td>0.98815</td>\n",
       "      <td>3.32</td>\n",
       "      <td>0.50</td>\n",
       "      <td>13.5</td>\n",
       "      <td>7</td>\n",
       "      <td>465</td>\n",
       "      <td>False</td>\n",
       "      <td>True</td>\n",
       "      <td>1</td>\n",
       "    </tr>\n",
       "    <tr>\n",
       "      <th>1032</th>\n",
       "      <td>1032</td>\n",
       "      <td>white</td>\n",
       "      <td>7.1</td>\n",
       "      <td>0.30</td>\n",
       "      <td>0.36</td>\n",
       "      <td>6.80</td>\n",
       "      <td>0.055</td>\n",
       "      <td>44.5</td>\n",
       "      <td>234.0</td>\n",
       "      <td>0.99720</td>\n",
       "      <td>3.49</td>\n",
       "      <td>0.64</td>\n",
       "      <td>10.2</td>\n",
       "      <td>6</td>\n",
       "      <td>364</td>\n",
       "      <td>False</td>\n",
       "      <td>True</td>\n",
       "      <td>0</td>\n",
       "    </tr>\n",
       "    <tr>\n",
       "      <th>2476</th>\n",
       "      <td>2476</td>\n",
       "      <td>white</td>\n",
       "      <td>6.8</td>\n",
       "      <td>0.29</td>\n",
       "      <td>0.49</td>\n",
       "      <td>1.40</td>\n",
       "      <td>0.142</td>\n",
       "      <td>52.0</td>\n",
       "      <td>148.0</td>\n",
       "      <td>0.99370</td>\n",
       "      <td>3.08</td>\n",
       "      <td>0.49</td>\n",
       "      <td>9.0</td>\n",
       "      <td>6</td>\n",
       "      <td>395</td>\n",
       "      <td>False</td>\n",
       "      <td>True</td>\n",
       "      <td>0</td>\n",
       "    </tr>\n",
       "    <tr>\n",
       "      <th>4177</th>\n",
       "      <td>4177</td>\n",
       "      <td>white</td>\n",
       "      <td>6.4</td>\n",
       "      <td>0.25</td>\n",
       "      <td>0.33</td>\n",
       "      <td>1.70</td>\n",
       "      <td>0.037</td>\n",
       "      <td>35.0</td>\n",
       "      <td>113.0</td>\n",
       "      <td>0.99164</td>\n",
       "      <td>3.23</td>\n",
       "      <td>0.66</td>\n",
       "      <td>10.6</td>\n",
       "      <td>6</td>\n",
       "      <td>335</td>\n",
       "      <td>False</td>\n",
       "      <td>True</td>\n",
       "      <td>0</td>\n",
       "    </tr>\n",
       "    <tr>\n",
       "      <th>1863</th>\n",
       "      <td>1863</td>\n",
       "      <td>white</td>\n",
       "      <td>6.6</td>\n",
       "      <td>0.28</td>\n",
       "      <td>0.30</td>\n",
       "      <td>7.80</td>\n",
       "      <td>0.049</td>\n",
       "      <td>57.0</td>\n",
       "      <td>202.0</td>\n",
       "      <td>0.99580</td>\n",
       "      <td>3.24</td>\n",
       "      <td>0.39</td>\n",
       "      <td>9.5</td>\n",
       "      <td>5</td>\n",
       "      <td>243</td>\n",
       "      <td>False</td>\n",
       "      <td>True</td>\n",
       "      <td>0</td>\n",
       "    </tr>\n",
       "    <tr>\n",
       "      <th>4308</th>\n",
       "      <td>4308</td>\n",
       "      <td>white</td>\n",
       "      <td>6.2</td>\n",
       "      <td>0.26</td>\n",
       "      <td>0.29</td>\n",
       "      <td>2.00</td>\n",
       "      <td>0.036</td>\n",
       "      <td>16.0</td>\n",
       "      <td>87.0</td>\n",
       "      <td>0.99081</td>\n",
       "      <td>3.33</td>\n",
       "      <td>0.61</td>\n",
       "      <td>11.8</td>\n",
       "      <td>6</td>\n",
       "      <td>331</td>\n",
       "      <td>False</td>\n",
       "      <td>True</td>\n",
       "      <td>0</td>\n",
       "    </tr>\n",
       "    <tr>\n",
       "      <th>5437</th>\n",
       "      <td>5437</td>\n",
       "      <td>red</td>\n",
       "      <td>11.2</td>\n",
       "      <td>0.50</td>\n",
       "      <td>0.74</td>\n",
       "      <td>5.15</td>\n",
       "      <td>0.100</td>\n",
       "      <td>5.0</td>\n",
       "      <td>17.0</td>\n",
       "      <td>0.99960</td>\n",
       "      <td>3.22</td>\n",
       "      <td>0.62</td>\n",
       "      <td>11.2</td>\n",
       "      <td>5</td>\n",
       "      <td>201</td>\n",
       "      <td>True</td>\n",
       "      <td>False</td>\n",
       "      <td>0</td>\n",
       "    </tr>\n",
       "  </tbody>\n",
       "</table>\n",
       "</div>"
      ],
      "text/plain": [
       "      Unnamed: 0   type  fixed acidity  volatile acidity  citric acid   \n",
       "1603        1603  white            5.6              0.41         0.24  \\\n",
       "1032        1032  white            7.1              0.30         0.36   \n",
       "2476        2476  white            6.8              0.29         0.49   \n",
       "4177        4177  white            6.4              0.25         0.33   \n",
       "1863        1863  white            6.6              0.28         0.30   \n",
       "4308        4308  white            6.2              0.26         0.29   \n",
       "5437        5437    red           11.2              0.50         0.74   \n",
       "\n",
       "      residual sugar  chlorides  free sulfur dioxide  total sulfur dioxide   \n",
       "1603            1.90      0.034                 10.0                  53.0  \\\n",
       "1032            6.80      0.055                 44.5                 234.0   \n",
       "2476            1.40      0.142                 52.0                 148.0   \n",
       "4177            1.70      0.037                 35.0                 113.0   \n",
       "1863            7.80      0.049                 57.0                 202.0   \n",
       "4308            2.00      0.036                 16.0                  87.0   \n",
       "5437            5.15      0.100                  5.0                  17.0   \n",
       "\n",
       "      density    pH  sulphates  alcohol  quality  vendor_id  type_red   \n",
       "1603  0.98815  3.32       0.50     13.5        7        465     False  \\\n",
       "1032  0.99720  3.49       0.64     10.2        6        364     False   \n",
       "2476  0.99370  3.08       0.49      9.0        6        395     False   \n",
       "4177  0.99164  3.23       0.66     10.6        6        335     False   \n",
       "1863  0.99580  3.24       0.39      9.5        5        243     False   \n",
       "4308  0.99081  3.33       0.61     11.8        6        331     False   \n",
       "5437  0.99960  3.22       0.62     11.2        5        201      True   \n",
       "\n",
       "      type_white  quality_label  \n",
       "1603        True              1  \n",
       "1032        True              0  \n",
       "2476        True              0  \n",
       "4177        True              0  \n",
       "1863        True              0  \n",
       "4308        True              0  \n",
       "5437       False              0  "
      ]
     },
     "execution_count": 100,
     "metadata": {},
     "output_type": "execute_result"
    }
   ],
   "source": [
    "df.sample(7)"
   ]
  },
  {
   "cell_type": "code",
   "execution_count": 101,
   "metadata": {
    "colab": {
     "base_uri": "https://localhost:8080/"
    },
    "id": "gveBjHckptPv",
    "outputId": "f8fd6500-bb11-4e97-97c6-306bf00b7d5b"
   },
   "outputs": [
    {
     "data": {
      "text/plain": [
       "Unnamed: 0               0\n",
       "type                     0\n",
       "fixed acidity           10\n",
       "volatile acidity         8\n",
       "citric acid              3\n",
       "residual sugar           2\n",
       "chlorides                2\n",
       "free sulfur dioxide      0\n",
       "total sulfur dioxide     0\n",
       "density                  0\n",
       "pH                       9\n",
       "sulphates                4\n",
       "alcohol                  0\n",
       "quality                  0\n",
       "vendor_id                0\n",
       "type_red                 0\n",
       "type_white               0\n",
       "quality_label            0\n",
       "dtype: int64"
      ]
     },
     "execution_count": 101,
     "metadata": {},
     "output_type": "execute_result"
    }
   ],
   "source": [
    "# Comprobamos la existencia de nan\n",
    "df.isna().sum(axis=0)"
   ]
  },
  {
   "cell_type": "code",
   "execution_count": 102,
   "metadata": {
    "id": "ddfgs8-oqdJh"
   },
   "outputs": [],
   "source": [
    "# Como tenemos pocos nan, borramos las filas donde hay nan y trabajamos con un dataset completo\n",
    "ds = df[df.isna().sum(axis = 1) == 0]"
   ]
  },
  {
   "cell_type": "code",
   "execution_count": 103,
   "metadata": {
    "colab": {
     "base_uri": "https://localhost:8080/"
    },
    "id": "znDdmuclrCMO",
    "outputId": "eaef8ce8-cece-4b49-ca47-9ecc5b37a25b"
   },
   "outputs": [
    {
     "data": {
      "text/plain": [
       "Unnamed: 0              0\n",
       "type                    0\n",
       "fixed acidity           0\n",
       "volatile acidity        0\n",
       "citric acid             0\n",
       "residual sugar          0\n",
       "chlorides               0\n",
       "free sulfur dioxide     0\n",
       "total sulfur dioxide    0\n",
       "density                 0\n",
       "pH                      0\n",
       "sulphates               0\n",
       "alcohol                 0\n",
       "quality                 0\n",
       "vendor_id               0\n",
       "type_red                0\n",
       "type_white              0\n",
       "quality_label           0\n",
       "dtype: int64"
      ]
     },
     "execution_count": 103,
     "metadata": {},
     "output_type": "execute_result"
    }
   ],
   "source": [
    "ds.isna().sum()"
   ]
  },
  {
   "cell_type": "markdown",
   "metadata": {
    "id": "TmBJD3siinlF"
   },
   "source": [
    "## Armado del dataset"
   ]
  },
  {
   "cell_type": "code",
   "execution_count": 104,
   "metadata": {
    "id": "zE5f2XsqrTr_"
   },
   "outputs": [],
   "source": [
    "# Guardo vendor_id para un futuro modelo con embeddings\n",
    "vendor_id = ds['vendor_id']\n",
    "# Recordar que debo borrar del dataset de entrada mi columna de salida!\n",
    "x = ds.drop(['Unnamed: 0','type','vendor_id','quality','quality_label'], axis=1) \n",
    "y = ds['quality_label']"
   ]
  },
  {
   "cell_type": "code",
   "execution_count": 105,
   "metadata": {
    "colab": {
     "base_uri": "https://localhost:8080/"
    },
    "id": "SpU9XA4yr8wv",
    "outputId": "650e6e3c-1c83-4b41-d327-fc208ca7cf23"
   },
   "outputs": [
    {
     "name": "stdout",
     "output_type": "stream",
     "text": [
      "<class 'pandas.core.frame.DataFrame'>\n",
      "Index: 6463 entries, 0 to 6496\n",
      "Data columns (total 13 columns):\n",
      " #   Column                Non-Null Count  Dtype  \n",
      "---  ------                --------------  -----  \n",
      " 0   fixed acidity         6463 non-null   float64\n",
      " 1   volatile acidity      6463 non-null   float64\n",
      " 2   citric acid           6463 non-null   float64\n",
      " 3   residual sugar        6463 non-null   float64\n",
      " 4   chlorides             6463 non-null   float64\n",
      " 5   free sulfur dioxide   6463 non-null   float64\n",
      " 6   total sulfur dioxide  6463 non-null   float64\n",
      " 7   density               6463 non-null   float64\n",
      " 8   pH                    6463 non-null   float64\n",
      " 9   sulphates             6463 non-null   float64\n",
      " 10  alcohol               6463 non-null   float64\n",
      " 11  type_red              6463 non-null   bool   \n",
      " 12  type_white            6463 non-null   bool   \n",
      "dtypes: bool(2), float64(11)\n",
      "memory usage: 618.5 KB\n"
     ]
    }
   ],
   "source": [
    "x.info()"
   ]
  },
  {
   "cell_type": "code",
   "execution_count": 106,
   "metadata": {
    "colab": {
     "base_uri": "https://localhost:8080/"
    },
    "id": "kkDSrAhusE5E",
    "outputId": "d36f6639-49e4-4c6c-ec6e-531269ea79d8"
   },
   "outputs": [
    {
     "data": {
      "text/plain": [
       "0       0\n",
       "1       0\n",
       "2       0\n",
       "3       0\n",
       "4       0\n",
       "       ..\n",
       "6491    0\n",
       "6492    0\n",
       "6494    0\n",
       "6495    0\n",
       "6496    0\n",
       "Name: quality_label, Length: 6463, dtype: int64"
      ]
     },
     "execution_count": 106,
     "metadata": {},
     "output_type": "execute_result"
    }
   ],
   "source": [
    "y"
   ]
  },
  {
   "cell_type": "markdown",
   "metadata": {
    "id": "oNDPgGUNsvR8"
   },
   "source": [
    "## Normalizacion\n",
    "\n",
    "Las redes neuronales no requieren que los datos esten normalizados, pero la normalización ayuda a que el algoritmo de gradient descent converga más rápido."
   ]
  },
  {
   "cell_type": "code",
   "execution_count": 107,
   "metadata": {
    "id": "T6PPDNHIsHMM"
   },
   "outputs": [],
   "source": [
    "x = x.to_numpy()\n",
    "y = y.to_numpy()"
   ]
  },
  {
   "cell_type": "code",
   "execution_count": 108,
   "metadata": {
    "colab": {
     "base_uri": "https://localhost:8080/"
    },
    "id": "hFBgMAuJtoSF",
    "outputId": "8d6e33c9-7501-471f-c85c-c94c36a96d21"
   },
   "outputs": [
    {
     "data": {
      "text/plain": [
       "array([[7.0, 0.27, 0.36, ..., 8.8, False, True],\n",
       "       [6.3, 0.3, 0.34, ..., 9.5, False, True],\n",
       "       [8.1, 0.28, 0.4, ..., 10.1, False, True],\n",
       "       ...,\n",
       "       [6.3, 0.51, 0.13, ..., 11.0, True, False],\n",
       "       [5.9, 0.645, 0.12, ..., 10.2, True, False],\n",
       "       [6.0, 0.31, 0.47, ..., 11.0, True, False]], dtype=object)"
      ]
     },
     "execution_count": 108,
     "metadata": {},
     "output_type": "execute_result"
    }
   ],
   "source": [
    "x"
   ]
  },
  {
   "cell_type": "code",
   "execution_count": 109,
   "metadata": {
    "colab": {
     "base_uri": "https://localhost:8080/"
    },
    "id": "kA14bCLftvy5",
    "outputId": "5dccbbc1-739d-4191-dcda-b1be5a925e45"
   },
   "outputs": [
    {
     "data": {
      "text/plain": [
       "array([3.8, 0.08, 0.0, 0.6, 0.009, 1.0, 6.0, 0.98711, 2.72, 0.22, 8.0,\n",
       "       False, False], dtype=object)"
      ]
     },
     "execution_count": 109,
     "metadata": {},
     "output_type": "execute_result"
    }
   ],
   "source": [
    "np.min(x, axis=0)"
   ]
  },
  {
   "cell_type": "code",
   "execution_count": 110,
   "metadata": {
    "id": "N6MXPnges8HE"
   },
   "outputs": [],
   "source": [
    "# Normalización min max\n",
    "x_norm = (x - np.min(x, axis=0)) / (np.max(x, axis=0 ) - np.min(x, axis=0))"
   ]
  },
  {
   "cell_type": "code",
   "execution_count": 111,
   "metadata": {
    "colab": {
     "base_uri": "https://localhost:8080/"
    },
    "id": "oq4hhxBNuGAy",
    "outputId": "5ac30d50-32bc-4ff2-e5ad-0291827e1676"
   },
   "outputs": [
    {
     "name": "stdout",
     "output_type": "stream",
     "text": [
      "[0.0 0.0 0.0 0.0 0.0 0.0 0.0 0.0 0.0 0.0 0.0 0.0 0.0]\n",
      "[1.0 1.0 1.0 1.0 1.0 1.0 1.0 1.0 1.0 1.0 1.0 1.0 1.0]\n"
     ]
    }
   ],
   "source": [
    "print(np.min(x_norm, axis=0))\n",
    "print(np.max(x_norm, axis=0))"
   ]
  },
  {
   "cell_type": "markdown",
   "metadata": {
    "id": "1VVapvoTjvCm"
   },
   "source": [
    "## División del dataset\n",
    "Divido en entrenamiento y validación"
   ]
  },
  {
   "cell_type": "code",
   "execution_count": 112,
   "metadata": {
    "colab": {
     "base_uri": "https://localhost:8080/"
    },
    "id": "wrABCXQzyRem",
    "outputId": "07ddc190-3ad7-426a-a82b-c45b9f156132"
   },
   "outputs": [
    {
     "data": {
      "text/plain": [
       "array([   2, 5116, 2327, ..., 1506, 4682, 3033])"
      ]
     },
     "execution_count": 112,
     "metadata": {},
     "output_type": "execute_result"
    }
   ],
   "source": [
    "idx = np.random.permutation(x_norm.shape[0])\n",
    "idx"
   ]
  },
  {
   "cell_type": "code",
   "execution_count": 113,
   "metadata": {
    "colab": {
     "base_uri": "https://localhost:8080/"
    },
    "id": "C9dDhJqfyjkE",
    "outputId": "0e78d1ff-776a-4645-cd6d-c5ba3081e269"
   },
   "outputs": [
    {
     "name": "stdout",
     "output_type": "stream",
     "text": [
      "(5493,)\n",
      "(970,)\n"
     ]
    }
   ],
   "source": [
    "train_idx = idx[0:int(0.85*len(idx))]\n",
    "valid_idx = idx[int(0.85*len(idx)):]\n",
    "print(train_idx.shape)\n",
    "print(valid_idx.shape)"
   ]
  },
  {
   "cell_type": "code",
   "execution_count": 114,
   "metadata": {
    "id": "-VbD8cR8yzD4"
   },
   "outputs": [],
   "source": [
    "train_x = x_norm[train_idx]\n",
    "train_y = y[train_idx]\n",
    "valid_x = x_norm[valid_idx]\n",
    "valid_y = y[valid_idx]\n",
    "\n",
    "n_train = train_x.shape[0]\n",
    "n_valid = valid_x.shape[0]"
   ]
  },
  {
   "cell_type": "markdown",
   "metadata": {
    "id": "bTEFahXrwte2"
   },
   "source": [
    "## Pytorch"
   ]
  },
  {
   "cell_type": "code",
   "execution_count": 115,
   "metadata": {
    "id": "sCQz7nDkuK7S"
   },
   "outputs": [],
   "source": [
    "import torch\n",
    "from torch.utils.data import Dataset, DataLoader\n",
    "from torchvision import transforms\n",
    "from sklearn import metrics"
   ]
  },
  {
   "cell_type": "code",
   "execution_count": 116,
   "metadata": {
    "id": "gUpc_S5Fw_Nk"
   },
   "outputs": [],
   "source": [
    "# Pytorch necesita de una clase de dataset que extienda de torch.utils.data.Dataset\n",
    "# Esta clase dataset debe sobreescribir los métodos init, len y getitem\n",
    "class MyDataset(Dataset):\n",
    "\n",
    "  #__init__ guarda el dataset en una variable de clase\n",
    "  def __init__(self, x, y):\n",
    "    self.x = x\n",
    "    self.y = y\n",
    "\n",
    "  # __len__ define el comportamiento de la función len() sobre el objeto\n",
    "  def __len__(self):\n",
    "    return self.x.shape[0]\n",
    "\n",
    "  # __getitem__ define el comportamiento de los []\n",
    "  def __getitem__(self, idx):\n",
    "    return self.x[idx], self.y[idx]"
   ]
  },
  {
   "cell_type": "code",
   "execution_count": 117,
   "metadata": {
    "id": "eGbN4tbtzU6o"
   },
   "outputs": [],
   "source": [
    "# Creo el dataset de entrenamiento\n",
    "train_ds = MyDataset(train_x, train_y)"
   ]
  },
  {
   "cell_type": "code",
   "execution_count": 118,
   "metadata": {
    "colab": {
     "base_uri": "https://localhost:8080/"
    },
    "id": "hU2JCW3Bz8iI",
    "outputId": "869ba2e1-0eb5-4377-8cf4-80f44e5535c9"
   },
   "outputs": [
    {
     "data": {
      "text/plain": [
       "(array([0.19008264462809912, 0.17333333333333334, 0.12650602409638553,\n",
       "        0.06748466257668712, 0.05481727574750831, 0.05555555555555555,\n",
       "        0.2926267281105991, 0.12762675920570585, 0.23255813953488366,\n",
       "        0.17415730337078655, 0.20289855072463772, 0.0, 1.0], dtype=object),\n",
       " 0)"
      ]
     },
     "execution_count": 118,
     "metadata": {},
     "output_type": "execute_result"
    }
   ],
   "source": [
    "# Testeo funcionamiento de __getitem__\n",
    "train_ds[20]"
   ]
  },
  {
   "cell_type": "code",
   "execution_count": 119,
   "metadata": {
    "id": "gJMd5ESO0f2E"
   },
   "outputs": [],
   "source": [
    "# Creo el dataset de validación\n",
    "valid_ds = MyDataset(valid_x, valid_y)"
   ]
  },
  {
   "cell_type": "code",
   "execution_count": 120,
   "metadata": {
    "colab": {
     "base_uri": "https://localhost:8080/"
    },
    "id": "gsD6j7d30aRf",
    "outputId": "d9dcd963-2ba3-40ee-8ccd-8b1ec5d4cd58"
   },
   "outputs": [
    {
     "data": {
      "text/plain": [
       "970"
      ]
     },
     "execution_count": 120,
     "metadata": {},
     "output_type": "execute_result"
    }
   ],
   "source": [
    "# Testeo funcionamiento de __len__\n",
    "len(valid_ds)"
   ]
  },
  {
   "cell_type": "code",
   "execution_count": 136,
   "metadata": {
    "id": "6sFTrMOJ073s"
   },
   "outputs": [],
   "source": [
    "# Pytorch utiliza DataLoader para entregar los dataset de a batches\n",
    "train_dataloader = DataLoader(train_ds, batch_size = 64, shuffle= True)\n",
    "valid_dataloader = DataLoader(valid_ds, batch_size=64)"
   ]
  },
  {
   "cell_type": "code",
   "execution_count": 146,
   "metadata": {},
   "outputs": [
    {
     "ename": "TypeError",
     "evalue": "default_collate: batch must contain tensors, numpy arrays, numbers, dicts or lists; found object",
     "output_type": "error",
     "traceback": [
      "\u001b[1;31m---------------------------------------------------------------------------\u001b[0m",
      "\u001b[1;31mTypeError\u001b[0m                                 Traceback (most recent call last)",
      "Cell \u001b[1;32mIn[146], line 1\u001b[0m\n\u001b[1;32m----> 1\u001b[0m \u001b[39mnext\u001b[39;49m(\u001b[39miter\u001b[39;49m(train_dataloader))\n",
      "File \u001b[1;32md:\\Users\\juanp_schamun\\Documents\\GitRepositories\\CEIA\\aprendizaje_profundo\\.venv2\\Lib\\site-packages\\torch\\utils\\data\\dataloader.py:633\u001b[0m, in \u001b[0;36m_BaseDataLoaderIter.__next__\u001b[1;34m(self)\u001b[0m\n\u001b[0;32m    630\u001b[0m \u001b[39mif\u001b[39;00m \u001b[39mself\u001b[39m\u001b[39m.\u001b[39m_sampler_iter \u001b[39mis\u001b[39;00m \u001b[39mNone\u001b[39;00m:\n\u001b[0;32m    631\u001b[0m     \u001b[39m# TODO(https://github.com/pytorch/pytorch/issues/76750)\u001b[39;00m\n\u001b[0;32m    632\u001b[0m     \u001b[39mself\u001b[39m\u001b[39m.\u001b[39m_reset()  \u001b[39m# type: ignore[call-arg]\u001b[39;00m\n\u001b[1;32m--> 633\u001b[0m data \u001b[39m=\u001b[39m \u001b[39mself\u001b[39;49m\u001b[39m.\u001b[39;49m_next_data()\n\u001b[0;32m    634\u001b[0m \u001b[39mself\u001b[39m\u001b[39m.\u001b[39m_num_yielded \u001b[39m+\u001b[39m\u001b[39m=\u001b[39m \u001b[39m1\u001b[39m\n\u001b[0;32m    635\u001b[0m \u001b[39mif\u001b[39;00m \u001b[39mself\u001b[39m\u001b[39m.\u001b[39m_dataset_kind \u001b[39m==\u001b[39m _DatasetKind\u001b[39m.\u001b[39mIterable \u001b[39mand\u001b[39;00m \\\n\u001b[0;32m    636\u001b[0m         \u001b[39mself\u001b[39m\u001b[39m.\u001b[39m_IterableDataset_len_called \u001b[39mis\u001b[39;00m \u001b[39mnot\u001b[39;00m \u001b[39mNone\u001b[39;00m \u001b[39mand\u001b[39;00m \\\n\u001b[0;32m    637\u001b[0m         \u001b[39mself\u001b[39m\u001b[39m.\u001b[39m_num_yielded \u001b[39m>\u001b[39m \u001b[39mself\u001b[39m\u001b[39m.\u001b[39m_IterableDataset_len_called:\n",
      "File \u001b[1;32md:\\Users\\juanp_schamun\\Documents\\GitRepositories\\CEIA\\aprendizaje_profundo\\.venv2\\Lib\\site-packages\\torch\\utils\\data\\dataloader.py:677\u001b[0m, in \u001b[0;36m_SingleProcessDataLoaderIter._next_data\u001b[1;34m(self)\u001b[0m\n\u001b[0;32m    675\u001b[0m \u001b[39mdef\u001b[39;00m \u001b[39m_next_data\u001b[39m(\u001b[39mself\u001b[39m):\n\u001b[0;32m    676\u001b[0m     index \u001b[39m=\u001b[39m \u001b[39mself\u001b[39m\u001b[39m.\u001b[39m_next_index()  \u001b[39m# may raise StopIteration\u001b[39;00m\n\u001b[1;32m--> 677\u001b[0m     data \u001b[39m=\u001b[39m \u001b[39mself\u001b[39;49m\u001b[39m.\u001b[39;49m_dataset_fetcher\u001b[39m.\u001b[39;49mfetch(index)  \u001b[39m# may raise StopIteration\u001b[39;00m\n\u001b[0;32m    678\u001b[0m     \u001b[39mif\u001b[39;00m \u001b[39mself\u001b[39m\u001b[39m.\u001b[39m_pin_memory:\n\u001b[0;32m    679\u001b[0m         data \u001b[39m=\u001b[39m _utils\u001b[39m.\u001b[39mpin_memory\u001b[39m.\u001b[39mpin_memory(data, \u001b[39mself\u001b[39m\u001b[39m.\u001b[39m_pin_memory_device)\n",
      "File \u001b[1;32md:\\Users\\juanp_schamun\\Documents\\GitRepositories\\CEIA\\aprendizaje_profundo\\.venv2\\Lib\\site-packages\\torch\\utils\\data\\_utils\\fetch.py:54\u001b[0m, in \u001b[0;36m_MapDatasetFetcher.fetch\u001b[1;34m(self, possibly_batched_index)\u001b[0m\n\u001b[0;32m     52\u001b[0m \u001b[39melse\u001b[39;00m:\n\u001b[0;32m     53\u001b[0m     data \u001b[39m=\u001b[39m \u001b[39mself\u001b[39m\u001b[39m.\u001b[39mdataset[possibly_batched_index]\n\u001b[1;32m---> 54\u001b[0m \u001b[39mreturn\u001b[39;00m \u001b[39mself\u001b[39;49m\u001b[39m.\u001b[39;49mcollate_fn(data)\n",
      "File \u001b[1;32md:\\Users\\juanp_schamun\\Documents\\GitRepositories\\CEIA\\aprendizaje_profundo\\.venv2\\Lib\\site-packages\\torch\\utils\\data\\_utils\\collate.py:265\u001b[0m, in \u001b[0;36mdefault_collate\u001b[1;34m(batch)\u001b[0m\n\u001b[0;32m    204\u001b[0m \u001b[39mdef\u001b[39;00m \u001b[39mdefault_collate\u001b[39m(batch):\n\u001b[0;32m    205\u001b[0m \u001b[39m    \u001b[39m\u001b[39mr\u001b[39m\u001b[39m\"\"\"\u001b[39;00m\n\u001b[0;32m    206\u001b[0m \u001b[39m        Function that takes in a batch of data and puts the elements within the batch\u001b[39;00m\n\u001b[0;32m    207\u001b[0m \u001b[39m        into a tensor with an additional outer dimension - batch size. The exact output type can be\u001b[39;00m\n\u001b[1;32m   (...)\u001b[0m\n\u001b[0;32m    263\u001b[0m \u001b[39m            >>> default_collate(batch)  # Handle `CustomType` automatically\u001b[39;00m\n\u001b[0;32m    264\u001b[0m \u001b[39m    \"\"\"\u001b[39;00m\n\u001b[1;32m--> 265\u001b[0m     \u001b[39mreturn\u001b[39;00m collate(batch, collate_fn_map\u001b[39m=\u001b[39;49mdefault_collate_fn_map)\n",
      "File \u001b[1;32md:\\Users\\juanp_schamun\\Documents\\GitRepositories\\CEIA\\aprendizaje_profundo\\.venv2\\Lib\\site-packages\\torch\\utils\\data\\_utils\\collate.py:142\u001b[0m, in \u001b[0;36mcollate\u001b[1;34m(batch, collate_fn_map)\u001b[0m\n\u001b[0;32m    139\u001b[0m transposed \u001b[39m=\u001b[39m \u001b[39mlist\u001b[39m(\u001b[39mzip\u001b[39m(\u001b[39m*\u001b[39mbatch))  \u001b[39m# It may be accessed twice, so we use a list.\u001b[39;00m\n\u001b[0;32m    141\u001b[0m \u001b[39mif\u001b[39;00m \u001b[39misinstance\u001b[39m(elem, \u001b[39mtuple\u001b[39m):\n\u001b[1;32m--> 142\u001b[0m     \u001b[39mreturn\u001b[39;00m [collate(samples, collate_fn_map\u001b[39m=\u001b[39;49mcollate_fn_map) \u001b[39mfor\u001b[39;49;00m samples \u001b[39min\u001b[39;49;00m transposed]  \u001b[39m# Backwards compatibility.\u001b[39;00m\n\u001b[0;32m    143\u001b[0m \u001b[39melse\u001b[39;00m:\n\u001b[0;32m    144\u001b[0m     \u001b[39mtry\u001b[39;00m:\n",
      "File \u001b[1;32md:\\Users\\juanp_schamun\\Documents\\GitRepositories\\CEIA\\aprendizaje_profundo\\.venv2\\Lib\\site-packages\\torch\\utils\\data\\_utils\\collate.py:142\u001b[0m, in \u001b[0;36m<listcomp>\u001b[1;34m(.0)\u001b[0m\n\u001b[0;32m    139\u001b[0m transposed \u001b[39m=\u001b[39m \u001b[39mlist\u001b[39m(\u001b[39mzip\u001b[39m(\u001b[39m*\u001b[39mbatch))  \u001b[39m# It may be accessed twice, so we use a list.\u001b[39;00m\n\u001b[0;32m    141\u001b[0m \u001b[39mif\u001b[39;00m \u001b[39misinstance\u001b[39m(elem, \u001b[39mtuple\u001b[39m):\n\u001b[1;32m--> 142\u001b[0m     \u001b[39mreturn\u001b[39;00m [collate(samples, collate_fn_map\u001b[39m=\u001b[39;49mcollate_fn_map) \u001b[39mfor\u001b[39;00m samples \u001b[39min\u001b[39;00m transposed]  \u001b[39m# Backwards compatibility.\u001b[39;00m\n\u001b[0;32m    143\u001b[0m \u001b[39melse\u001b[39;00m:\n\u001b[0;32m    144\u001b[0m     \u001b[39mtry\u001b[39;00m:\n",
      "File \u001b[1;32md:\\Users\\juanp_schamun\\Documents\\GitRepositories\\CEIA\\aprendizaje_profundo\\.venv2\\Lib\\site-packages\\torch\\utils\\data\\_utils\\collate.py:119\u001b[0m, in \u001b[0;36mcollate\u001b[1;34m(batch, collate_fn_map)\u001b[0m\n\u001b[0;32m    117\u001b[0m \u001b[39mif\u001b[39;00m collate_fn_map \u001b[39mis\u001b[39;00m \u001b[39mnot\u001b[39;00m \u001b[39mNone\u001b[39;00m:\n\u001b[0;32m    118\u001b[0m     \u001b[39mif\u001b[39;00m elem_type \u001b[39min\u001b[39;00m collate_fn_map:\n\u001b[1;32m--> 119\u001b[0m         \u001b[39mreturn\u001b[39;00m collate_fn_map[elem_type](batch, collate_fn_map\u001b[39m=\u001b[39;49mcollate_fn_map)\n\u001b[0;32m    121\u001b[0m     \u001b[39mfor\u001b[39;00m collate_type \u001b[39min\u001b[39;00m collate_fn_map:\n\u001b[0;32m    122\u001b[0m         \u001b[39mif\u001b[39;00m \u001b[39misinstance\u001b[39m(elem, collate_type):\n",
      "File \u001b[1;32md:\\Users\\juanp_schamun\\Documents\\GitRepositories\\CEIA\\aprendizaje_profundo\\.venv2\\Lib\\site-packages\\torch\\utils\\data\\_utils\\collate.py:169\u001b[0m, in \u001b[0;36mcollate_numpy_array_fn\u001b[1;34m(batch, collate_fn_map)\u001b[0m\n\u001b[0;32m    167\u001b[0m \u001b[39m# array of string classes and object\u001b[39;00m\n\u001b[0;32m    168\u001b[0m \u001b[39mif\u001b[39;00m np_str_obj_array_pattern\u001b[39m.\u001b[39msearch(elem\u001b[39m.\u001b[39mdtype\u001b[39m.\u001b[39mstr) \u001b[39mis\u001b[39;00m \u001b[39mnot\u001b[39;00m \u001b[39mNone\u001b[39;00m:\n\u001b[1;32m--> 169\u001b[0m     \u001b[39mraise\u001b[39;00m \u001b[39mTypeError\u001b[39;00m(default_collate_err_msg_format\u001b[39m.\u001b[39mformat(elem\u001b[39m.\u001b[39mdtype))\n\u001b[0;32m    171\u001b[0m \u001b[39mreturn\u001b[39;00m collate([torch\u001b[39m.\u001b[39mas_tensor(b) \u001b[39mfor\u001b[39;00m b \u001b[39min\u001b[39;00m batch], collate_fn_map\u001b[39m=\u001b[39mcollate_fn_map)\n",
      "\u001b[1;31mTypeError\u001b[0m: default_collate: batch must contain tensors, numpy arrays, numbers, dicts or lists; found object"
     ]
    }
   ],
   "source": [
    "next(iter(train_dataloader))"
   ]
  },
  {
   "cell_type": "code",
   "execution_count": 123,
   "metadata": {
    "colab": {
     "base_uri": "https://localhost:8080/"
    },
    "id": "Otgc-P5o1-vo",
    "outputId": "3e745fc4-f805-4f55-eeac-912fca1d611e"
   },
   "outputs": [
    {
     "ename": "TypeError",
     "evalue": "default_collate: batch must contain tensors, numpy arrays, numbers, dicts or lists; found object",
     "output_type": "error",
     "traceback": [
      "\u001b[1;31m---------------------------------------------------------------------------\u001b[0m",
      "\u001b[1;31mTypeError\u001b[0m                                 Traceback (most recent call last)",
      "Cell \u001b[1;32mIn[123], line 2\u001b[0m\n\u001b[0;32m      1\u001b[0m \u001b[39m# Test dataloader\u001b[39;00m\n\u001b[1;32m----> 2\u001b[0m batch_1 \u001b[39m=\u001b[39m \u001b[39mnext\u001b[39;49m(\u001b[39miter\u001b[39;49m(train_dataloader))\n\u001b[0;32m      3\u001b[0m batch_1[\u001b[39m1\u001b[39m]\u001b[39m.\u001b[39mshape\n",
      "File \u001b[1;32md:\\Users\\juanp_schamun\\Documents\\GitRepositories\\CEIA\\aprendizaje_profundo\\.venv2\\Lib\\site-packages\\torch\\utils\\data\\dataloader.py:633\u001b[0m, in \u001b[0;36m_BaseDataLoaderIter.__next__\u001b[1;34m(self)\u001b[0m\n\u001b[0;32m    630\u001b[0m \u001b[39mif\u001b[39;00m \u001b[39mself\u001b[39m\u001b[39m.\u001b[39m_sampler_iter \u001b[39mis\u001b[39;00m \u001b[39mNone\u001b[39;00m:\n\u001b[0;32m    631\u001b[0m     \u001b[39m# TODO(https://github.com/pytorch/pytorch/issues/76750)\u001b[39;00m\n\u001b[0;32m    632\u001b[0m     \u001b[39mself\u001b[39m\u001b[39m.\u001b[39m_reset()  \u001b[39m# type: ignore[call-arg]\u001b[39;00m\n\u001b[1;32m--> 633\u001b[0m data \u001b[39m=\u001b[39m \u001b[39mself\u001b[39;49m\u001b[39m.\u001b[39;49m_next_data()\n\u001b[0;32m    634\u001b[0m \u001b[39mself\u001b[39m\u001b[39m.\u001b[39m_num_yielded \u001b[39m+\u001b[39m\u001b[39m=\u001b[39m \u001b[39m1\u001b[39m\n\u001b[0;32m    635\u001b[0m \u001b[39mif\u001b[39;00m \u001b[39mself\u001b[39m\u001b[39m.\u001b[39m_dataset_kind \u001b[39m==\u001b[39m _DatasetKind\u001b[39m.\u001b[39mIterable \u001b[39mand\u001b[39;00m \\\n\u001b[0;32m    636\u001b[0m         \u001b[39mself\u001b[39m\u001b[39m.\u001b[39m_IterableDataset_len_called \u001b[39mis\u001b[39;00m \u001b[39mnot\u001b[39;00m \u001b[39mNone\u001b[39;00m \u001b[39mand\u001b[39;00m \\\n\u001b[0;32m    637\u001b[0m         \u001b[39mself\u001b[39m\u001b[39m.\u001b[39m_num_yielded \u001b[39m>\u001b[39m \u001b[39mself\u001b[39m\u001b[39m.\u001b[39m_IterableDataset_len_called:\n",
      "File \u001b[1;32md:\\Users\\juanp_schamun\\Documents\\GitRepositories\\CEIA\\aprendizaje_profundo\\.venv2\\Lib\\site-packages\\torch\\utils\\data\\dataloader.py:677\u001b[0m, in \u001b[0;36m_SingleProcessDataLoaderIter._next_data\u001b[1;34m(self)\u001b[0m\n\u001b[0;32m    675\u001b[0m \u001b[39mdef\u001b[39;00m \u001b[39m_next_data\u001b[39m(\u001b[39mself\u001b[39m):\n\u001b[0;32m    676\u001b[0m     index \u001b[39m=\u001b[39m \u001b[39mself\u001b[39m\u001b[39m.\u001b[39m_next_index()  \u001b[39m# may raise StopIteration\u001b[39;00m\n\u001b[1;32m--> 677\u001b[0m     data \u001b[39m=\u001b[39m \u001b[39mself\u001b[39;49m\u001b[39m.\u001b[39;49m_dataset_fetcher\u001b[39m.\u001b[39;49mfetch(index)  \u001b[39m# may raise StopIteration\u001b[39;00m\n\u001b[0;32m    678\u001b[0m     \u001b[39mif\u001b[39;00m \u001b[39mself\u001b[39m\u001b[39m.\u001b[39m_pin_memory:\n\u001b[0;32m    679\u001b[0m         data \u001b[39m=\u001b[39m _utils\u001b[39m.\u001b[39mpin_memory\u001b[39m.\u001b[39mpin_memory(data, \u001b[39mself\u001b[39m\u001b[39m.\u001b[39m_pin_memory_device)\n",
      "File \u001b[1;32md:\\Users\\juanp_schamun\\Documents\\GitRepositories\\CEIA\\aprendizaje_profundo\\.venv2\\Lib\\site-packages\\torch\\utils\\data\\_utils\\fetch.py:54\u001b[0m, in \u001b[0;36m_MapDatasetFetcher.fetch\u001b[1;34m(self, possibly_batched_index)\u001b[0m\n\u001b[0;32m     52\u001b[0m \u001b[39melse\u001b[39;00m:\n\u001b[0;32m     53\u001b[0m     data \u001b[39m=\u001b[39m \u001b[39mself\u001b[39m\u001b[39m.\u001b[39mdataset[possibly_batched_index]\n\u001b[1;32m---> 54\u001b[0m \u001b[39mreturn\u001b[39;00m \u001b[39mself\u001b[39;49m\u001b[39m.\u001b[39;49mcollate_fn(data)\n",
      "File \u001b[1;32md:\\Users\\juanp_schamun\\Documents\\GitRepositories\\CEIA\\aprendizaje_profundo\\.venv2\\Lib\\site-packages\\torch\\utils\\data\\_utils\\collate.py:265\u001b[0m, in \u001b[0;36mdefault_collate\u001b[1;34m(batch)\u001b[0m\n\u001b[0;32m    204\u001b[0m \u001b[39mdef\u001b[39;00m \u001b[39mdefault_collate\u001b[39m(batch):\n\u001b[0;32m    205\u001b[0m \u001b[39m    \u001b[39m\u001b[39mr\u001b[39m\u001b[39m\"\"\"\u001b[39;00m\n\u001b[0;32m    206\u001b[0m \u001b[39m        Function that takes in a batch of data and puts the elements within the batch\u001b[39;00m\n\u001b[0;32m    207\u001b[0m \u001b[39m        into a tensor with an additional outer dimension - batch size. The exact output type can be\u001b[39;00m\n\u001b[1;32m   (...)\u001b[0m\n\u001b[0;32m    263\u001b[0m \u001b[39m            >>> default_collate(batch)  # Handle `CustomType` automatically\u001b[39;00m\n\u001b[0;32m    264\u001b[0m \u001b[39m    \"\"\"\u001b[39;00m\n\u001b[1;32m--> 265\u001b[0m     \u001b[39mreturn\u001b[39;00m collate(batch, collate_fn_map\u001b[39m=\u001b[39;49mdefault_collate_fn_map)\n",
      "File \u001b[1;32md:\\Users\\juanp_schamun\\Documents\\GitRepositories\\CEIA\\aprendizaje_profundo\\.venv2\\Lib\\site-packages\\torch\\utils\\data\\_utils\\collate.py:142\u001b[0m, in \u001b[0;36mcollate\u001b[1;34m(batch, collate_fn_map)\u001b[0m\n\u001b[0;32m    139\u001b[0m transposed \u001b[39m=\u001b[39m \u001b[39mlist\u001b[39m(\u001b[39mzip\u001b[39m(\u001b[39m*\u001b[39mbatch))  \u001b[39m# It may be accessed twice, so we use a list.\u001b[39;00m\n\u001b[0;32m    141\u001b[0m \u001b[39mif\u001b[39;00m \u001b[39misinstance\u001b[39m(elem, \u001b[39mtuple\u001b[39m):\n\u001b[1;32m--> 142\u001b[0m     \u001b[39mreturn\u001b[39;00m [collate(samples, collate_fn_map\u001b[39m=\u001b[39;49mcollate_fn_map) \u001b[39mfor\u001b[39;49;00m samples \u001b[39min\u001b[39;49;00m transposed]  \u001b[39m# Backwards compatibility.\u001b[39;00m\n\u001b[0;32m    143\u001b[0m \u001b[39melse\u001b[39;00m:\n\u001b[0;32m    144\u001b[0m     \u001b[39mtry\u001b[39;00m:\n",
      "File \u001b[1;32md:\\Users\\juanp_schamun\\Documents\\GitRepositories\\CEIA\\aprendizaje_profundo\\.venv2\\Lib\\site-packages\\torch\\utils\\data\\_utils\\collate.py:142\u001b[0m, in \u001b[0;36m<listcomp>\u001b[1;34m(.0)\u001b[0m\n\u001b[0;32m    139\u001b[0m transposed \u001b[39m=\u001b[39m \u001b[39mlist\u001b[39m(\u001b[39mzip\u001b[39m(\u001b[39m*\u001b[39mbatch))  \u001b[39m# It may be accessed twice, so we use a list.\u001b[39;00m\n\u001b[0;32m    141\u001b[0m \u001b[39mif\u001b[39;00m \u001b[39misinstance\u001b[39m(elem, \u001b[39mtuple\u001b[39m):\n\u001b[1;32m--> 142\u001b[0m     \u001b[39mreturn\u001b[39;00m [collate(samples, collate_fn_map\u001b[39m=\u001b[39;49mcollate_fn_map) \u001b[39mfor\u001b[39;00m samples \u001b[39min\u001b[39;00m transposed]  \u001b[39m# Backwards compatibility.\u001b[39;00m\n\u001b[0;32m    143\u001b[0m \u001b[39melse\u001b[39;00m:\n\u001b[0;32m    144\u001b[0m     \u001b[39mtry\u001b[39;00m:\n",
      "File \u001b[1;32md:\\Users\\juanp_schamun\\Documents\\GitRepositories\\CEIA\\aprendizaje_profundo\\.venv2\\Lib\\site-packages\\torch\\utils\\data\\_utils\\collate.py:119\u001b[0m, in \u001b[0;36mcollate\u001b[1;34m(batch, collate_fn_map)\u001b[0m\n\u001b[0;32m    117\u001b[0m \u001b[39mif\u001b[39;00m collate_fn_map \u001b[39mis\u001b[39;00m \u001b[39mnot\u001b[39;00m \u001b[39mNone\u001b[39;00m:\n\u001b[0;32m    118\u001b[0m     \u001b[39mif\u001b[39;00m elem_type \u001b[39min\u001b[39;00m collate_fn_map:\n\u001b[1;32m--> 119\u001b[0m         \u001b[39mreturn\u001b[39;00m collate_fn_map[elem_type](batch, collate_fn_map\u001b[39m=\u001b[39;49mcollate_fn_map)\n\u001b[0;32m    121\u001b[0m     \u001b[39mfor\u001b[39;00m collate_type \u001b[39min\u001b[39;00m collate_fn_map:\n\u001b[0;32m    122\u001b[0m         \u001b[39mif\u001b[39;00m \u001b[39misinstance\u001b[39m(elem, collate_type):\n",
      "File \u001b[1;32md:\\Users\\juanp_schamun\\Documents\\GitRepositories\\CEIA\\aprendizaje_profundo\\.venv2\\Lib\\site-packages\\torch\\utils\\data\\_utils\\collate.py:169\u001b[0m, in \u001b[0;36mcollate_numpy_array_fn\u001b[1;34m(batch, collate_fn_map)\u001b[0m\n\u001b[0;32m    167\u001b[0m \u001b[39m# array of string classes and object\u001b[39;00m\n\u001b[0;32m    168\u001b[0m \u001b[39mif\u001b[39;00m np_str_obj_array_pattern\u001b[39m.\u001b[39msearch(elem\u001b[39m.\u001b[39mdtype\u001b[39m.\u001b[39mstr) \u001b[39mis\u001b[39;00m \u001b[39mnot\u001b[39;00m \u001b[39mNone\u001b[39;00m:\n\u001b[1;32m--> 169\u001b[0m     \u001b[39mraise\u001b[39;00m \u001b[39mTypeError\u001b[39;00m(default_collate_err_msg_format\u001b[39m.\u001b[39mformat(elem\u001b[39m.\u001b[39mdtype))\n\u001b[0;32m    171\u001b[0m \u001b[39mreturn\u001b[39;00m collate([torch\u001b[39m.\u001b[39mas_tensor(b) \u001b[39mfor\u001b[39;00m b \u001b[39min\u001b[39;00m batch], collate_fn_map\u001b[39m=\u001b[39mcollate_fn_map)\n",
      "\u001b[1;31mTypeError\u001b[0m: default_collate: batch must contain tensors, numpy arrays, numbers, dicts or lists; found object"
     ]
    }
   ],
   "source": [
    "# Test dataloader\n",
    "batch_1 = next(iter(train_dataloader))\n",
    "batch_1[1].shape"
   ]
  },
  {
   "cell_type": "code",
   "execution_count": 36,
   "metadata": {
    "colab": {
     "base_uri": "https://localhost:8080/"
    },
    "id": "76QcEVR528XM",
    "outputId": "da20c111-cfd4-4971-b76b-64f26a2245b2"
   },
   "outputs": [
    {
     "name": "stdout",
     "output_type": "stream",
     "text": [
      "<class 'torch.Tensor'>\n"
     ]
    }
   ],
   "source": [
    "print(type(batch_1[0]))"
   ]
  },
  {
   "cell_type": "markdown",
   "metadata": {
    "id": "J6qXvzZyklbV"
   },
   "source": [
    "### Tensores\n",
    "Los objetos torch.Tensor son vectores muy parecidos a los vectores de numpy pero pueden ejecutar funciones en GPU (numpy solo corre en CPU) y pueden guardar información del grafo de cómputos para realizar luego el backpropagation"
   ]
  },
  {
   "cell_type": "code",
   "execution_count": 130,
   "metadata": {
    "colab": {
     "base_uri": "https://localhost:8080/"
    },
    "id": "K0ueT1EA3U9Y",
    "outputId": "986f5465-9288-47cd-ebf7-0b1505c98133"
   },
   "outputs": [
    {
     "name": "stdout",
     "output_type": "stream",
     "text": [
      "tensor([1.], requires_grad=True)\n",
      "tensor([3.], requires_grad=True)\n",
      "tensor([4.], requires_grad=True)\n",
      "tensor([5.], requires_grad=True)\n"
     ]
    }
   ],
   "source": [
    "# Defino 2 tensores con seguimiento del grafo de cómputos\n",
    "w1 = torch.tensor([1.0], requires_grad=True)\n",
    "w2 = torch.tensor([3.0], requires_grad=True)\n",
    "w3 = torch.tensor([4.0], requires_grad=True)\n",
    "q = torch.tensor([5.0], requires_grad=True)\n",
    "\n",
    "print(w1)\n",
    "print(w2)\n",
    "print(w3)\n",
    "print(q)"
   ]
  },
  {
   "cell_type": "code",
   "execution_count": 131,
   "metadata": {
    "id": "aq0_bv024ae7"
   },
   "outputs": [],
   "source": [
    "# Defino z y p como cálculos sobre w y q\n",
    "z1 = w1 * q \n",
    "z2 = w2 * z1\n",
    "z3 = w3 * z2"
   ]
  },
  {
   "cell_type": "code",
   "execution_count": 132,
   "metadata": {
    "colab": {
     "base_uri": "https://localhost:8080/"
    },
    "id": "tPtUbun15FbA",
    "outputId": "719d6f13-1855-4782-8171-c5d2ee9ee440"
   },
   "outputs": [
    {
     "name": "stdout",
     "output_type": "stream",
     "text": [
      "tensor([5.], grad_fn=<MulBackward0>)\n",
      "tensor([15.], grad_fn=<MulBackward0>)\n",
      "tensor([60.], grad_fn=<MulBackward0>)\n"
     ]
    }
   ],
   "source": [
    "# z y p almacenen información de como fueron cálculados para facilitar el backpropagation\n",
    "print(z1)\n",
    "print(z2)\n",
    "print(z3)"
   ]
  },
  {
   "cell_type": "code",
   "execution_count": 133,
   "metadata": {
    "id": "qINfEncc4sWt"
   },
   "outputs": [],
   "source": [
    "# Ejecutamos el cálculo del backpropagation\n",
    "z3.backward()"
   ]
  },
  {
   "cell_type": "code",
   "execution_count": 135,
   "metadata": {},
   "outputs": [
    {
     "data": {
      "text/plain": [
       "'2.0.1+cpu'"
      ]
     },
     "execution_count": 135,
     "metadata": {},
     "output_type": "execute_result"
    }
   ],
   "source": [
    "torch.__version__"
   ]
  },
  {
   "cell_type": "code",
   "execution_count": 134,
   "metadata": {
    "colab": {
     "base_uri": "https://localhost:8080/"
    },
    "id": "6-0jWvpO4zlf",
    "outputId": "58c27c1c-011f-4ac6-e228-783e2b35e94c"
   },
   "outputs": [
    {
     "name": "stdout",
     "output_type": "stream",
     "text": [
      "tensor([60.])\n",
      "tensor([20.])\n",
      "tensor([15.])\n"
     ]
    }
   ],
   "source": [
    "# w y q poseen en grad el cálculo del dp/dw y dp/dz respectivamente\n",
    "print(w1.grad)\n",
    "print(w2.grad)\n",
    "print(w3.grad)"
   ]
  },
  {
   "cell_type": "markdown",
   "metadata": {
    "id": "-KNcY4ApllNa"
   },
   "source": [
    "### Arquitectura NNet Pytorch\n",
    "La red neuronal en Pytorch se define extendiendo torch.nn.Module"
   ]
  },
  {
   "cell_type": "code",
   "execution_count": 147,
   "metadata": {
    "id": "1B95zN1m5r6c"
   },
   "outputs": [],
   "source": [
    "class NNet(torch.nn.Module):\n",
    "\n",
    "  def __init__(self):\n",
    "    # Defino la arquitectura de la red\n",
    "    super().__init__()\n",
    "    self.linear_1 = torch.nn.Linear(in_features=13, out_features=200, bias=True)\n",
    "    self.relu_1 = torch.nn.ReLU()\n",
    "    self.linear_2 = torch.nn.Linear(in_features = 200, out_features=100, bias=True)\n",
    "    self.relu_2 = torch.nn.ReLU()\n",
    "    self.output = torch.nn.Linear(in_features = 100, out_features= 1, bias=True)\n",
    "\n",
    "  def forward(self, x):\n",
    "    # Defino el cálculo del paso forward\n",
    "    x = self.linear_1(x)\n",
    "    x = self.relu_1(x)\n",
    "    x = self.linear_2(x)\n",
    "    x = self.relu_2(x)\n",
    "    x = self.output(x)\n",
    "    return x"
   ]
  },
  {
   "cell_type": "code",
   "execution_count": 148,
   "metadata": {
    "id": "QLOh2lz4_NXl"
   },
   "outputs": [],
   "source": [
    "# Instanciamos la red\n",
    "nnet = NNet()"
   ]
  },
  {
   "cell_type": "code",
   "execution_count": 149,
   "metadata": {
    "colab": {
     "base_uri": "https://localhost:8080/"
    },
    "id": "S5d2IfRlBpOG",
    "outputId": "931f2831-9194-4dc3-ddb2-b37aff0564a4"
   },
   "outputs": [
    {
     "name": "stdout",
     "output_type": "stream",
     "text": [
      "NNet(\n",
      "  (linear_1): Linear(in_features=13, out_features=200, bias=True)\n",
      "  (relu_1): ReLU()\n",
      "  (linear_2): Linear(in_features=200, out_features=100, bias=True)\n",
      "  (relu_2): ReLU()\n",
      "  (output): Linear(in_features=100, out_features=1, bias=True)\n",
      ")\n"
     ]
    }
   ],
   "source": [
    "print(nnet)"
   ]
  },
  {
   "cell_type": "code",
   "execution_count": 150,
   "metadata": {
    "colab": {
     "base_uri": "https://localhost:8080/"
    },
    "id": "d0PXhPXNBrp5",
    "outputId": "c14fbacb-378a-4823-b442-99a18950c613"
   },
   "outputs": [
    {
     "name": "stdout",
     "output_type": "stream",
     "text": [
      "[Parameter containing:\n",
      "tensor([[-0.0992, -0.1386,  0.0915,  ...,  0.2412,  0.2293, -0.2258],\n",
      "        [-0.1404,  0.2685,  0.1790,  ...,  0.2348,  0.1051,  0.1650],\n",
      "        [ 0.1087,  0.1842, -0.0921,  ..., -0.1419, -0.0692,  0.2330],\n",
      "        ...,\n",
      "        [ 0.0633,  0.2124,  0.0572,  ..., -0.0868, -0.1163,  0.1942],\n",
      "        [-0.2216, -0.1541,  0.0915,  ..., -0.2444, -0.2472, -0.1255],\n",
      "        [-0.0436, -0.1442, -0.1181,  ..., -0.1585, -0.2127, -0.2038]],\n",
      "       requires_grad=True), Parameter containing:\n",
      "tensor([-5.7308e-02, -4.8721e-02, -5.4939e-02,  2.0197e-01,  1.7294e-01,\n",
      "        -3.3587e-02, -2.2741e-01, -2.0890e-01,  1.3320e-01,  2.6913e-01,\n",
      "        -1.5898e-01, -4.6288e-03, -6.3627e-02, -1.8182e-01, -5.9162e-02,\n",
      "        -1.5159e-01,  1.6917e-01,  2.0517e-01,  7.2883e-02,  1.9202e-01,\n",
      "        -4.0810e-02,  2.5503e-01, -1.1381e-01, -2.7410e-01,  7.6153e-02,\n",
      "        -1.6724e-01,  5.4770e-02, -1.3405e-01,  7.0487e-03, -1.7958e-01,\n",
      "         4.5119e-02,  2.4805e-01,  1.2023e-01, -2.6159e-01,  1.2247e-01,\n",
      "        -1.7164e-01, -2.4441e-02, -7.2140e-02, -2.2131e-01, -1.2837e-01,\n",
      "         1.9673e-02,  2.3711e-01, -1.5059e-02,  2.7148e-01, -1.2941e-01,\n",
      "        -2.3097e-01, -1.5620e-01,  1.6414e-01, -1.9720e-01, -7.2273e-02,\n",
      "        -1.2603e-01,  2.5110e-01, -1.5478e-01,  2.6288e-01,  1.5919e-01,\n",
      "        -1.5857e-01,  1.1912e-01, -2.4046e-01, -2.0209e-01,  1.0111e-01,\n",
      "         2.2985e-01,  4.9690e-02, -2.3829e-01,  2.6977e-01,  1.9145e-01,\n",
      "         2.6769e-01,  1.9672e-01,  2.2420e-01,  1.8161e-01, -1.9166e-01,\n",
      "         1.9797e-01, -1.6895e-01, -9.8578e-02,  2.6517e-01,  1.6905e-01,\n",
      "         2.7063e-01, -8.6890e-02,  1.8374e-01,  3.5971e-02,  1.6027e-01,\n",
      "         1.8235e-01,  6.0033e-02, -1.9116e-01, -1.5120e-01, -1.6070e-01,\n",
      "         1.0843e-01, -1.8205e-01, -1.4633e-01, -2.6804e-01,  1.1401e-01,\n",
      "        -2.6206e-02,  2.6802e-01,  1.7250e-04,  6.6956e-02,  9.0238e-02,\n",
      "        -1.2130e-01, -8.4736e-02,  1.1577e-01, -2.0906e-01,  1.2008e-01,\n",
      "        -2.6779e-02, -2.6597e-01,  2.5078e-01, -1.7154e-01, -9.1516e-02,\n",
      "        -1.5953e-01, -2.0686e-01,  2.3301e-01,  1.3701e-01, -1.4996e-01,\n",
      "        -7.8292e-02, -2.0671e-01, -2.6557e-02, -5.6635e-02,  1.2826e-01,\n",
      "         2.0490e-01,  2.4249e-02, -1.5593e-01, -1.3310e-01, -2.5432e-01,\n",
      "        -3.8817e-02, -6.5192e-02,  1.7535e-01,  1.9740e-01, -2.0074e-01,\n",
      "         2.3788e-01,  2.5161e-01,  1.3097e-01,  2.7272e-01, -2.1141e-01,\n",
      "        -2.1888e-01, -6.0087e-02,  1.2855e-01,  1.7753e-01,  2.2703e-01,\n",
      "         1.1824e-01, -8.7389e-03,  9.7430e-02,  1.6507e-01,  2.0512e-01,\n",
      "        -1.6117e-01,  1.8662e-01,  2.1122e-01,  3.8768e-02,  1.7327e-01,\n",
      "         9.3246e-02,  1.7266e-01, -8.4287e-03, -2.7053e-01,  1.1765e-01,\n",
      "        -6.7179e-02, -1.7347e-01, -1.6446e-02, -1.6987e-01, -1.8513e-01,\n",
      "        -1.7761e-02, -8.4335e-02, -1.5588e-01, -2.0591e-01,  8.0129e-02,\n",
      "         2.5295e-01,  2.1307e-02, -1.1829e-01,  2.2383e-01, -6.0678e-02,\n",
      "        -1.9229e-02, -2.5693e-01,  3.2732e-02,  1.2155e-01,  1.8123e-01,\n",
      "        -6.4813e-02,  4.6920e-02,  2.3496e-01,  1.5020e-02,  1.4978e-01,\n",
      "         8.8520e-02, -2.5732e-01, -1.4667e-01,  8.0399e-02,  1.5696e-01,\n",
      "         1.6768e-01, -2.1246e-01,  2.2171e-01,  3.2003e-02,  2.3426e-01,\n",
      "         6.4406e-02,  1.9557e-02, -2.5884e-01, -1.8575e-01,  5.2488e-02,\n",
      "        -2.3699e-01, -2.1315e-01,  5.7882e-02,  1.7826e-01, -2.0010e-02,\n",
      "         7.2382e-02, -1.0510e-01,  1.0461e-01, -1.6130e-02,  1.4419e-01],\n",
      "       requires_grad=True), Parameter containing:\n",
      "tensor([[-4.7044e-02,  1.1425e-03, -6.3313e-02,  ..., -5.4864e-02,\n",
      "          2.4380e-02, -6.2017e-02],\n",
      "        [ 1.6513e-02,  7.4431e-06,  5.4651e-02,  ..., -9.7968e-03,\n",
      "          6.0953e-02,  5.4307e-02],\n",
      "        [ 2.9298e-03,  7.0231e-02, -5.2018e-02,  ..., -2.2031e-02,\n",
      "         -4.7799e-02,  2.7925e-02],\n",
      "        ...,\n",
      "        [-3.1982e-03,  2.3014e-02,  2.0027e-02,  ...,  4.2702e-02,\n",
      "         -4.4182e-02,  1.5517e-02],\n",
      "        [ 3.1361e-02, -2.9920e-02, -2.2546e-02,  ...,  3.8039e-02,\n",
      "          3.3394e-02, -5.2078e-02],\n",
      "        [-5.3164e-02,  3.4644e-02, -2.0611e-02,  ..., -2.5084e-02,\n",
      "         -2.8239e-04,  5.7818e-02]], requires_grad=True), Parameter containing:\n",
      "tensor([ 0.0091, -0.0635,  0.0466,  0.0598,  0.0094, -0.0578,  0.0330, -0.0361,\n",
      "        -0.0132, -0.0175, -0.0528,  0.0364,  0.0010, -0.0189, -0.0400,  0.0180,\n",
      "        -0.0538, -0.0230, -0.0272, -0.0182, -0.0645,  0.0271, -0.0151, -0.0117,\n",
      "         0.0686, -0.0026,  0.0492, -0.0200, -0.0501, -0.0427,  0.0065,  0.0434,\n",
      "         0.0312,  0.0465, -0.0233,  0.0155,  0.0664,  0.0343,  0.0178,  0.0330,\n",
      "         0.0386,  0.0685, -0.0621, -0.0403,  0.0377,  0.0307, -0.0058, -0.0334,\n",
      "        -0.0447,  0.0444, -0.0181, -0.0549, -0.0117,  0.0279, -0.0616,  0.0312,\n",
      "         0.0096,  0.0295,  0.0221,  0.0204, -0.0449, -0.0209, -0.0153, -0.0338,\n",
      "         0.0677, -0.0033,  0.0143, -0.0314, -0.0418,  0.0246, -0.0313,  0.0450,\n",
      "        -0.0162, -0.0576, -0.0658, -0.0090, -0.0559, -0.0535, -0.0192,  0.0453,\n",
      "        -0.0489,  0.0340, -0.0168,  0.0287,  0.0366,  0.0640,  0.0501,  0.0367,\n",
      "        -0.0638, -0.0365, -0.0410, -0.0233, -0.0005, -0.0560, -0.0660,  0.0226,\n",
      "         0.0290,  0.0168,  0.0604,  0.0618], requires_grad=True), Parameter containing:\n",
      "tensor([[ 0.0844,  0.0666, -0.0396,  0.0712,  0.0648, -0.0078,  0.0229,  0.0148,\n",
      "         -0.0744,  0.0158, -0.0023,  0.0706,  0.0904, -0.0893,  0.0620, -0.0588,\n",
      "         -0.0397,  0.0714,  0.0081, -0.0639,  0.0945, -0.0169,  0.0930,  0.0900,\n",
      "          0.0283, -0.0101,  0.0686,  0.0104, -0.0685, -0.0272, -0.0890,  0.0501,\n",
      "         -0.0762,  0.0155,  0.0387,  0.0236,  0.0817,  0.0127, -0.0519,  0.0358,\n",
      "          0.0898, -0.0035,  0.0248,  0.0538,  0.0735,  0.0516,  0.0147, -0.0363,\n",
      "          0.0497,  0.0081, -0.0826,  0.0665,  0.0419, -0.0892,  0.0880, -0.0150,\n",
      "          0.0294, -0.0058, -0.0148, -0.0733, -0.0222,  0.0194,  0.0057, -0.0074,\n",
      "          0.0480, -0.0591,  0.0511, -0.0056, -0.0454,  0.0188, -0.0158, -0.0990,\n",
      "         -0.0095,  0.0680, -0.0032,  0.0008, -0.0474,  0.0289, -0.0267, -0.0319,\n",
      "          0.0382,  0.0566, -0.0706, -0.0737,  0.0184,  0.0558,  0.0618, -0.0672,\n",
      "          0.0411,  0.0540, -0.0082,  0.0935, -0.0756,  0.0983, -0.0219,  0.0476,\n",
      "          0.0644, -0.0445, -0.0034,  0.0556]], requires_grad=True), Parameter containing:\n",
      "tensor([0.0679], requires_grad=True)]\n"
     ]
    }
   ],
   "source": [
    "# Imprimimos los parámetros optimizables de la red\n",
    "print([p for p in nnet.parameters()])"
   ]
  },
  {
   "cell_type": "code",
   "execution_count": 151,
   "metadata": {
    "colab": {
     "base_uri": "https://localhost:8080/"
    },
    "id": "D6idB_t1BveQ",
    "outputId": "e9ec17a9-ae66-4e56-d2f6-8bdf5a7ee8c3"
   },
   "outputs": [
    {
     "name": "stdout",
     "output_type": "stream",
     "text": [
      "23001\n"
     ]
    }
   ],
   "source": [
    "# Imprimo la cantidad de parámetros optimizables de la red\n",
    "print(sum(p.numel() for p in nnet.parameters()))"
   ]
  },
  {
   "cell_type": "markdown",
   "metadata": {
    "id": "T8sc7rsBmEBS"
   },
   "source": [
    "### Loss y optimizador\n",
    "- Como loss function utilizo BCE por ser un problema de clasificación binaria.\n",
    "\n",
    "**Nota**: la función sigmoid de salida no se definió en la arquitectura de la red neuronal porque utilizo BCEWithLogitsLoss que combina sigmoid+BCE. Hago esto para tener mejor estabilidad numérica: [link](https://pytorch.org/docs/stable/generated/torch.nn.BCEWithLogitsLoss.html).\n",
    "\n",
    "Podría utilizar BCELoss y agregar la capa sigmoid en la clase NNet\n",
    "\n",
    "- Como optimizador utilizo Adam"
   ]
  },
  {
   "cell_type": "code",
   "execution_count": 152,
   "metadata": {
    "id": "GjJ2wX6wChK4"
   },
   "outputs": [],
   "source": [
    "loss_function = torch.nn.BCEWithLogitsLoss(reduction='sum')\n",
    "optimizer = torch.optim.Adam(nnet.parameters(), lr=0.01)"
   ]
  },
  {
   "cell_type": "markdown",
   "metadata": {
    "id": "h6Rj4g1AnGYJ"
   },
   "source": [
    "Pytorch puede correr en GPU. Con el siguiente código chequeo si hay una GPU compatible disponible y la utilizo en ese caso.\n",
    "\n",
    "**Como utilizar GPU con colab**: Ir a Entorno de ejecucion -> Cambiar tipo de entorno de ejecución. Seleccionar GPU"
   ]
  },
  {
   "cell_type": "code",
   "execution_count": 153,
   "metadata": {
    "colab": {
     "base_uri": "https://localhost:8080/",
     "height": 36
    },
    "id": "ducia7gqEBJz",
    "outputId": "cb6fa34e-cbee-478d-a912-75139d863b5a"
   },
   "outputs": [
    {
     "data": {
      "text/plain": [
       "'cpu'"
      ]
     },
     "execution_count": 153,
     "metadata": {},
     "output_type": "execute_result"
    }
   ],
   "source": [
    "device = \"cpu\"\n",
    "if torch.cuda.is_available():\n",
    "  device = \"cuda:0\"\n",
    "\n",
    "device"
   ]
  },
  {
   "cell_type": "code",
   "execution_count": 154,
   "metadata": {
    "id": "5dECiZZVEfC5"
   },
   "outputs": [],
   "source": [
    "# Copio la red neuronal al dispositivo donde entrene la red neuronal\n",
    "nnet = nnet.to(device)"
   ]
  },
  {
   "cell_type": "markdown",
   "metadata": {
    "id": "7Tf8PPFRnlzk"
   },
   "source": [
    "### Entrenamiento y validación red neuronal\n",
    "\n",
    "Entreno con algoritmo Mini-Batch"
   ]
  },
  {
   "cell_type": "code",
   "execution_count": 155,
   "metadata": {
    "colab": {
     "base_uri": "https://localhost:8080/"
    },
    "id": "L9UeuiOmErqk",
    "outputId": "c96ede9c-e6ac-453e-cf48-a1ebc7a46cab"
   },
   "outputs": [
    {
     "ename": "TypeError",
     "evalue": "default_collate: batch must contain tensors, numpy arrays, numbers, dicts or lists; found object",
     "output_type": "error",
     "traceback": [
      "\u001b[1;31m---------------------------------------------------------------------------\u001b[0m",
      "\u001b[1;31mTypeError\u001b[0m                                 Traceback (most recent call last)",
      "Cell \u001b[1;32mIn[155], line 19\u001b[0m\n\u001b[0;32m     16\u001b[0m epoch_y_hat \u001b[39m=\u001b[39m []\n\u001b[0;32m     17\u001b[0m epoch_y \u001b[39m=\u001b[39m []\n\u001b[1;32m---> 19\u001b[0m \u001b[39mfor\u001b[39;00m i,data \u001b[39min\u001b[39;00m \u001b[39menumerate\u001b[39m(train_dataloader):\n\u001b[0;32m     20\u001b[0m   \u001b[39m# Obtengo los datos del batch de entrenamiento\u001b[39;00m\n\u001b[0;32m     21\u001b[0m   x_batch, y_batch \u001b[39m=\u001b[39m data\n\u001b[0;32m     22\u001b[0m   \u001b[39m# Copio el batch al dispositivo donde entreno la red neuronal\u001b[39;00m\n",
      "File \u001b[1;32md:\\Users\\juanp_schamun\\Documents\\GitRepositories\\CEIA\\aprendizaje_profundo\\.venv2\\Lib\\site-packages\\torch\\utils\\data\\dataloader.py:633\u001b[0m, in \u001b[0;36m_BaseDataLoaderIter.__next__\u001b[1;34m(self)\u001b[0m\n\u001b[0;32m    630\u001b[0m \u001b[39mif\u001b[39;00m \u001b[39mself\u001b[39m\u001b[39m.\u001b[39m_sampler_iter \u001b[39mis\u001b[39;00m \u001b[39mNone\u001b[39;00m:\n\u001b[0;32m    631\u001b[0m     \u001b[39m# TODO(https://github.com/pytorch/pytorch/issues/76750)\u001b[39;00m\n\u001b[0;32m    632\u001b[0m     \u001b[39mself\u001b[39m\u001b[39m.\u001b[39m_reset()  \u001b[39m# type: ignore[call-arg]\u001b[39;00m\n\u001b[1;32m--> 633\u001b[0m data \u001b[39m=\u001b[39m \u001b[39mself\u001b[39;49m\u001b[39m.\u001b[39;49m_next_data()\n\u001b[0;32m    634\u001b[0m \u001b[39mself\u001b[39m\u001b[39m.\u001b[39m_num_yielded \u001b[39m+\u001b[39m\u001b[39m=\u001b[39m \u001b[39m1\u001b[39m\n\u001b[0;32m    635\u001b[0m \u001b[39mif\u001b[39;00m \u001b[39mself\u001b[39m\u001b[39m.\u001b[39m_dataset_kind \u001b[39m==\u001b[39m _DatasetKind\u001b[39m.\u001b[39mIterable \u001b[39mand\u001b[39;00m \\\n\u001b[0;32m    636\u001b[0m         \u001b[39mself\u001b[39m\u001b[39m.\u001b[39m_IterableDataset_len_called \u001b[39mis\u001b[39;00m \u001b[39mnot\u001b[39;00m \u001b[39mNone\u001b[39;00m \u001b[39mand\u001b[39;00m \\\n\u001b[0;32m    637\u001b[0m         \u001b[39mself\u001b[39m\u001b[39m.\u001b[39m_num_yielded \u001b[39m>\u001b[39m \u001b[39mself\u001b[39m\u001b[39m.\u001b[39m_IterableDataset_len_called:\n",
      "File \u001b[1;32md:\\Users\\juanp_schamun\\Documents\\GitRepositories\\CEIA\\aprendizaje_profundo\\.venv2\\Lib\\site-packages\\torch\\utils\\data\\dataloader.py:677\u001b[0m, in \u001b[0;36m_SingleProcessDataLoaderIter._next_data\u001b[1;34m(self)\u001b[0m\n\u001b[0;32m    675\u001b[0m \u001b[39mdef\u001b[39;00m \u001b[39m_next_data\u001b[39m(\u001b[39mself\u001b[39m):\n\u001b[0;32m    676\u001b[0m     index \u001b[39m=\u001b[39m \u001b[39mself\u001b[39m\u001b[39m.\u001b[39m_next_index()  \u001b[39m# may raise StopIteration\u001b[39;00m\n\u001b[1;32m--> 677\u001b[0m     data \u001b[39m=\u001b[39m \u001b[39mself\u001b[39;49m\u001b[39m.\u001b[39;49m_dataset_fetcher\u001b[39m.\u001b[39;49mfetch(index)  \u001b[39m# may raise StopIteration\u001b[39;00m\n\u001b[0;32m    678\u001b[0m     \u001b[39mif\u001b[39;00m \u001b[39mself\u001b[39m\u001b[39m.\u001b[39m_pin_memory:\n\u001b[0;32m    679\u001b[0m         data \u001b[39m=\u001b[39m _utils\u001b[39m.\u001b[39mpin_memory\u001b[39m.\u001b[39mpin_memory(data, \u001b[39mself\u001b[39m\u001b[39m.\u001b[39m_pin_memory_device)\n",
      "File \u001b[1;32md:\\Users\\juanp_schamun\\Documents\\GitRepositories\\CEIA\\aprendizaje_profundo\\.venv2\\Lib\\site-packages\\torch\\utils\\data\\_utils\\fetch.py:54\u001b[0m, in \u001b[0;36m_MapDatasetFetcher.fetch\u001b[1;34m(self, possibly_batched_index)\u001b[0m\n\u001b[0;32m     52\u001b[0m \u001b[39melse\u001b[39;00m:\n\u001b[0;32m     53\u001b[0m     data \u001b[39m=\u001b[39m \u001b[39mself\u001b[39m\u001b[39m.\u001b[39mdataset[possibly_batched_index]\n\u001b[1;32m---> 54\u001b[0m \u001b[39mreturn\u001b[39;00m \u001b[39mself\u001b[39;49m\u001b[39m.\u001b[39;49mcollate_fn(data)\n",
      "File \u001b[1;32md:\\Users\\juanp_schamun\\Documents\\GitRepositories\\CEIA\\aprendizaje_profundo\\.venv2\\Lib\\site-packages\\torch\\utils\\data\\_utils\\collate.py:265\u001b[0m, in \u001b[0;36mdefault_collate\u001b[1;34m(batch)\u001b[0m\n\u001b[0;32m    204\u001b[0m \u001b[39mdef\u001b[39;00m \u001b[39mdefault_collate\u001b[39m(batch):\n\u001b[0;32m    205\u001b[0m \u001b[39m    \u001b[39m\u001b[39mr\u001b[39m\u001b[39m\"\"\"\u001b[39;00m\n\u001b[0;32m    206\u001b[0m \u001b[39m        Function that takes in a batch of data and puts the elements within the batch\u001b[39;00m\n\u001b[0;32m    207\u001b[0m \u001b[39m        into a tensor with an additional outer dimension - batch size. The exact output type can be\u001b[39;00m\n\u001b[1;32m   (...)\u001b[0m\n\u001b[0;32m    263\u001b[0m \u001b[39m            >>> default_collate(batch)  # Handle `CustomType` automatically\u001b[39;00m\n\u001b[0;32m    264\u001b[0m \u001b[39m    \"\"\"\u001b[39;00m\n\u001b[1;32m--> 265\u001b[0m     \u001b[39mreturn\u001b[39;00m collate(batch, collate_fn_map\u001b[39m=\u001b[39;49mdefault_collate_fn_map)\n",
      "File \u001b[1;32md:\\Users\\juanp_schamun\\Documents\\GitRepositories\\CEIA\\aprendizaje_profundo\\.venv2\\Lib\\site-packages\\torch\\utils\\data\\_utils\\collate.py:142\u001b[0m, in \u001b[0;36mcollate\u001b[1;34m(batch, collate_fn_map)\u001b[0m\n\u001b[0;32m    139\u001b[0m transposed \u001b[39m=\u001b[39m \u001b[39mlist\u001b[39m(\u001b[39mzip\u001b[39m(\u001b[39m*\u001b[39mbatch))  \u001b[39m# It may be accessed twice, so we use a list.\u001b[39;00m\n\u001b[0;32m    141\u001b[0m \u001b[39mif\u001b[39;00m \u001b[39misinstance\u001b[39m(elem, \u001b[39mtuple\u001b[39m):\n\u001b[1;32m--> 142\u001b[0m     \u001b[39mreturn\u001b[39;00m [collate(samples, collate_fn_map\u001b[39m=\u001b[39;49mcollate_fn_map) \u001b[39mfor\u001b[39;49;00m samples \u001b[39min\u001b[39;49;00m transposed]  \u001b[39m# Backwards compatibility.\u001b[39;00m\n\u001b[0;32m    143\u001b[0m \u001b[39melse\u001b[39;00m:\n\u001b[0;32m    144\u001b[0m     \u001b[39mtry\u001b[39;00m:\n",
      "File \u001b[1;32md:\\Users\\juanp_schamun\\Documents\\GitRepositories\\CEIA\\aprendizaje_profundo\\.venv2\\Lib\\site-packages\\torch\\utils\\data\\_utils\\collate.py:142\u001b[0m, in \u001b[0;36m<listcomp>\u001b[1;34m(.0)\u001b[0m\n\u001b[0;32m    139\u001b[0m transposed \u001b[39m=\u001b[39m \u001b[39mlist\u001b[39m(\u001b[39mzip\u001b[39m(\u001b[39m*\u001b[39mbatch))  \u001b[39m# It may be accessed twice, so we use a list.\u001b[39;00m\n\u001b[0;32m    141\u001b[0m \u001b[39mif\u001b[39;00m \u001b[39misinstance\u001b[39m(elem, \u001b[39mtuple\u001b[39m):\n\u001b[1;32m--> 142\u001b[0m     \u001b[39mreturn\u001b[39;00m [collate(samples, collate_fn_map\u001b[39m=\u001b[39;49mcollate_fn_map) \u001b[39mfor\u001b[39;00m samples \u001b[39min\u001b[39;00m transposed]  \u001b[39m# Backwards compatibility.\u001b[39;00m\n\u001b[0;32m    143\u001b[0m \u001b[39melse\u001b[39;00m:\n\u001b[0;32m    144\u001b[0m     \u001b[39mtry\u001b[39;00m:\n",
      "File \u001b[1;32md:\\Users\\juanp_schamun\\Documents\\GitRepositories\\CEIA\\aprendizaje_profundo\\.venv2\\Lib\\site-packages\\torch\\utils\\data\\_utils\\collate.py:119\u001b[0m, in \u001b[0;36mcollate\u001b[1;34m(batch, collate_fn_map)\u001b[0m\n\u001b[0;32m    117\u001b[0m \u001b[39mif\u001b[39;00m collate_fn_map \u001b[39mis\u001b[39;00m \u001b[39mnot\u001b[39;00m \u001b[39mNone\u001b[39;00m:\n\u001b[0;32m    118\u001b[0m     \u001b[39mif\u001b[39;00m elem_type \u001b[39min\u001b[39;00m collate_fn_map:\n\u001b[1;32m--> 119\u001b[0m         \u001b[39mreturn\u001b[39;00m collate_fn_map[elem_type](batch, collate_fn_map\u001b[39m=\u001b[39;49mcollate_fn_map)\n\u001b[0;32m    121\u001b[0m     \u001b[39mfor\u001b[39;00m collate_type \u001b[39min\u001b[39;00m collate_fn_map:\n\u001b[0;32m    122\u001b[0m         \u001b[39mif\u001b[39;00m \u001b[39misinstance\u001b[39m(elem, collate_type):\n",
      "File \u001b[1;32md:\\Users\\juanp_schamun\\Documents\\GitRepositories\\CEIA\\aprendizaje_profundo\\.venv2\\Lib\\site-packages\\torch\\utils\\data\\_utils\\collate.py:169\u001b[0m, in \u001b[0;36mcollate_numpy_array_fn\u001b[1;34m(batch, collate_fn_map)\u001b[0m\n\u001b[0;32m    167\u001b[0m \u001b[39m# array of string classes and object\u001b[39;00m\n\u001b[0;32m    168\u001b[0m \u001b[39mif\u001b[39;00m np_str_obj_array_pattern\u001b[39m.\u001b[39msearch(elem\u001b[39m.\u001b[39mdtype\u001b[39m.\u001b[39mstr) \u001b[39mis\u001b[39;00m \u001b[39mnot\u001b[39;00m \u001b[39mNone\u001b[39;00m:\n\u001b[1;32m--> 169\u001b[0m     \u001b[39mraise\u001b[39;00m \u001b[39mTypeError\u001b[39;00m(default_collate_err_msg_format\u001b[39m.\u001b[39mformat(elem\u001b[39m.\u001b[39mdtype))\n\u001b[0;32m    171\u001b[0m \u001b[39mreturn\u001b[39;00m collate([torch\u001b[39m.\u001b[39mas_tensor(b) \u001b[39mfor\u001b[39;00m b \u001b[39min\u001b[39;00m batch], collate_fn_map\u001b[39m=\u001b[39mcollate_fn_map)\n",
      "\u001b[1;31mTypeError\u001b[0m: default_collate: batch must contain tensors, numpy arrays, numbers, dicts or lists; found object"
     ]
    }
   ],
   "source": [
    "# cantidad de epochs\n",
    "epochs = 100\n",
    "\n",
    "train_loss_by_epoch=[]\n",
    "valid_loss_by_epoch=[]\n",
    "\n",
    "# Doble loop algoritmo Mini-Batch\n",
    "for epoch in range(epochs):\n",
    "  \n",
    "  ############################################\n",
    "  ## Entrenamiento\n",
    "  ############################################\n",
    "  nnet.train(True)\n",
    "\n",
    "  epoch_loss = 0\n",
    "  epoch_y_hat = []\n",
    "  epoch_y = []\n",
    "  \n",
    "  for i,data in enumerate(train_dataloader):\n",
    "    # Obtengo los datos del batch de entrenamiento\n",
    "    x_batch, y_batch = data\n",
    "    # Copio el batch al dispositivo donde entreno la red neuronal\n",
    "    x_batch = x_batch.to(device).float()\n",
    "    y_batch = y_batch.to(device).float().reshape(-1, 1)\n",
    "\n",
    "    # Paso forward\n",
    "    # Limpio optimizer para empezar un nuevo cálculo de gradiente\n",
    "    optimizer.zero_grad()\n",
    "    nnet_output = nnet(x_batch)\n",
    "    y_batch_hat = torch.sigmoid(nnet_output)\n",
    "    \n",
    "    # Calculo el loss\n",
    "    loss = loss_function(nnet_output, y_batch)\n",
    "\n",
    "    # Backpropagation\n",
    "    loss.backward()\n",
    "\n",
    "    # Actualizar los parámetros\n",
    "    optimizer.step()\n",
    "\n",
    "    # Almaceno los valores reales y mis predicciones para cálcular las métricas\n",
    "    epoch_y += list(y_batch.detach().cpu().numpy())\n",
    "    epoch_y_hat += list(y_batch_hat.detach().cpu().numpy())\n",
    "    # Acumulo la loss del batch\n",
    "    epoch_loss = epoch_loss + loss.item()\n",
    "\n",
    "  # Calculo la media de la loss\n",
    "  epoch_loss = epoch_loss / n_train\n",
    "  # Almaceno la loss de la epoch para graficar\n",
    "  train_loss_by_epoch.append(epoch_loss)\n",
    "  # Cálculo la métrica de la epoch\n",
    "  accuracy = metrics.accuracy_score(epoch_y, [j>=0.5 for j in epoch_y_hat])\n",
    "\n",
    "  ############################################\n",
    "  ## Validación\n",
    "  ############################################\n",
    "  # Desactivo el cálculo de gradiente para validación\n",
    "  nnet.train(False)\n",
    "\n",
    "  valid_epoch_loss = 0\n",
    "  valid_epoch_y_hat = []\n",
    "  valid_epoch_y = []\n",
    "\n",
    "  for i,data in enumerate(valid_dataloader):\n",
    "    # Obtengo los datos del batch de validación\n",
    "    x_batch, y_batch = data\n",
    "    # Copio el batch al dispositivo donde entreno la red neuronal\n",
    "    x_batch = x_batch.to(device).float()\n",
    "    y_batch = y_batch.to(device).float().reshape(-1, 1)\n",
    "\n",
    "    # Paso forward\n",
    "    nnet_output = nnet(x_batch)\n",
    "    y_batch_hat = torch.sigmoid(nnet_output)\n",
    "    \n",
    "    # Calculo el loss\n",
    "    loss = loss_function(nnet_output, y_batch)\n",
    "\n",
    "    # En validación no hago backpropagation!!\n",
    "\n",
    "    # Almaceno los valores reales y mis predicciones para cálcular las métricas\n",
    "    valid_epoch_y += list(y_batch.detach().cpu().numpy())\n",
    "    valid_epoch_y_hat += list(y_batch_hat.detach().cpu().numpy())\n",
    "    # Acumulo la loss del batch\n",
    "    valid_epoch_loss = valid_epoch_loss + loss.item()\n",
    "\n",
    "  # Calculo la media de la loss\n",
    "  valid_epoch_loss = valid_epoch_loss / n_valid\n",
    "  # Almaceno la loss de la epoch para graficar\n",
    "  valid_loss_by_epoch.append(valid_epoch_loss)\n",
    "  # Cálculo la métrica de la epoch\n",
    "  valid_accuracy = metrics.accuracy_score(valid_epoch_y, [j>=0.5 for j in valid_epoch_y_hat])\n",
    "\n",
    "  ############################################\n",
    "  ## Impresión de resultados por epoch\n",
    "  ############################################\n",
    "  print(f\" Epoch {epoch} | \" \\\n",
    "        f\"Train/Valid loss: {epoch_loss:.3f} / {valid_epoch_loss:.3f} | \" \\\n",
    "        f\"Train/Valid accuracy: {accuracy:.3f} / {valid_accuracy:.3f}\")"
   ]
  },
  {
   "cell_type": "code",
   "execution_count": 52,
   "metadata": {
    "colab": {
     "base_uri": "https://localhost:8080/",
     "height": 312
    },
    "id": "AOmgUAKKGH05",
    "outputId": "4d66afeb-299d-4df9-c682-4d473b3d0c5a"
   },
   "outputs": [
    {
     "data": {
      "text/plain": [
       "Text(0, 0.5, 'BCE')"
      ]
     },
     "execution_count": 52,
     "metadata": {},
     "output_type": "execute_result"
    },
    {
     "data": {
      "image/png": "[encoded data removed]",
      "text/plain": [
       "<Figure size 432x288 with 1 Axes>"
      ]
     },
     "metadata": {
      "needs_background": "light"
     },
     "output_type": "display_data"
    }
   ],
   "source": [
    "fig, ax1= plt.subplots(1,1)\n",
    "ax1.plot(train_loss_by_epoch, label=\"Train loss\")\n",
    "ax1.plot(valid_loss_by_epoch, label=\"Validation loss\")\n",
    "ax1.legend()\n",
    "ax1.set_title(\"Loss by epoch\")\n",
    "ax1.set_xlabel(\"epoch\")\n",
    "ax1.set_ylabel(\"BCE\")"
   ]
  },
  {
   "cell_type": "code",
   "execution_count": 51,
   "metadata": {
    "id": "qIxq7cfEMY2F"
   },
   "outputs": [],
   "source": []
  }
 ],
 "metadata": {
  "accelerator": "GPU",
  "colab": {
   "provenance": [],
   "toc_visible": true
  },
  "gpuClass": "standard",
  "kernelspec": {
   "display_name": "Python 3",
   "language": "python",
   "name": "python3"
  },
  "language_info": {
   "codemirror_mode": {
    "name": "ipython",
    "version": 3
   },
   "file_extension": ".py",
   "mimetype": "text/x-python",
   "name": "python",
   "nbconvert_exporter": "python",
   "pygments_lexer": "ipython3",
   "version": "3.11.2"
  }
 },
 "nbformat": 4,
 "nbformat_minor": 1
}
